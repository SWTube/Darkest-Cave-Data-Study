{
  "nbformat": 4,
  "nbformat_minor": 0,
  "metadata": {
    "colab": {
      "name": "masking_All.ipynb",
      "provenance": [],
      "collapsed_sections": []
    },
    "kernelspec": {
      "name": "python3",
      "display_name": "Python 3"
    },
    "language_info": {
      "name": "python"
    },
    "accelerator": "TPU"
  },
  "cells": [
    {
      "cell_type": "code",
      "metadata": {
        "colab": {
          "base_uri": "https://localhost:8080/"
        },
        "id": "wrA_BHth0-RR",
        "outputId": "07660a7d-bb30-46f6-951e-fee7e549713c"
      },
      "source": [
        "from google.colab import drive\n",
        "drive.mount('/content/drive')"
      ],
      "execution_count": 1,
      "outputs": [
        {
          "output_type": "stream",
          "text": [
            "Drive already mounted at /content/drive; to attempt to forcibly remount, call drive.mount(\"/content/drive\", force_remount=True).\n"
          ],
          "name": "stdout"
        }
      ]
    },
    {
      "cell_type": "code",
      "metadata": {
        "id": "KCdJVKyX2vYo"
      },
      "source": [
        "from google.colab.patches import cv2_imshow # cv2_imshow(img)\n",
        "import cv2\n",
        "import urllib.request\n",
        "import numpy as np\n",
        "import time\n",
        "import tensorflow as tf\n",
        "\n",
        "import matplotlib.pyplot as plt\n",
        "import matplotlib as mpl\n",
        "mpl.rcParams['figure.figsize'] = (12,12)\n",
        "mpl.rcParams['axes.grid'] = False\n",
        "import PIL.Image\n",
        "import matplotlib.image as img\n",
        "import IPython.display as display"
      ],
      "execution_count": 2,
      "outputs": []
    },
    {
      "cell_type": "code",
      "metadata": {
        "id": "aEhXKMY_Y61t"
      },
      "source": [
        "def model_layers(layer_names): # 전역 변수1, StyleContentModel에 이용\n",
        "    \"\"\" 중간층의 출력값을 배열로 반환하는 < > 모델을 만듭니다.\"\"\"\n",
        "    # 이미지넷 데이터셋에 사전학습된 < > 모델을 불러옵니다\n",
        "    vgg = tf.keras.applications.VGG19(include_top=False, weights='imagenet')\n",
        "    vgg.trainable = False\n",
        "    \n",
        "    outputs = [vgg.get_layer(name).output for name in layer_names]\n",
        "\n",
        "    model = tf.keras.Model([vgg.input], outputs)\n",
        "    return model"
      ],
      "execution_count": 3,
      "outputs": []
    },
    {
      "cell_type": "code",
      "metadata": {
        "id": "O42Vz0O_Zjxs"
      },
      "source": [
        "def gram_matrix(input_tensor): # StyleContentModel에 이용\n",
        "    result = tf.linalg.einsum('bijc,bijd->bcd', input_tensor, input_tensor)\n",
        "    input_shape = tf.shape(input_tensor)\n",
        "    num_locations = tf.cast(input_shape[1]*input_shape[2], tf.float32)\n",
        "    return result/(num_locations)"
      ],
      "execution_count": 4,
      "outputs": []
    },
    {
      "cell_type": "code",
      "metadata": {
        "id": "Sz3mmXZYNFXZ"
      },
      "source": [
        "def load_img(path_to_img): # main, 적역변수 1에 이용\n",
        "  max_dim = 512\n",
        "  img = tf.io.read_file(path_to_img)\n",
        "  img = tf.image.decode_image(img, channels=3)\n",
        "  img = tf.image.convert_image_dtype(img, tf.float32)\n",
        "\n",
        "  shape = tf.cast(tf.shape(img)[:-1], tf.float32)\n",
        "  long_dim = max(shape)\n",
        "  scale = max_dim / long_dim\n",
        "\n",
        "  new_shape = tf.cast(shape * scale, tf.int32)\n",
        "\n",
        "  img = tf.image.resize(img, new_shape)\n",
        "  img = img[tf.newaxis, :]\n",
        "  return img, new_shape"
      ],
      "execution_count": 5,
      "outputs": []
    },
    {
      "cell_type": "code",
      "metadata": {
        "id": "y1O-WdN1eNoq"
      },
      "source": [
        "# 전역 변수1 선언\n",
        "content_layers = ['block5_conv2']  # 전역변수 2 extractor에 이용\n",
        "style_layers = ['block1_conv1',\n",
        "                'block2_conv1',\n",
        "                'block3_conv1', \n",
        "                'block4_conv1', \n",
        "                'block5_conv1']     # 전역변수 2 extractor에 이용\n",
        "num_content_layers = len(content_layers) # style_content_loss 에 이용\n",
        "num_style_layers = len(style_layers) # style_content_loss 에 이용\n",
        "style_extractor = model_layers(style_layers)\n",
        "style_location = '/content/drive/MyDrive/Colab Notebooks/data/style/udnie.jpg'\n",
        "style_image, style_shape = load_img(style_location) # style_content_loss 에 이용\n",
        "style_outputs = style_extractor(style_image*255) # style_content_loss, StyleContentModel에 이용"
      ],
      "execution_count": 6,
      "outputs": []
    },
    {
      "cell_type": "code",
      "metadata": {
        "id": "VUfWCFwkOKLO"
      },
      "source": [
        "class StyleContentModel(tf.keras.models.Model): # 전역변수 2 extractor에 이용\n",
        "  def __init__(self, style_layers, content_layers):\n",
        "    super(StyleContentModel, self).__init__()\n",
        "    self.vgg =  model_layers(style_layers + content_layers)\n",
        "    self.style_layers = style_layers\n",
        "    self.content_layers = content_layers\n",
        "    self.num_style_layers = len(style_layers)\n",
        "    self.vgg.trainable = False\n",
        "\n",
        "  def call(self, inputs):\n",
        "    \"[0,1] 사이의 실수 값을 입력으로 받습니다\"\n",
        "    inputs = inputs*255.0\n",
        "    preprocessed_input = tf.keras.applications.vgg19.preprocess_input(inputs)\n",
        "    outputs = self.vgg(preprocessed_input)\n",
        "    style_outputs, content_outputs = (outputs[:self.num_style_layers], \n",
        "                                      outputs[self.num_style_layers:])\n",
        "\n",
        "    style_outputs = [gram_matrix(style_output)\n",
        "                     for style_output in style_outputs]\n",
        "\n",
        "    content_dict = {content_name:value \n",
        "                    for content_name, value \n",
        "                    in zip(self.content_layers, content_outputs)}\n",
        "\n",
        "    style_dict = {style_name:value\n",
        "                  for style_name, value\n",
        "                  in zip(self.style_layers, style_outputs)}\n",
        "    \n",
        "    return {'content':content_dict, 'style':style_dict}\n"
      ],
      "execution_count": 7,
      "outputs": []
    },
    {
      "cell_type": "code",
      "metadata": {
        "id": "0ML_rNcKgG-O"
      },
      "source": [
        "# 전역 변수2 선언\n",
        "extractor = StyleContentModel(style_layers, content_layers) # style_content_loss, train_step에 이용"
      ],
      "execution_count": 8,
      "outputs": []
    },
    {
      "cell_type": "code",
      "metadata": {
        "id": "iN3LzPrEZ5OT"
      },
      "source": [
        "def clip_0_1(image):  # train_step에 이용\n",
        "    return tf.clip_by_value(image, clip_value_min=0.0, clip_value_max=1.0)"
      ],
      "execution_count": 9,
      "outputs": []
    },
    {
      "cell_type": "code",
      "metadata": {
        "id": "2zA_zwCVaNCt"
      },
      "source": [
        "def style_content_loss(outputs):  # train_step에 이용\n",
        "    style_targets = extractor(style_image)['style']\n",
        "    content_targets = extractor(content_image)['content']\n",
        "    style_weight=1e-2\n",
        "    content_weight=1e4\n",
        "    style_outputs = outputs['style']\n",
        "    content_outputs = outputs['content']\n",
        "    style_loss = tf.add_n([tf.reduce_mean((style_outputs[name]-style_targets[name])**2) \n",
        "                        for name in style_outputs.keys()])\n",
        "    style_loss *= style_weight / num_style_layers\n",
        "\n",
        "    content_loss = tf.add_n([tf.reduce_mean((content_outputs[name]-content_targets[name])**2) \n",
        "                            for name in content_outputs.keys()])\n",
        "    content_loss *= content_weight / num_content_layers\n",
        "    loss = style_loss + content_loss\n",
        "    return loss"
      ],
      "execution_count": 10,
      "outputs": []
    },
    {
      "cell_type": "code",
      "metadata": {
        "id": "2X-u4t7eZ6px"
      },
      "source": [
        "# @tf.function()\n",
        "def train_step(image):  # get_transformed_img에 이용\n",
        "    with tf.GradientTape() as tape:\n",
        "        outputs = extractor(image)\n",
        "        loss = style_content_loss(outputs)\n",
        "\n",
        "    opt = tf.optimizers.Adam(learning_rate=0.02, beta_1=0.99, epsilon=1e-1)\n",
        "    grad = tape.gradient(loss, image)\n",
        "    opt.apply_gradients([(grad, image)])\n",
        "    image.assign(clip_0_1(image))"
      ],
      "execution_count": 11,
      "outputs": []
    },
    {
      "cell_type": "code",
      "metadata": {
        "id": "Ug6z7Am03DTS"
      },
      "source": [
        "def tensor_to_image(tensor): # get_transformed_img에 이용\n",
        "  tensor = tensor*255\n",
        "  tensor = np.array(tensor, dtype=np.uint8)\n",
        "  if np.ndim(tensor)>3:\n",
        "    assert tensor.shape[0] == 1\n",
        "    tensor = tensor[0]\n",
        "  return PIL.Image.fromarray(tensor)"
      ],
      "execution_count": 12,
      "outputs": []
    },
    {
      "cell_type": "code",
      "metadata": {
        "id": "hGurczy81Gjr"
      },
      "source": [
        "def get_transformed_img(content_image): # main에 이용    \n",
        "    image = tf.Variable(content_image)\n",
        "    \n",
        "    epochs = 3\n",
        "    steps_per_epoch = 1\n",
        "    step = 0\n",
        "    for n in range(epochs):\n",
        "        for m in range(steps_per_epoch):\n",
        "            step += 1\n",
        "            train_step(image)\n",
        "            print(\".\", end='')\n",
        "        # display.clear_output(wait=True)\n",
        "        # display.display(tensor_to_image(image))\n",
        "        # print(\"훈련 스텝: {}\".format(step)) \n",
        "    img_transformed = np.array(tensor_to_image(image))\n",
        "    return img_transformed"
      ],
      "execution_count": 13,
      "outputs": []
    },
    {
      "cell_type": "code",
      "metadata": {
        "colab": {
          "base_uri": "https://localhost:8080/"
        },
        "id": "_3MqyyMCHl3A",
        "outputId": "30ffb428-5819-41d3-8398-7ce2696f1b7f"
      },
      "source": [
        "# main 함수 디버깅 용\n",
        "location = '/content/drive/MyDrive/Colab Notebooks/data/knight/dash_2.png'\n",
        "url = 'https:' + '//assetstorev1-prd-cdn.unity3d.com/preview/01d0f4e2.e4f4f2d4-547f-47af-a24b-b0c46368f69b.png'\n",
        "urllib.request.urlretrieve(url, location)\n",
        "\n",
        "content_image, content_shape = load_img(location)\n",
        "img_transformed = get_transformed_img(content_image)\n",
        "origin_image = img.imread(location)"
      ],
      "execution_count": 18,
      "outputs": [
        {
          "output_type": "stream",
          "text": [
            "..."
          ],
          "name": "stdout"
        }
      ]
    },
    {
      "cell_type": "code",
      "metadata": {
        "colab": {
          "base_uri": "https://localhost:8080/",
          "height": 326
        },
        "id": "p0vmsiJT2sfB",
        "outputId": "3d1b33b3-db0e-4534-a3fb-595e26226dd5"
      },
      "source": [
        "'''\n",
        "# image urls\n",
        "dash_1 = '//assetstorev1-prd-cdn.unity3d.com/preview/01d0f4e0.11128ebc-b5af-4a57-9f30-7ff1248c7ee2.png'\n",
        "dash_2 = '//assetstorev1-prd-cdn.unity3d.com/preview/01d0f4e2.e4f4f2d4-547f-47af-a24b-b0c46368f69b.png'\n",
        "dash_3 = '//assetstorev1-prd-cdn.unity3d.com/preview/01d0f472.8fb14c53-318c-46dc-a7d6-190c6234f499.png'\n",
        "imgUrls = [dash_1, dash_2, dash_3]\n",
        "\n",
        "# for idx, elem in enumerate(imgUrls):\n",
        "idx = 1\n",
        "elem = dash_1\n",
        "    \n",
        "# original image download\n",
        "url = 'https:' + elem\n",
        "filename = 'dash_' + str(idx+1)\n",
        "location = f'/content/drive/MyDrive/Colab Notebooks/data/knight/{filename}.png'\n",
        "urllib.request.urlretrieve(url, location)\n",
        "\n",
        "# # style image download\n",
        "# style_url = 'http://artisty.co.kr/custom/img/upload/thumb/14018_m11_thumb.jpg'\n",
        "# style_location = '/content/drive/MyDrive/Colab Notebooks/data/style.png'\n",
        "# urllib.request.urlretrieve(style_url, style_location)\n",
        "# style_location = '/content/drive/MyDrive/Colab Notebooks/data/style/udnie.jpg'  # 전역변수 1\n",
        "'''\n",
        "# origin_image = img.imread(location)\n",
        "\n",
        "# # style transfer\n",
        "# content_image, content_shape = load_img(location) # content_shape : [256 512]\n",
        "# style_image, style_shape = load_img(style_location)\n",
        "# img_transformed = get_transformed_img(content_image, style_image)\n",
        "\n",
        "cv2.imwrite(location, img_transformed) # 덮어 쓰기  이거 이전에 origin_image 선언해야\n",
        "img_transformed = img.imread(location) # 저장하고 다시 읽는 이유 : 바로 img_transformed 변수 쓰니까 에러 뜸\n",
        "\n",
        "# model이 반환한 이미지와 사이즈 동일하게 origin image 변환\n",
        "shape = content_shape.numpy()\n",
        "x, y = shape\n",
        "origin_image_resized = cv2.resize(origin_image, dsize=(y,x))\n",
        "\n",
        "# add alpha channel\n",
        "final = cv2.cvtColor(img_transformed, cv2.COLOR_RGB2RGBA)\n",
        "print(np.unique(final[:,:,3]))\n",
        "alpha = origin_image_resized[:,:,3]\n",
        "final[:, :, 3] = alpha\n",
        "print(np.unique(final[:,:,3]))\n",
        "# cv2.imwrite(location, final) # 덮어 쓰기\n",
        "# print(f'{filename}.png saved Successfully')\n",
        "cv2_imshow(final)"
      ],
      "execution_count": 19,
      "outputs": [
        {
          "output_type": "stream",
          "text": [
            "[1.]\n",
            "[0.0000000e+00 6.1274513e-05 1.2254903e-04 ... 9.9987745e-01 9.9993873e-01\n",
            " 1.0000000e+00]\n"
          ],
          "name": "stdout"
        },
        {
          "output_type": "display_data",
          "data": {
            "image/png": "[encoded data removed]",
            "text/plain": [
              "<PIL.Image.Image image mode=RGBA size=512x256 at 0x7F37988460D0>"
            ]
          },
          "metadata": {
            "tags": []
          }
        }
      ]
    },
    {
      "cell_type": "code",
      "metadata": {
        "id": "7slI6vGJInIJ"
      },
      "source": [
        ""
      ],
      "execution_count": null,
      "outputs": []
    }
  ]
}