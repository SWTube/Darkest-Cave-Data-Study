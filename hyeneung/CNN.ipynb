{
 "cells": [
  {
   "cell_type": "markdown",
   "metadata": {},
   "source": [
    "### 1D 합성곱"
   ]
  },
  {
   "cell_type": "code",
   "execution_count": 1,
   "metadata": {},
   "outputs": [],
   "source": [
    "import numpy as np"
   ]
  },
  {
   "cell_type": "code",
   "execution_count": 2,
   "metadata": {},
   "outputs": [],
   "source": [
    "def conv1d(x,w,p=0,s=1):\n",
    "    w_rot = np.array(w[::-1])\n",
    "    x_padded = np.array(x)\n",
    "    if p > 0:\n",
    "        zero_pad = np.zeros(shape=p)\n",
    "        x_padded = np.concatenate([zero_pad,x_padded,zero_pad])\n",
    "    res =[]\n",
    "    # 합성곱 출력 동작 \n",
    "    for i in range(0,int(len(x)/s),s):\n",
    "        res.append(np.sum(x_padded[i:i+w_rot.shape[0]] * w_rot))\n",
    "    return np.array(res)"
   ]
  },
  {
   "cell_type": "code",
   "execution_count": 3,
   "metadata": {},
   "outputs": [
    {
     "name": "stdout",
     "output_type": "stream",
     "text": [
      "Conv1d :  [ 5. 14. 16. 26. 24. 34. 19. 22.]\n",
      "넘파이 결과 :  [ 5 14 16 26 24 34 19 22]\n"
     ]
    }
   ],
   "source": [
    "# 테스트\n",
    "x = [1,3,2,4,5,6,1,3]\n",
    "w = [1,0,3,1,2]\n",
    "print('Conv1d : ', conv1d(x,w,p=2, s=1))\n",
    "print('넘파이 결과 : ', np.convolve(x,w,mode='same'))"
   ]
  },
  {
   "cell_type": "markdown",
   "metadata": {},
   "source": [
    "### 2D 합성곱"
   ]
  },
  {
   "cell_type": "code",
   "execution_count": 4,
   "metadata": {},
   "outputs": [],
   "source": [
    "import scipy.signal"
   ]
  },
  {
   "cell_type": "code",
   "execution_count": 9,
   "metadata": {},
   "outputs": [],
   "source": [
    "def conv2d(x,w,p=(0,0),s=(1,1)):\n",
    "    w_rot = np.array(w)[::-1, ::-1]\n",
    "    x_orig = np.array(x)\n",
    "    n1 = x_orig.shape[0] + 2*p[0]\n",
    "    n2 = x_orig.shape[1] + 2*p[1]\n",
    "    x_padded = np.zeros(shape=(n1,n2))\n",
    "    x_padded[p[0]:p[0]+ x_orig.shape[0], p[1]:p[1]+ x_orig.shape[1]] = x_orig\n",
    "    \n",
    "    res =[]\n",
    "    for i in range(0, int((x_padded.shape[0] -\\\n",
    "                          w_rot.shape[0])/s[0])+1, s[0]):\n",
    "        res.append([])\n",
    "        for j in range(0, int((x_padded.shape[1] -\\\n",
    "                              w_rot.shape[1])/s[1])+1, s[1]):\n",
    "            x_sub = x_padded[i:i+w_rot.shape[0],\n",
    "                             j:j+w_rot.shape[1]]\n",
    "            res[-1].append(np.sum(x_sub * w_rot))\n",
    "    return np.array(res)"
   ]
  },
  {
   "cell_type": "code",
   "execution_count": 10,
   "metadata": {
    "scrolled": false
   },
   "outputs": [
    {
     "name": "stdout",
     "output_type": "stream",
     "text": [
      "conv2d : \n",
      " [[11. 25. 32. 13.]\n",
      " [19. 25. 24. 13.]\n",
      " [13. 28. 25. 17.]\n",
      " [11. 17. 14.  9.]]\n",
      "scipy : \n",
      " [[11 25 32 13]\n",
      " [19 25 24 13]\n",
      " [13 28 25 17]\n",
      " [11 17 14  9]]\n"
     ]
    }
   ],
   "source": [
    "x = [[1,3,2,4], [5,6,1,3], [1,2,0,2], [3,4,3,2]]\n",
    "w = [[1,0,3],[1,2,1],[0,1,1]]\n",
    "print('conv2d : \\n', conv2d(x,w,p=(1,1), s=(1,1)))\n",
    "print('scipy : \\n', scipy.signal.convolve2d(x,w,mode='same'))"
   ]
  },
  {
   "cell_type": "markdown",
   "metadata": {},
   "source": [
    "### 다층 신경망"
   ]
  },
  {
   "cell_type": "code",
   "execution_count": 14,
   "metadata": {},
   "outputs": [],
   "source": [
    "import tensorflow as tf"
   ]
  },
  {
   "cell_type": "code",
   "execution_count": 15,
   "metadata": {},
   "outputs": [
    {
     "name": "stdout",
     "output_type": "stream",
     "text": [
      "Downloading data from https://storage.googleapis.com/tensorflow/tf-keras-datasets/mnist.npz\n",
      "11493376/11490434 [==============================] - 7s 1us/step\n",
      "행: 60000, 열: 28\n",
      "행: 10000, 열: 28\n",
      "훈련 세트:  (50000, 28, 28) (50000,)\n",
      "검증 세트:  (10000, 28, 28) (10000,)\n",
      "테스트 세트:  (10000, 28, 28) (10000,)\n"
     ]
    }
   ],
   "source": [
    "(x_data, y_data), (x_test, y_test) = tf.keras.datasets.mnist.load_data()\n",
    "print('행: {}, 열: {}'.format(x_data.shape[0], x_data.shape[1]))\n",
    "print('행: {}, 열: {}'.format(x_test.shape[0], x_test.shape[1]))\n",
    "x_train, y_train = x_data[:50000,:], y_data[:50000]\n",
    "x_valid, y_valid = x_data[50000:,:], y_data[50000:]\n",
    "print('훈련 세트: ', x_train.shape, y_train.shape)\n",
    "print('검증 세트: ', x_valid.shape, y_valid.shape)\n",
    "print('테스트 세트: ', x_test.shape, y_test.shape)"
   ]
  },
  {
   "cell_type": "code",
   "execution_count": 16,
   "metadata": {},
   "outputs": [],
   "source": [
    "mean_vals = np.mean(x_train, axis=0)\n",
    "std_val = np.std(x_train)\n",
    "\n",
    "x_train_centered = (x_train - mean_vals)/std_val\n",
    "x_valid_centered = (x_valid - mean_vals)/std_val\n",
    "x_test_centered = (x_test - mean_vals)/std_val\n",
    "\n",
    "x_train_centered = x_train_centered.reshape((-1,28,28,1))\n",
    "x_valid_centered = x_valid_centered.reshape((-1,28,28,1))\n",
    "x_test_centered = x_test_centered.reshape((-1,28,28,1))"
   ]
  },
  {
   "cell_type": "code",
   "execution_count": 17,
   "metadata": {},
   "outputs": [],
   "source": [
    "from tensorflow.keras.utils import to_categorical"
   ]
  },
  {
   "cell_type": "code",
   "execution_count": 18,
   "metadata": {},
   "outputs": [],
   "source": [
    "y_train_onehot = to_categorical(y_train)\n",
    "y_valid_onehot = to_categorical(y_valid)\n",
    "y_test_onehot = to_categorical(y_test)"
   ]
  },
  {
   "cell_type": "code",
   "execution_count": 20,
   "metadata": {},
   "outputs": [
    {
     "name": "stdout",
     "output_type": "stream",
     "text": [
      "훈련세트:  (50000, 28, 28, 1) (50000, 10)\n",
      "검증세트:  (10000, 28, 28, 1) (10000, 10)\n",
      "훈련세트:  (10000, 28, 28, 1) (10000, 10)\n"
     ]
    }
   ],
   "source": [
    "print('훈련세트: ', x_train_centered.shape, y_train_onehot.shape)\n",
    "print('검증세트: ', x_valid_centered.shape, y_valid_onehot.shape)\n",
    "print('훈련세트: ', x_test_centered.shape, y_test_onehot.shape)"
   ]
  },
  {
   "cell_type": "code",
   "execution_count": 26,
   "metadata": {},
   "outputs": [],
   "source": [
    "from tensorflow.keras import layers, models"
   ]
  },
  {
   "cell_type": "code",
   "execution_count": 29,
   "metadata": {},
   "outputs": [
    {
     "name": "stdout",
     "output_type": "stream",
     "text": [
      "Model: \"sequential_3\"\n",
      "_________________________________________________________________\n",
      "Layer (type)                 Output Shape              Param #   \n",
      "=================================================================\n",
      "conv2d_6 (Conv2D)            (None, 24, 24, 32)        832       \n",
      "_________________________________________________________________\n",
      "max_pooling2d_3 (MaxPooling2 (None, 12, 12, 32)        0         \n",
      "_________________________________________________________________\n",
      "conv2d_7 (Conv2D)            (None, 8, 8, 64)          51264     \n",
      "_________________________________________________________________\n",
      "max_pooling2d_4 (MaxPooling2 (None, 4, 4, 64)          0         \n",
      "_________________________________________________________________\n",
      "flatten (Flatten)            (None, 1024)              0         \n",
      "_________________________________________________________________\n",
      "dense (Dense)                (None, 1024)              1049600   \n",
      "_________________________________________________________________\n",
      "dense_1 (Dense)              (None, 10)                10250     \n",
      "=================================================================\n",
      "Total params: 1,111,946\n",
      "Trainable params: 1,111,946\n",
      "Non-trainable params: 0\n",
      "_________________________________________________________________\n"
     ]
    }
   ],
   "source": [
    "model = models.Sequential()\n",
    "model.add(layers.Conv2D(32,(5,5), padding='valid', activation='relu', input_shape=(28,28,1)))\n",
    "model.add(layers.MaxPool2D((2,2)))\n",
    "model.add(layers.Conv2D(64,(5,5), padding='valid', activation='relu'))\n",
    "model.add(layers.MaxPool2D((2,2)))\n",
    "model.add(layers.Flatten())\n",
    "model.add(layers.Dense(1024, activation='relu'))\n",
    "model.add(layers.Dense(10,activation='softmax'))\n",
    "model.summary()"
   ]
  },
  {
   "cell_type": "code",
   "execution_count": 30,
   "metadata": {},
   "outputs": [],
   "source": [
    "model.compile(loss='categorical_crossentropy', optimizer='adam',metrics=['acc'])"
   ]
  },
  {
   "cell_type": "code",
   "execution_count": 31,
   "metadata": {},
   "outputs": [],
   "source": [
    "# import time\n",
    "# from tensorflow.keras.callbacks import ModelCheckpoint, TensorBoard"
   ]
  },
  {
   "cell_type": "code",
   "execution_count": 45,
   "metadata": {},
   "outputs": [
    {
     "name": "stdout",
     "output_type": "stream",
     "text": [
      "Epoch 1/5\n",
      "782/782 [==============================] - 37s 47ms/step - loss: 0.0077 - acc: 0.9977 - val_loss: 0.0755 - val_acc: 0.9880\n",
      "Epoch 2/5\n",
      "782/782 [==============================] - 41s 53ms/step - loss: 0.0106 - acc: 0.9968 - val_loss: 0.0489 - val_acc: 0.9912\n",
      "Epoch 3/5\n",
      "782/782 [==============================] - 36s 46ms/step - loss: 0.0078 - acc: 0.9976 - val_loss: 0.0466 - val_acc: 0.9920\n",
      "Epoch 4/5\n",
      "782/782 [==============================] - 37s 47ms/step - loss: 0.0099 - acc: 0.9968 - val_loss: 0.0460 - val_acc: 0.9922\n",
      "Epoch 5/5\n",
      "782/782 [==============================] - 34s 44ms/step - loss: 0.0055 - acc: 0.9985 - val_loss: 0.0428 - val_acc: 0.9917\n"
     ]
    }
   ],
   "source": [
    "# callback_list = [ModelCheckpoint(filepath='cnn_checkpoint.h5',\n",
    "#                                  monitor='val_loss',\n",
    "#                                  save_best_only=True),\n",
    "#                  TensorBoard(log_dir='logs' + '\\{}'.format(time.asctime()))]\n",
    "\n",
    "history = model.fit(x_train_centered, y_train_onehot,\n",
    "                    batch_size=64, epochs=5,\n",
    "                    validation_data=(x_valid_centered, y_valid_onehot))"
   ]
  },
  {
   "cell_type": "code",
   "execution_count": 46,
   "metadata": {},
   "outputs": [],
   "source": [
    "import matplotlib.pyplot as plt"
   ]
  },
  {
   "cell_type": "code",
   "execution_count": 59,
   "metadata": {},
   "outputs": [
    {
     "data": {
      "image/png": "[encoded data removed]",
      "text/plain": [
       "<Figure size 432x288 with 1 Axes>"
      ]
     },
     "metadata": {
      "needs_background": "light"
     },
     "output_type": "display_data"
    }
   ],
   "source": [
    "epochs = np.arange(1,6)\n",
    "plt.plot(epochs, history.history['loss'])\n",
    "plt.plot(epochs, history.history['val_loss'])\n",
    "plt.xlabel('epochs')\n",
    "plt.ylabel('loss')\n",
    "plt.show()"
   ]
  },
  {
   "cell_type": "code",
   "execution_count": 60,
   "metadata": {},
   "outputs": [
    {
     "data": {
      "image/png": "[encoded data removed]",
      "text/plain": [
       "<Figure size 432x288 with 1 Axes>"
      ]
     },
     "metadata": {
      "needs_background": "light"
     },
     "output_type": "display_data"
    }
   ],
   "source": [
    "plt.plot(epochs, history.history['acc'])\n",
    "plt.plot(epochs, history.history['val_acc'])\n",
    "plt.xlabel('epochs')\n",
    "plt.ylabel('accuracy')\n",
    "plt.show()"
   ]
  }
 ],
 "metadata": {
  "kernelspec": {
   "display_name": "Python 3",
   "language": "python",
   "name": "python3"
  },
  "language_info": {
   "codemirror_mode": {
    "name": "ipython",
    "version": 3
   },
   "file_extension": ".py",
   "mimetype": "text/x-python",
   "name": "python",
   "nbconvert_exporter": "python",
   "pygments_lexer": "ipython3",
   "version": "3.8.5"
  }
 },
 "nbformat": 4,
 "nbformat_minor": 4
}
