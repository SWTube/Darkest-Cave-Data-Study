{
 "cells": [
  {
   "cell_type": "markdown",
   "metadata": {},
   "source": [
    "## 0. 목차"
   ]
  },
  {
   "cell_type": "markdown",
   "metadata": {},
   "source": [
    "1. tensor와 rank\n",
    "2. tensorflow의 변수 선언\n",
    "3. tensorflow methods (변수 다루기)\n",
    "4. 선형 회귀 모델 구현"
   ]
  },
  {
   "cell_type": "markdown",
   "metadata": {},
   "source": [
    "## 1. tensor와 rank\n",
    "- 텐서(tensor) : 스칼라, 벡터, 행렬이 일반화된 것\n",
    "- 랭크(rank) : 텐서의 차원"
   ]
  },
  {
   "cell_type": "code",
   "execution_count": 4,
   "metadata": {},
   "outputs": [],
   "source": [
    "import tensorflow as tf\n",
    "import numpy as np"
   ]
  },
  {
   "cell_type": "code",
   "execution_count": 5,
   "metadata": {
    "scrolled": true
   },
   "outputs": [
    {
     "name": "stdout",
     "output_type": "stream",
     "text": [
      "<class 'tensorflow.python.framework.ops.EagerTensor'>\n",
      "3\n",
      "tf.Tensor([1 2 3 4], shape=(4,), dtype=int32)\n",
      "[1 2 3 4]\n",
      "<class 'tensorflow.python.framework.ops.EagerTensor'>\n",
      "tf.Tensor(0, shape=(), dtype=int32)\n",
      "랭크: 0 1 2\n",
      "크기: () (4,) (2, 2)\n"
     ]
    }
   ],
   "source": [
    "# t1, t2, t3 텐서(변하지 않음) 정의\n",
    "t1 = tf.constant(3)\n",
    "t2 = tf.constant([1,2,3,4])\n",
    "t3 = tf.constant([[1,2], [3,4]])\n",
    "\n",
    "# 랭크 구하기\n",
    "r1 = tf.rank(t1)\n",
    "r2 = tf.rank(t2)\n",
    "r3 = tf.rank(t3)\n",
    "\n",
    "# 크기 구하기 n * m\n",
    "s1 = t1.get_shape()\n",
    "s2 = t2.get_shape()\n",
    "s3 = t3.get_shape()\n",
    "\n",
    "print(type(t1))\n",
    "print(t1.numpy())\n",
    "print(t2)\n",
    "print(t2.numpy()) # numpy()는 tf.Tensor의 첫 번째 element 또는 tf.Variable의 numpy 매개변수를 꺼낼 때 사용\n",
    "print(type(r1))\n",
    "print(r1)\n",
    "print('랭크:', r1.numpy(), r2.numpy(), r3.numpy())\n",
    "print('크기:', s1, s2, s3)"
   ]
  },
  {
   "cell_type": "code",
   "execution_count": 6,
   "metadata": {},
   "outputs": [
    {
     "name": "stdout",
     "output_type": "stream",
     "text": [
      "tf.Tensor(\n",
      "[[1.  2.  3.  3.5]\n",
      " [4.  5.  6.  6.5]\n",
      " [7.  8.  9.  9.5]], shape=(3, 4), dtype=float64)\n",
      "\n",
      " <class 'tensorflow.python.framework.tensor_shape.TensorShape'>\n",
      "t1의 크기 :  (3, 4)\n",
      "\n",
      " <class 'tensorflow.python.framework.tensor_shape.TensorShape'>\n",
      "t1의 크기 :  (3, 4)\n",
      "\n",
      " <class 'tensorflow.python.ops.resource_variable_ops.ResourceVariable'>\n",
      "<tf.Variable 'Variable:0' shape=(3, 4) dtype=float64, numpy=\n",
      "array([[ 0.01368775, -0.64371324,  0.07459327,  0.03886867],\n",
      "       [ 1.38113735, -1.10343232,  1.19633345,  0.92566879],\n",
      "       [ 0.00213338, -1.46271726,  0.26427025,  0.25825512]])>\n",
      "\n",
      " [-0.71630322 -0.58920561  0.49321725]\n"
     ]
    }
   ],
   "source": [
    "arr = np.array([[1., 2., 3., 3.5],\n",
    "               [4., 5., 6., 6.5],\n",
    "               [7., 8., 9., 9.5]])\n",
    "t1 = tf.constant(arr)\n",
    "print(t1)\n",
    "s = t1.get_shape()\n",
    "\n",
    "print('\\n', type(s))\n",
    "print('t1의 크기 : ', s)\n",
    "print('\\n', type(t1.shape))\n",
    "print('t1의 크기 : ', t1.shape)\n",
    "\n",
    "t2 = tf.Variable(np.random.normal(size=s))\n",
    "print('\\n', type(t2))\n",
    "print(t2)                        # s = (3, 4)\n",
    "t3 = tf.Variable(np.random.normal(size=s[0])) # shqpe나 get_shape()의 반환값을 인덱스로 접근 가능\n",
    "print('\\n', t3.numpy())"
   ]
  },
  {
   "cell_type": "markdown",
   "metadata": {},
   "source": [
    "## 2. tensorflow의 변수 선언"
   ]
  },
  {
   "cell_type": "markdown",
   "metadata": {},
   "source": [
    "- 텐서플로우에서 변수는 특별한 종류의 텐서 객체이다. \n",
    "- 훈련 과정 동안 모델 파라미터를 저장하고 업데이트할 수 있다.\n",
    "- 변수를 정의할 때 초기 텐서 값을 지정해 주어야 한다."
   ]
  },
  {
   "cell_type": "code",
   "execution_count": 7,
   "metadata": {},
   "outputs": [
    {
     "name": "stdout",
     "output_type": "stream",
     "text": [
      "<tf.Variable 'w:0' shape=(2, 4) dtype=int32, numpy=\n",
      "array([[1, 2, 3, 4],\n",
      "       [5, 6, 7, 8]])>\n"
     ]
    }
   ],
   "source": [
    "# 변수 정의 방법\n",
    "# tf.Variable( <initial-value> , name=<optional-name> )\n",
    "w = tf.Variable(np.array([[1, 2, 3, 4], \n",
    "                          [5, 6, 7, 8]]), name='w')\n",
    "print(w)"
   ]
  },
  {
   "cell_type": "code",
   "execution_count": 8,
   "metadata": {},
   "outputs": [
    {
     "name": "stdout",
     "output_type": "stream",
     "text": [
      "tf.Tensor(\n",
      "[[False False]\n",
      " [False False]], shape=(2, 2), dtype=bool)\n"
     ]
    }
   ],
   "source": [
    "my_tensor = tf.constant([[1.0, 2.0], [3.0, 4.0]])\n",
    "# 이름은 같지만 element들이 다르다\n",
    "a = tf.Variable(my_tensor, name=\"Mark\")\n",
    "b = tf.Variable(my_tensor + 1, name=\"Mark\")\n",
    "\n",
    "print(a == b)"
   ]
  },
  {
   "cell_type": "markdown",
   "metadata": {},
   "source": [
    "* tf.constant([1,2])는 상수 // tf.Variable([1,2])는 변수"
   ]
  },
  {
   "cell_type": "markdown",
   "metadata": {},
   "source": [
    "## 3. tensorflow methods (변수 다루기)"
   ]
  },
  {
   "cell_type": "code",
   "execution_count": 9,
   "metadata": {},
   "outputs": [
    {
     "name": "stdout",
     "output_type": "stream",
     "text": [
      "<class 'numpy.ndarray'>\n"
     ]
    }
   ],
   "source": [
    "# 0~17 범위의 숫자를 랭크 3 텐서, 즉 3차원 배열(3 * 2 * 3)에 할당 \n",
    "arr = np.arange(18).reshape(3,2,3)\n",
    "print(type(arr))"
   ]
  },
  {
   "cell_type": "markdown",
   "metadata": {},
   "source": [
    "### 3.1 tf.reshape"
   ]
  },
  {
   "cell_type": "code",
   "execution_count": 10,
   "metadata": {
    "scrolled": true
   },
   "outputs": [
    {
     "name": "stdout",
     "output_type": "stream",
     "text": [
      "<class 'tensorflow.python.framework.ops.EagerTensor'>\n",
      "tf.Tensor(\n",
      "[[ 0  1  2]\n",
      " [ 3  4  5]\n",
      " [ 6  7  8]\n",
      " [ 9 10 11]\n",
      " [12 13 14]\n",
      " [15 16 17]], shape=(6, 3), dtype=int32)\n",
      "\n",
      " tf.Tensor(\n",
      "[[[ 0  1]\n",
      "  [ 2  3]\n",
      "  [ 4  5]]\n",
      "\n",
      " [[ 6  7]\n",
      "  [ 8  9]\n",
      "  [10 11]]\n",
      "\n",
      " [[12 13]\n",
      "  [14 15]\n",
      "  [16 17]]], shape=(3, 3, 2), dtype=int32)\n"
     ]
    }
   ],
   "source": [
    "# 텐서 크기를 바꿈  ** tf.reshape의 반환 타입은 tf.constant(상수)이다 **  \n",
    "new_arr = tf.reshape(arr, shape=(6, -1))\n",
    "print(type(new_arr))\n",
    "print(new_arr)\n",
    "# new_arr1 대신에 new_arr쓰면 오류 뜸\n",
    "new_arr1 = tf.reshape(arr, shape=(3,3,2))\n",
    "print('\\n', new_arr1)"
   ]
  },
  {
   "cell_type": "markdown",
   "metadata": {},
   "source": [
    "### 3.2 tf.transpose"
   ]
  },
  {
   "cell_type": "code",
   "execution_count": 11,
   "metadata": {},
   "outputs": [
    {
     "name": "stdout",
     "output_type": "stream",
     "text": [
      "tf.Tensor(\n",
      "[[[ 0  1  2  3  4]\n",
      "  [ 5  6  7  8  9]\n",
      "  [10 11 12 13 14]]\n",
      "\n",
      " [[15 16 17 18 19]\n",
      "  [20 21 22 23 24]\n",
      "  [25 26 27 28 29]]], shape=(2, 3, 5), dtype=int32)\n",
      "tf.Tensor(\n",
      "[[[ 0 15]\n",
      "  [ 5 20]\n",
      "  [10 25]]\n",
      "\n",
      " [[ 1 16]\n",
      "  [ 6 21]\n",
      "  [11 26]]\n",
      "\n",
      " [[ 2 17]\n",
      "  [ 7 22]\n",
      "  [12 27]]\n",
      "\n",
      " [[ 3 18]\n",
      "  [ 8 23]\n",
      "  [13 28]]\n",
      "\n",
      " [[ 4 19]\n",
      "  [ 9 24]\n",
      "  [14 29]]], shape=(5, 3, 2), dtype=int32)\n"
     ]
    }
   ],
   "source": [
    "# transpose\n",
    "before_transpose = tf.constant(np.arange(30).reshape(2,3,5))\n",
    "print(before_transpose)\n",
    "after_transpose = tf.transpose(before_transpose, perm=[2, 1, 0]) #  reshape(5, 3, 2) -> 숫자 위치는 바꿔도 숫자 자체는 못바꿈\n",
    "print(after_transpose)"
   ]
  },
  {
   "cell_type": "markdown",
   "metadata": {},
   "source": [
    "### 3.3 tf.split"
   ]
  },
  {
   "cell_type": "code",
   "execution_count": 12,
   "metadata": {
    "scrolled": true
   },
   "outputs": [
    {
     "name": "stdout",
     "output_type": "stream",
     "text": [
      "[<tf.Tensor: shape=(1, 3, 5), dtype=int32, numpy=\n",
      "array([[[ 0,  1,  2,  3,  4],\n",
      "        [ 5,  6,  7,  8,  9],\n",
      "        [10, 11, 12, 13, 14]]])>, <tf.Tensor: shape=(1, 3, 5), dtype=int32, numpy=\n",
      "array([[[15, 16, 17, 18, 19],\n",
      "        [20, 21, 22, 23, 24],\n",
      "        [25, 26, 27, 28, 29]]])>]\n",
      "\n",
      " [<tf.Tensor: shape=(2, 3, 2), dtype=int32, numpy=\n",
      "array([[[ 0,  1],\n",
      "        [ 5,  6],\n",
      "        [10, 11]],\n",
      "\n",
      "       [[15, 16],\n",
      "        [20, 21],\n",
      "        [25, 26]]])>, <tf.Tensor: shape=(2, 3, 3), dtype=int32, numpy=\n",
      "array([[[ 2,  3,  4],\n",
      "        [ 7,  8,  9],\n",
      "        [12, 13, 14]],\n",
      "\n",
      "       [[17, 18, 19],\n",
      "        [22, 23, 24],\n",
      "        [27, 28, 29]]])>]\n",
      "\n",
      " tf.Tensor(\n",
      "[[[ 0  1]\n",
      "  [ 5  6]\n",
      "  [10 11]]\n",
      "\n",
      " [[15 16]\n",
      "  [20 21]\n",
      "  [25 26]]], shape=(2, 3, 2), dtype=int32)\n",
      "\n",
      " tf.Tensor(\n",
      "[[[ 2  3  4]\n",
      "  [ 7  8  9]\n",
      "  [12 13 14]]\n",
      "\n",
      " [[17 18 19]\n",
      "  [22 23 24]\n",
      "  [27 28 29]]], shape=(2, 3, 3), dtype=int32)\n"
     ]
    }
   ],
   "source": [
    "# split\n",
    "before_split = tf.constant(np.arange(30).reshape(2,3,5))\n",
    "after_split1 = tf.split(before_split, num_or_size_splits=2, axis=0) # 2 * 3 * 5 를 1 * 3 * 5의 동일한 크기 두 개로 나눔\n",
    "after_split2 = tf.split(before_split, num_or_size_splits=[2, 3], axis=2) # 2 * 3 * 5 를 2*3*2, 2*3*3 로 나눔\n",
    "print(after_split1)\n",
    "print('\\n', after_split2)\n",
    "print('\\n', after_split2[0])\n",
    "print('\\n', after_split2[1])"
   ]
  },
  {
   "cell_type": "markdown",
   "metadata": {},
   "source": [
    "### 3.4 tf.concat"
   ]
  },
  {
   "cell_type": "code",
   "execution_count": 13,
   "metadata": {
    "scrolled": true
   },
   "outputs": [
    {
     "name": "stdout",
     "output_type": "stream",
     "text": [
      "tf.Tensor(\n",
      "[[1.]\n",
      " [1.]\n",
      " [1.]\n",
      " [1.]\n",
      " [1.]\n",
      " [0.]\n",
      " [0.]\n",
      " [0.]\n",
      " [0.]\n",
      " [0.]], shape=(10, 1), dtype=float32)\n",
      "tf.Tensor(\n",
      "[[1. 0.]\n",
      " [1. 0.]\n",
      " [1. 0.]\n",
      " [1. 0.]\n",
      " [1. 0.]], shape=(5, 2), dtype=float32)\n"
     ]
    }
   ],
   "source": [
    "# concat\n",
    "t1 = tf.ones(shape=(5,1), dtype=tf.float32)\n",
    "t2 = tf.zeros(shape=(5,1), dtype=tf.float32)\n",
    "after_concat1 = tf.concat([t1,t2], axis=0)\n",
    "after_concat2 = tf.concat([t1,t2], axis=1)\n",
    "print(after_concat1)\n",
    "print(after_concat2)"
   ]
  },
  {
   "cell_type": "markdown",
   "metadata": {},
   "source": [
    "### 3.5 사칙 연산"
   ]
  },
  {
   "cell_type": "code",
   "execution_count": 14,
   "metadata": {},
   "outputs": [
    {
     "name": "stdout",
     "output_type": "stream",
     "text": [
      "tf.Tensor(\n",
      "[[2 3]\n",
      " [4 5]], shape=(2, 2), dtype=int32) \n",
      "\n",
      "tf.Tensor(\n",
      "[[1 2]\n",
      " [3 4]], shape=(2, 2), dtype=int32) \n",
      "\n",
      "tf.Tensor(\n",
      "[[3 3]\n",
      " [7 7]], shape=(2, 2), dtype=int32) \n",
      "\n"
     ]
    }
   ],
   "source": [
    "a = tf.constant([[1, 2],\n",
    "                 [3, 4]])\n",
    "b = tf.constant([[1, 1],\n",
    "                 [1, 1]])\n",
    "\n",
    "print(tf.add(a, b), \"\\n\")\n",
    "print(tf.multiply(a, b), \"\\n\")\n",
    "print(tf.matmul(a, b), \"\\n\")"
   ]
  },
  {
   "cell_type": "code",
   "execution_count": 15,
   "metadata": {
    "scrolled": false
   },
   "outputs": [
    {
     "name": "stdout",
     "output_type": "stream",
     "text": [
      "tf.Tensor(\n",
      "[[2 3]\n",
      " [4 5]], shape=(2, 2), dtype=int32) \n",
      "\n",
      "tf.Tensor(\n",
      "[[1 2]\n",
      " [3 4]], shape=(2, 2), dtype=int32) \n",
      "\n",
      "tf.Tensor(\n",
      "[[3 3]\n",
      " [7 7]], shape=(2, 2), dtype=int32) \n",
      "\n"
     ]
    }
   ],
   "source": [
    "print(a + b, \"\\n\")  \n",
    "print(a * b, \"\\n\")  \n",
    "print(a @ b, \"\\n\") # 행렬곱"
   ]
  },
  {
   "cell_type": "code",
   "execution_count": 16,
   "metadata": {
    "scrolled": true
   },
   "outputs": [
    {
     "name": "stdout",
     "output_type": "stream",
     "text": [
      "\n",
      " <class 'tensorflow.python.framework.ops.EagerTensor'>\n",
      "tf.Tensor(153, shape=(), dtype=int32)\n",
      "\n",
      "입력 크기:  (3, 2, 3)\n",
      "크기가 변경된 입력:\n",
      " [[ 0  1  2]\n",
      " [ 3  4  5]\n",
      " [ 6  7  8]\n",
      " [ 9 10 11]\n",
      " [12 13 14]\n",
      " [15 16 17]]\n",
      "열의 합:\n",
      "  [45 51 57]\n",
      "행의 합:\n",
      " [ 3 12 21 30 39 48]\n",
      "열의 평균:\n",
      " [7 8 9]\n"
     ]
    }
   ],
   "source": [
    "# 각 열의 합을 계산\n",
    "sum_col = tf.reduce_sum(new_arr, axis=0) # axis: 축소될 차원을 지정 \n",
    "print('\\n', type(sum_col))\n",
    "# 각 행의 합을 계산\n",
    "sum_row = tf.reduce_sum(new_arr, axis=1)\n",
    "# 각 열의 평균을 계산\n",
    "mean_col = tf.reduce_mean(new_arr, axis=0)\n",
    "\n",
    "a = tf.reduce_sum(new_arr) # axis 매개변수의 기본값은 None으로, 모든 차원을 축소해 스칼라(rank 0인 텐서)를 반환\n",
    "print(a)\n",
    "\n",
    "print('\\n입력 크기: ', arr.shape)\n",
    "print('크기가 변경된 입력:\\n', new_arr.numpy())\n",
    "print('열의 합:\\n ', sum_col.numpy())\n",
    "print('행의 합:\\n', sum_row.numpy())\n",
    "print('열의 평균:\\n', mean_col.numpy())"
   ]
  },
  {
   "cell_type": "code",
   "execution_count": 17,
   "metadata": {},
   "outputs": [
    {
     "name": "stdout",
     "output_type": "stream",
     "text": [
      "tf.Tensor([2 4 6], shape=(3,), dtype=int32)\n",
      "tf.Tensor([2 4 6], shape=(3,), dtype=int32)\n",
      "tf.Tensor([2 4 6], shape=(3,), dtype=int32)\n"
     ]
    }
   ],
   "source": [
    "x = tf.constant([1, 2, 3])\n",
    "y = tf.constant(2)\n",
    "z = tf.constant([2, 2, 2])\n",
    "\n",
    "# 모두 같은 계산\n",
    "print(tf.multiply(x, 2))\n",
    "print(x * y)\n",
    "print(x * z)"
   ]
  },
  {
   "cell_type": "code",
   "execution_count": 18,
   "metadata": {},
   "outputs": [
    {
     "name": "stdout",
     "output_type": "stream",
     "text": [
      "tf.Tensor(\n",
      "[[1]\n",
      " [2]\n",
      " [3]], shape=(3, 1), dtype=int32) \n",
      "\n",
      "tf.Tensor([1 2 3 4], shape=(4,), dtype=int32) \n",
      "\n",
      "tf.Tensor(\n",
      "[[ 1  2  3  4]\n",
      " [ 2  4  6  8]\n",
      " [ 3  6  9 12]], shape=(3, 4), dtype=int32)\n"
     ]
    }
   ],
   "source": [
    "# 3x1 1x5의 행렬곱 (확장, 브로드캐스팅)\n",
    "x = tf.reshape(x,[3,1])\n",
    "y = tf.range(1, 5)\n",
    "print(x, \"\\n\")\n",
    "print(y, \"\\n\")\n",
    "print(tf.multiply(x, y))"
   ]
  },
  {
   "cell_type": "code",
   "execution_count": 19,
   "metadata": {},
   "outputs": [
    {
     "name": "stdout",
     "output_type": "stream",
     "text": [
      "tf.Tensor(\n",
      "[[ 1  2  3  4]\n",
      " [ 2  4  6  8]\n",
      " [ 3  6  9 12]], shape=(3, 4), dtype=int32)\n",
      "tf.Tensor(\n",
      "[[ 1  2  3  4]\n",
      " [ 2  4  6  8]\n",
      " [ 3  6  9 12]], shape=(3, 4), dtype=int32)\n"
     ]
    }
   ],
   "source": [
    "# 같은 크기 행렬의 곱\n",
    "x_stretch = tf.constant([[1, 1, 1, 1],\n",
    "                         [2, 2, 2, 2],\n",
    "                         [3, 3, 3, 3]])\n",
    "\n",
    "y_stretch = tf.constant([[1, 2, 3, 4],\n",
    "                         [1, 2, 3, 4],\n",
    "                         [1, 2, 3, 4]])\n",
    "\n",
    "print(x_stretch * y_stretch)\n",
    "print(tf.multiply(x_stretch, y_stretch))"
   ]
  },
  {
   "cell_type": "markdown",
   "metadata": {},
   "source": [
    "### 3.6 기타"
   ]
  },
  {
   "cell_type": "code",
   "execution_count": 20,
   "metadata": {},
   "outputs": [
    {
     "name": "stdout",
     "output_type": "stream",
     "text": [
      "tf.Tensor(10.0, shape=(), dtype=float32)\n",
      "tf.Tensor([1 0], shape=(2,), dtype=int64)\n",
      "tf.Tensor(\n",
      "[[2.6894143e-01 7.3105860e-01]\n",
      " [9.9987662e-01 1.2339458e-04]], shape=(2, 2), dtype=float32)\n"
     ]
    }
   ],
   "source": [
    "c = tf.constant([[4.0, 5.0], [10.0, 1.0]])\n",
    "\n",
    "# 가장 큰 값 찾음\n",
    "print(tf.reduce_max(c))\n",
    "# 가장 큰 값의 인덱스 찾음\n",
    "print(tf.argmax(c))\n",
    "# Softmax는 입력받은 값을 출력으로 0~1사이의 값으로 모두 정규화하며 출력 값들의 총합은 항상 1이 되는 특성을 가진 함수\n",
    "# Softmax 연산 수행\n",
    "print(tf.nn.softmax(c))"
   ]
  },
  {
   "cell_type": "code",
   "execution_count": 21,
   "metadata": {
    "scrolled": false
   },
   "outputs": [
    {
     "name": "stdout",
     "output_type": "stream",
     "text": [
      "\n",
      " <class 'tensorflow.python.framework.ops.EagerTensor'>\n",
      "tf.Tensor(\n",
      "[[[ 1  2]\n",
      "  [ 3  4]\n",
      "  [ 5  6]]\n",
      "\n",
      " [[ 7  8]\n",
      "  [ 9 10]\n",
      "  [11 12]]\n",
      "\n",
      " [[13 14]\n",
      "  [15 16]\n",
      "  [17 18]]], shape=(3, 3, 2), dtype=int32)\n",
      "<tf.Variable 'Variable:0' shape=(3, 3, 2) dtype=int32, numpy=\n",
      "array([[[ 1,  2],\n",
      "        [ 3,  4],\n",
      "        [ 5,  6]],\n",
      "\n",
      "       [[ 7,  8],\n",
      "        [ 9, 10],\n",
      "        [11, 12]],\n",
      "\n",
      "       [[13, 14],\n",
      "        [15, 16],\n",
      "        [17, 18]]])>\n",
      "assign 이용 :  <class 'tensorflow.python.ops.resource_variable_ops.ResourceVariable'>\n",
      "tf.Tensor(\n",
      "[[[ 0  1]\n",
      "  [ 2  3]\n",
      "  [ 4  5]]\n",
      "\n",
      " [[ 6  7]\n",
      "  [ 8  9]\n",
      "  [10 11]]\n",
      "\n",
      " [[12 13]\n",
      "  [14 15]\n",
      "  [16 17]]], shape=(3, 3, 2), dtype=int32)\n",
      "assign 이용X :  <class 'tensorflow.python.framework.ops.EagerTensor'>\n"
     ]
    }
   ],
   "source": [
    "# tf.constant 배열 자료형과 숫자 더하기 연산 가능\n",
    "new_arr2 = new_arr1 + 1 # new_arr2 의 type도 tf.constant\n",
    "print('\\n', type(new_arr2))\n",
    "print(new_arr2)\n",
    "\n",
    "#tf.variable 자료형의 데이터를 바꿀 때 assign()을 이용\n",
    "new_arr3 = tf.Variable(new_arr1)\n",
    "new_arr3.assign(new_arr3 + 1)\n",
    "print(new_arr3)\n",
    "print('assign 이용 : ', type(new_arr3))\n",
    "\n",
    "# assign을 이용하지 않는 경우 tf,constant 자료형이 됨\n",
    "new_arr3 = new_arr3 - 1\n",
    "print(new_arr3)\n",
    "print('assign 이용X : ',type(new_arr3))"
   ]
  },
  {
   "cell_type": "code",
   "execution_count": 22,
   "metadata": {},
   "outputs": [
    {
     "name": "stdout",
     "output_type": "stream",
     "text": [
      "Second row: [3. 4.]\n",
      "Second column: [2. 4. 6.]\n",
      "Last row: [5. 6.]\n",
      "First item in last column: 2.0\n",
      "Skip the first row:\n",
      "[[3. 4.]\n",
      " [5. 6.]] \n",
      "\n"
     ]
    }
   ],
   "source": [
    "rank_2_tensor = tf.constant([[1, 2],\n",
    "                             [3, 4],\n",
    "                             [5, 6]], dtype=tf.float16)\n",
    "# : 를 이용해 원하는 정보 추출 가능\n",
    "print(\"Second row:\", rank_2_tensor[1, :].numpy())\n",
    "print(\"Second column:\", rank_2_tensor[:, 1].numpy())\n",
    "print(\"Last row:\", rank_2_tensor[-1, :].numpy())\n",
    "print(\"First item in last column:\", rank_2_tensor[0, -1].numpy())\n",
    "print(\"Skip the first row:\")\n",
    "print(rank_2_tensor[1:, :].numpy(), \"\\n\")"
   ]
  },
  {
   "cell_type": "code",
   "execution_count": 23,
   "metadata": {},
   "outputs": [
    {
     "name": "stdout",
     "output_type": "stream",
     "text": [
      "<tf.RaggedTensor [[0, 1, 2, 3], [4, 5], [6, 7, 8], [9]]>\n",
      "(4, None)\n"
     ]
    }
   ],
   "source": [
    "ragged_list = [\n",
    "    [0, 1, 2, 3],\n",
    "    [4, 5],\n",
    "    [6, 7, 8],\n",
    "    [9]]\n",
    "ragged_tensor = tf.ragged.constant(ragged_list)\n",
    "print(ragged_tensor)\n",
    "print(ragged_tensor.shape)"
   ]
  },
  {
   "cell_type": "code",
   "execution_count": 24,
   "metadata": {},
   "outputs": [
    {
     "name": "stdout",
     "output_type": "stream",
     "text": [
      "tf.Tensor(b'Gray wolf', shape=(), dtype=string)\n",
      "tf.Tensor([b'Gray wolf' b'Quick brown fox' b'Lazy dog'], shape=(3,), dtype=string)\n",
      "tf.Tensor([b'Gray' b'wolf'], shape=(2,), dtype=string)\n",
      "<tf.RaggedTensor [[b'Gray', b'wolf'], [b'Quick', b'brown', b'fox'], [b'Lazy', b'dog']]>\n"
     ]
    }
   ],
   "source": [
    "scalar_string_tensor = tf.constant(\"Gray wolf\")\n",
    "print(scalar_string_tensor)\n",
    "tensor_of_strings = tf.constant([\"Gray wolf\",\n",
    "                                 \"Quick brown fox\",\n",
    "                                 \"Lazy dog\"])\n",
    "print(tensor_of_strings)\n",
    "print(tf.strings.split(scalar_string_tensor, sep=\" \"))\n",
    "print(tf.strings.split(tensor_of_strings))"
   ]
  },
  {
   "cell_type": "code",
   "execution_count": 25,
   "metadata": {},
   "outputs": [
    {
     "name": "stdout",
     "output_type": "stream",
     "text": [
      "tf.Tensor([  1.  10. 100.], shape=(3,), dtype=float32)\n"
     ]
    }
   ],
   "source": [
    "text = tf.constant(\"1 10 100\")\n",
    "print(tf.strings.to_number(tf.strings.split(text, \" \")))"
   ]
  },
  {
   "cell_type": "code",
   "execution_count": 26,
   "metadata": {},
   "outputs": [
    {
     "name": "stdout",
     "output_type": "stream",
     "text": [
      "Byte strings: tf.Tensor([b'D' b'u' b'c' b'k'], shape=(4,), dtype=string)\n",
      "Bytes: tf.Tensor([ 68 117  99 107], shape=(4,), dtype=uint8)\n"
     ]
    }
   ],
   "source": [
    "byte_strings = tf.strings.bytes_split(tf.constant(\"Duck\"))\n",
    "byte_ints = tf.io.decode_raw(tf.constant(\"Duck\"), tf.uint8)\n",
    "print(\"Byte strings:\", byte_strings)\n",
    "print(\"Bytes:\", byte_ints)"
   ]
  },
  {
   "cell_type": "code",
   "execution_count": 27,
   "metadata": {},
   "outputs": [
    {
     "name": "stdout",
     "output_type": "stream",
     "text": [
      "SparseTensor(indices=tf.Tensor(\n",
      "[[0 0]\n",
      " [1 2]], shape=(2, 2), dtype=int64), values=tf.Tensor([1 2], shape=(2,), dtype=int32), dense_shape=tf.Tensor([3 4], shape=(2,), dtype=int64)) \n",
      "\n",
      "tf.Tensor(\n",
      "[[1 0 0 0]\n",
      " [0 0 2 0]\n",
      " [0 0 0 0]], shape=(3, 4), dtype=int32)\n"
     ]
    }
   ],
   "source": [
    "# Sparse tensor는 메모리 효율적으로 데이터를 저장한다.\n",
    "sparse_tensor = tf.sparse.SparseTensor(indices=[[0, 0], [1, 2]],\n",
    "                                       values=[1, 2],\n",
    "                                       dense_shape=[3, 4])\n",
    "print(sparse_tensor, \"\\n\")\n",
    "\n",
    "# spaerse tensor를 dense tensor로 변환\n",
    "print(tf.sparse.to_dense(sparse_tensor))"
   ]
  },
  {
   "cell_type": "markdown",
   "metadata": {},
   "source": [
    "## 4. 선형 회귀 모델 구현"
   ]
  },
  {
   "cell_type": "markdown",
   "metadata": {},
   "source": [
    "입력 x에서 출력 y를 예측하는 선형 회귀 모델 구현"
   ]
  },
  {
   "cell_type": "code",
   "execution_count": 28,
   "metadata": {},
   "outputs": [
    {
     "name": "stdout",
     "output_type": "stream",
     "text": [
      "[0.]\n"
     ]
    }
   ],
   "source": [
    "# 훈련 샘플 10개인 1차원 데이터셋\n",
    "x_train = np.arange(10).reshape((10,1))\n",
    "y_train = np.array([1.0, 1.3, 3.1, 2.0, 5.0, 6.3, 6.6, 7.4, 8.0, 9.0])\n",
    "w = tf.Variable(tf.zeros(shape=(1,)))\n",
    "print(w.numpy())"
   ]
  },
  {
   "cell_type": "code",
   "execution_count": 29,
   "metadata": {},
   "outputs": [],
   "source": [
    "# 모델 클래스 정의\n",
    "class TfLinreg(object):\n",
    "    def __init__(self, learning_rate=0.01):\n",
    "        ## 가중치와 절편을 정의\n",
    "        self.w = tf.Variable(tf.zeros(shape=(1))) # 0으로 채워진 크기가 (1,)인 배열 [0.]로 w를 초기화\n",
    "        self.b = tf.Variable(tf.zeros(shape=(1)))\n",
    "        # Stochastic Gradient Descent(확률적 경사 하강법)을 통해 가중치 업데이트\n",
    "        self.optimizer = tf.keras.optimizers.SGD(lr=learning_rate)\n",
    "    \n",
    "    def fit(self, x, y, num_epoches=10):\n",
    "        # lose / cost function의 값을 저장하기 위한 리스트 정의\n",
    "        training_costs = []\n",
    "        for step in range(num_epoches):\n",
    "            # train 가능한 변수들을 추적해 기록 남김\n",
    "            with tf.GradientTape() as tape:\n",
    "                z_net = self.w * x + self.b\n",
    "                z_net = tf.reshape(z_net, [-1])\n",
    "                \n",
    "                # Ordinary Least Squares(최소 제곱법)\n",
    "                sqr_errors = tf.square(y-z_net)\n",
    "                mean_cost = tf.reduce_mean(sqr_errors)\n",
    "            \n",
    "            # lose / cost function에 대한 가중치의 gradient를 계산\n",
    "            grads = tape.gradient(mean_cost, [self.w, self.b]) # gradient(<미분대상>, <변수 리스트>)\n",
    "            # optimizer에 gradient를 반영\n",
    "            self.optimizer.apply_gradients(zip(grads, [self.w, self.b])) \n",
    "            # apply_gradients 메소드는 gradient와 변수를 쌍으로 하는 튜플을 입력 받기에 python의 zip()활용\n",
    "            training_costs.append(mean_cost.numpy())\n",
    "        return training_costs\n",
    "    \n",
    "    def predict(self, x):\n",
    "        return self.w * x + self.b"
   ]
  },
  {
   "cell_type": "code",
   "execution_count": 30,
   "metadata": {},
   "outputs": [
    {
     "data": {
      "image/png": "[encoded data removed]",
      "text/plain": [
       "<Figure size 432x288 with 1 Axes>"
      ]
     },
     "metadata": {
      "needs_background": "light"
     },
     "output_type": "display_data"
    }
   ],
   "source": [
    "lrmodel = TfLinreg()\n",
    "training_costs = lrmodel.fit(x_train, y_train)\n",
    "\n",
    "import matplotlib.pyplot as plt\n",
    "plt.plot(range(1, len(training_costs) + 1), training_costs)\n",
    "plt.tight_layout()\n",
    "plt.xlabel('Epoch')\n",
    "plt.ylabel('Training Cost')\n",
    "plt.show()"
   ]
  },
  {
   "cell_type": "code",
   "execution_count": 31,
   "metadata": {
    "scrolled": true
   },
   "outputs": [
    {
     "data": {
      "image/png": "[encoded data removed]",
      "text/plain": [
       "<Figure size 432x288 with 1 Axes>"
      ]
     },
     "metadata": {
      "needs_background": "light"
     },
     "output_type": "display_data"
    }
   ],
   "source": [
    "plt.scatter(x_train, y_train, marker='s', s=50, label='Training data')\n",
    "plt.plot(range(x_train.shape[0]), lrmodel.predict(x_train),\n",
    "         color='gray', marker='o', markersize=6, linewidth=3, label='LinReg Model')\n",
    "plt.xlabel('x')\n",
    "plt.ylabel('y')\n",
    "plt.legend()\n",
    "plt.tight_layout()\n",
    "plt.show()"
   ]
  }
 ],
 "metadata": {
  "kernelspec": {
   "display_name": "Python 3",
   "language": "python",
   "name": "python3"
  },
  "language_info": {
   "codemirror_mode": {
    "name": "ipython",
    "version": 3
   },
   "file_extension": ".py",
   "mimetype": "text/x-python",
   "name": "python",
   "nbconvert_exporter": "python",
   "pygments_lexer": "ipython3",
   "version": "3.8.5"
  }
 },
 "nbformat": 4,
 "nbformat_minor": 4
}
