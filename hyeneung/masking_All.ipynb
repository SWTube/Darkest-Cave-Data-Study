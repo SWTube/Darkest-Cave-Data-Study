{
 "cells": [
  {
   "cell_type": "code",
   "execution_count": 1,
   "metadata": {
    "colab": {
     "base_uri": "https://localhost:8080/"
    },
    "executionInfo": {
     "elapsed": 16757,
     "status": "ok",
     "timestamp": 1621153022921,
     "user": {
      "displayName": "‍노혜능[학생](소프트웨어융합대학 소프트웨어융합학과)",
      "photoUrl": "",
      "userId": "02012322631675297139"
     },
     "user_tz": -540
    },
    "id": "wrA_BHth0-RR",
    "outputId": "009bdfb1-25f9-42ab-93f1-b39ae0c56e74"
   },
   "outputs": [
    {
     "name": "stdout",
     "output_type": "stream",
     "text": [
      "Mounted at /content/drive\n"
     ]
    }
   ],
   "source": [
    "from google.colab import drive\n",
    "drive.mount('/content/drive')"
   ]
  },
  {
   "cell_type": "code",
   "execution_count": 2,
   "metadata": {
    "executionInfo": {
     "elapsed": 2525,
     "status": "ok",
     "timestamp": 1621153657697,
     "user": {
      "displayName": "‍노혜능[학생](소프트웨어융합대학 소프트웨어융합학과)",
      "photoUrl": "",
      "userId": "02012322631675297139"
     },
     "user_tz": -540
    },
    "id": "KCdJVKyX2vYo"
   },
   "outputs": [],
   "source": [
    "import cv2\n",
    "import urllib.request\n",
    "import numpy as np\n",
    "from google.colab.patches import cv2_imshow # cv2_imshow(img)\n",
    "\n",
    "\n",
    "import IPython.display as display\n",
    "\n",
    "import tensorflow as tf\n",
    "import matplotlib.pyplot as plt\n",
    "import matplotlib as mpl\n",
    "mpl.rcParams['figure.figsize'] = (12,12)\n",
    "mpl.rcParams['axes.grid'] = False\n",
    "\n",
    "import numpy as np\n",
    "import PIL.Image\n",
    "import time\n",
    "import functools"
   ]
  },
  {
   "cell_type": "code",
   "execution_count": 3,
   "metadata": {
    "executionInfo": {
     "elapsed": 554,
     "status": "ok",
     "timestamp": 1621153659921,
     "user": {
      "displayName": "‍노혜능[학생](소프트웨어융합대학 소프트웨어융합학과)",
      "photoUrl": "",
      "userId": "02012322631675297139"
     },
     "user_tz": -540
    },
    "id": "Bl6Wa84d14aK"
   },
   "outputs": [],
   "source": [
    "def load_img(path_to_img):\n",
    "  max_dim = 512\n",
    "  img = tf.io.read_file(path_to_img)\n",
    "  img = tf.image.decode_image(img, channels=3)\n",
    "  img = tf.image.convert_image_dtype(img, tf.float32)\n",
    "\n",
    "  shape = tf.cast(tf.shape(img)[:-1], tf.float32)\n",
    "  long_dim = max(shape)\n",
    "  scale = max_dim / long_dim\n",
    "\n",
    "  new_shape = tf.cast(shape * scale, tf.int32)\n",
    "\n",
    "  img = tf.image.resize(img, new_shape)\n",
    "  img = img[tf.newaxis, :]\n",
    "  return img"
   ]
  },
  {
   "cell_type": "code",
   "execution_count": 4,
   "metadata": {
    "executionInfo": {
     "elapsed": 589,
     "status": "ok",
     "timestamp": 1621153660734,
     "user": {
      "displayName": "‍노혜능[학생](소프트웨어융합대학 소프트웨어융합학과)",
      "photoUrl": "",
      "userId": "02012322631675297139"
     },
     "user_tz": -540
    },
    "id": "Ug6z7Am03DTS"
   },
   "outputs": [],
   "source": [
    "def tensor_to_image(tensor):\n",
    "  tensor = tensor*255\n",
    "  tensor = np.array(tensor, dtype=np.uint8)\n",
    "  if np.ndim(tensor)>3:\n",
    "    assert tensor.shape[0] == 1\n",
    "    tensor = tensor[0]\n",
    "  return PIL.Image.fromarray(tensor)"
   ]
  },
  {
   "cell_type": "code",
   "execution_count": 11,
   "metadata": {
    "executionInfo": {
     "elapsed": 586,
     "status": "ok",
     "timestamp": 1621155217781,
     "user": {
      "displayName": "‍노혜능[학생](소프트웨어융합대학 소프트웨어융합학과)",
      "photoUrl": "",
      "userId": "02012322631675297139"
     },
     "user_tz": -540
    },
    "id": "hGurczy81Gjr"
   },
   "outputs": [],
   "source": [
    "class StyleContentModel(tf.keras.models.Model):\n",
    "  def __init__(self, style_layers, content_layers):\n",
    "    super(StyleContentModel, self).__init__()\n",
    "    self.vgg =  vgg_layers(style_layers + content_layers)\n",
    "    self.style_layers = style_layers\n",
    "    self.content_layers = content_layers\n",
    "    self.num_style_layers = len(style_layers)\n",
    "    self.vgg.trainable = False\n",
    "\n",
    "  def call(self, inputs):\n",
    "    \"[0,1] 사이의 실수 값을 입력으로 받습니다\"\n",
    "    inputs = inputs*255.0\n",
    "    preprocessed_input = tf.keras.applications.vgg19.preprocess_input(inputs)\n",
    "    outputs = self.vgg(preprocessed_input)\n",
    "    style_outputs, content_outputs = (outputs[:self.num_style_layers], \n",
    "                                      outputs[self.num_style_layers:])\n",
    "\n",
    "    style_outputs = [gram_matrix(style_output)\n",
    "                     for style_output in style_outputs]\n",
    "\n",
    "    content_dict = {content_name:value \n",
    "                    for content_name, value \n",
    "                    in zip(self.content_layers, content_outputs)}\n",
    "\n",
    "    style_dict = {style_name:value\n",
    "                  for style_name, value\n",
    "                  in zip(self.style_layers, style_outputs)}\n",
    "    \n",
    "    return {'content':content_dict, 'style':style_dict}"
   ]
  },
  {
   "cell_type": "code",
   "execution_count": null,
   "metadata": {},
   "outputs": [],
   "source": [
    "def get_transformed_img(content_image, style_image):\n",
    "    #\n",
    "    x = tf.keras.applications.vgg19.preprocess_input(content_image*255)\n",
    "    x = tf.image.resize(x, (224, 224))\n",
    "    vgg = tf.keras.applications.VGG19(include_top=True, weights='imagenet')\n",
    "    prediction_probabilities = vgg(x)\n",
    "    prediction_probabilities.shape\n",
    "    #\n",
    "    vgg = tf.keras.applications.VGG19(include_top=False, weights='imagenet')\n",
    "    #\n",
    "    content_layers = ['block5_conv2'] \n",
    "\n",
    "    style_layers = ['block1_conv1',\n",
    "                    'block2_conv1',\n",
    "                    'block3_conv1', \n",
    "                    'block4_conv1', \n",
    "                    'block5_conv1']\n",
    "\n",
    "    num_content_layers = len(content_layers)\n",
    "    num_style_layers = len(style_layers)\n",
    "    #\n",
    "    def vgg_layers(layer_names):\n",
    "        \"\"\" 중간층의 출력값을 배열로 반환하는 vgg 모델을 만듭니다.\"\"\"\n",
    "        # 이미지넷 데이터셋에 사전학습된 VGG 모델을 불러옵니다\n",
    "        vgg = tf.keras.applications.VGG19(include_top=False, weights='imagenet')\n",
    "        vgg.trainable = False\n",
    "        \n",
    "        outputs = [vgg.get_layer(name).output for name in layer_names]\n",
    "\n",
    "        model = tf.keras.Model([vgg.input], outputs)\n",
    "        return model\n",
    "    #\n",
    "    style_extractor = vgg_layers(style_layers)\n",
    "    style_outputs = style_extractor(style_image*255)\n",
    "    #\n",
    "    def gram_matrix(input_tensor):\n",
    "        result = tf.linalg.einsum('bijc,bijd->bcd', input_tensor, input_tensor)\n",
    "        input_shape = tf.shape(input_tensor)\n",
    "        num_locations = tf.cast(input_shape[1]*input_shape[2], tf.float32)\n",
    "        return result/(num_locations)\n",
    "    #\n",
    "    extractor = StyleContentModel(style_layers, content_layers)\n",
    "    results = extractor(tf.constant(content_image))\n",
    "    #\n",
    "    style_targets = extractor(style_image)['style']\n",
    "    content_targets = extractor(content_image)['content']\n",
    "    #\n",
    "    image = tf.Variable(content_image)\n",
    "    #\n",
    "    def clip_0_1(image):\n",
    "      return tf.clip_by_value(image, clip_value_min=0.0, clip_value_max=1.0)\n",
    "    #\n",
    "    opt = tf.optimizers.Adam(learning_rate=0.02, beta_1=0.99, epsilon=1e-1)\n",
    "    #\n",
    "    style_weight=1e-2\n",
    "    content_weight=1e4\n",
    "    #\n",
    "    def style_content_loss(outputs):\n",
    "        style_outputs = outputs['style']\n",
    "        content_outputs = outputs['content']\n",
    "        style_loss = tf.add_n([tf.reduce_mean((style_outputs[name]-style_targets[name])**2) \n",
    "                            for name in style_outputs.keys()])\n",
    "        style_loss *= style_weight / num_style_layers\n",
    "\n",
    "        content_loss = tf.add_n([tf.reduce_mean((content_outputs[name]-content_targets[name])**2) \n",
    "                                for name in content_outputs.keys()])\n",
    "        content_loss *= content_weight / num_content_layers\n",
    "        loss = style_loss + content_loss\n",
    "        return loss\n",
    "    #\n",
    "    @tf.function()\n",
    "    def train_step(image):\n",
    "        with tf.GradientTape() as tape:\n",
    "            outputs = extractor(image)\n",
    "            loss = style_content_loss(outputs)\n",
    "\n",
    "        grad = tape.gradient(loss, image)\n",
    "        opt.apply_gradients([(grad, image)])\n",
    "        image.assign(clip_0_1(image))\n",
    "    #\n",
    "    epochs = 10\n",
    "    steps_per_epoch = 1\n",
    "    step = 0\n",
    "    for n in range(epochs):\n",
    "        for m in range(steps_per_epoch):\n",
    "            step += 1\n",
    "            train_step(image)\n",
    "            print(\".\", end='')\n",
    "        # display.clear_output(wait=True)\n",
    "        # display.display(tensor_to_image(image))\n",
    "        # print(\"훈련 스텝: {}\".format(step))\n",
    "    img_transformed = np.array(tensor_to_image(image))\n",
    "    return img_transformed"
   ]
  },
  {
   "cell_type": "code",
   "execution_count": 8,
   "metadata": {
    "executionInfo": {
     "elapsed": 648,
     "status": "ok",
     "timestamp": 1621154202443,
     "user": {
      "displayName": "‍노혜능[학생](소프트웨어융합대학 소프트웨어융합학과)",
      "photoUrl": "",
      "userId": "02012322631675297139"
     },
     "user_tz": -540
    },
    "id": "4gsPgkNv2rlj"
   },
   "outputs": [],
   "source": [
    "# image urls\n",
    "attack_a1 = '//assetstorev1-prd-cdn.unity3d.com/preview/031b58f9.9b53b829-1815-4c1e-9827-41ba05514156.png'\n",
    "attack_a2 = '//assetstorev1-prd-cdn.unity3d.com/preview/031b5a9a.5fbf95c6-105e-4d01-9a8e-37919f8eece3.png'\n",
    "attack_a3 = '//assetstorev1-prd-cdn.unity3d.com/preview/031b59bf.28cb3708-9977-4ecc-b751-fd182d8991e5.png'\n",
    "attack_a4 = '//assetstorev1-prd-cdn.unity3d.com/preview/031b59b3.b554df85-def5-44b6-84ac-8aa622318636.png'\n",
    "attack_a5 = '//assetstorev1-prd-cdn.unity3d.com/preview/031b5998.6178bf29-9b1c-4de5-ae35-52b47b176c1d.png'\n",
    "attack_a6 = '//assetstorev1-prd-cdn.unity3d.com/preview/031b599b.103e56ad-7ff5-4674-bf4a-cf6e881df46c.png'\n",
    "\n",
    "attack_imgs = [attack_a1, attack_a2, attack_a3, attack_a4, attack_a5,attack_a6]"
   ]
  },
  {
   "cell_type": "code",
   "execution_count": 9,
   "metadata": {
    "colab": {
     "base_uri": "https://localhost:8080/"
    },
    "executionInfo": {
     "elapsed": 1845,
     "status": "ok",
     "timestamp": 1621154206377,
     "user": {
      "displayName": "‍노혜능[학생](소프트웨어융합대학 소프트웨어융합학과)",
      "photoUrl": "",
      "userId": "02012322631675297139"
     },
     "user_tz": -540
    },
    "id": "ebUbDRXaQn1Y",
    "outputId": "d58fc087-cb86-4a71-b687-465bfafdefb0"
   },
   "outputs": [
    {
     "data": {
      "text/plain": [
       "('/content/drive/MyDrive/Colab Notebooks/data/style.png',\n",
       " <http.client.HTTPMessage at 0x7fd70397a890>)"
      ]
     },
     "execution_count": 9,
     "metadata": {
      "tags": []
     },
     "output_type": "execute_result"
    }
   ],
   "source": [
    "# style image download\n",
    "style_url = 'http://artisty.co.kr/custom/img/upload/thumb/14018_m11_thumb.jpg'\n",
    "style_location = '/content/drive/MyDrive/Colab Notebooks/data/style.png'\n",
    "urllib.request.urlretrieve(style_url, style_location)"
   ]
  },
  {
   "cell_type": "code",
   "execution_count": 13,
   "metadata": {
    "colab": {
     "base_uri": "https://localhost:8080/"
    },
    "executionInfo": {
     "elapsed": 461341,
     "status": "ok",
     "timestamp": 1621155815019,
     "user": {
      "displayName": "‍노혜능[학생](소프트웨어융합대학 소프트웨어융합학과)",
      "photoUrl": "",
      "userId": "02012322631675297139"
     },
     "user_tz": -540
    },
    "id": "p0vmsiJT2sfB",
    "outputId": "edb68828-6620-46aa-9db0-c20d4df26840"
   },
   "outputs": [
    {
     "name": "stdout",
     "output_type": "stream",
     "text": [
      "..........attack_a1_masked.png saved Successfully\n",
      "..........attack_a2_masked.png saved Successfully\n",
      "..........attack_a3_masked.png saved Successfully\n",
      "..........attack_a4_masked.png saved Successfully\n",
      "..........attack_a5_masked.png saved Successfully\n",
      "..........attack_a6_masked.png saved Successfully\n"
     ]
    }
   ],
   "source": [
    "for idx, elem in enumerate(attack_imgs):\n",
    "    url = 'https:' + elem\n",
    "    filename = 'attack_a' + str(idx+1)\n",
    "\n",
    "    # mask 만들기 위한 original img download\n",
    "    location = f'/content/drive/MyDrive/Colab Notebooks/data/{filename}.png'\n",
    "    urllib.request.urlretrieve(url, location)\n",
    "\n",
    "    # mask 만들기\n",
    "    img = cv2.imread(location,cv2.IMREAD_UNCHANGED)\n",
    "    img = cv2.resize(img, dsize=(512,384))\n",
    "    _, mask = cv2.threshold(img[:,:,3], 4, 255, cv2.THRESH_BINARY) # 픽셀 값이 4 보다 크면 255로 바꿈 아니면 0으로 \n",
    "\n",
    "    # original img 변형\n",
    "    content_image = load_img(location)\n",
    "    style_image = load_img(style_location)\n",
    "    img_transformed = get_transformed_img(content_image, style_image)\n",
    "\n",
    "    # img_transformed에 mask 적용\n",
    "    img_masked = cv2.bitwise_and(img_transformed, img_transformed, mask=mask)\n",
    "    \n",
    "    # ** added\n",
    "    # making 된 img에 alpha channel 추가\n",
    "    rgba = cv2.cvtColor(masked_image, cv2.COLOR_RGB2RGBA)\n",
    "    rgba[:, :, 3] = origin_img_resized[:,:,3]\n",
    "\n",
    "    cv2.imwrite(f'/content/drive/MyDrive/Colab Notebooks/data/{filename}_masked.png', rgba)\n",
    "    print(f'{filename}_masked.png saved Successfully')\n",
    "    #cv2_imshow(img_masked)"
   ]
  },
  {
   "cell_type": "code",
   "execution_count": null,
   "metadata": {
    "id": "wvKT2dRSUn5D"
   },
   "outputs": [],
   "source": []
  }
 ],
 "metadata": {
  "accelerator": "TPU",
  "colab": {
   "authorship_tag": "ABX9TyNDRebe8EYW+P8N5huEaQdu",
   "collapsed_sections": [],
   "name": "masking_All.ipynb",
   "provenance": [
    {
     "file_id": "1hnAMMhFsmgNp2Tb-Hd39HcuA92w5OUsv",
     "timestamp": 1621152961421
    }
   ]
  },
  "kernelspec": {
   "display_name": "Python 3",
   "language": "python",
   "name": "python3"
  },
  "language_info": {
   "codemirror_mode": {
    "name": "ipython",
    "version": 3
   },
   "file_extension": ".py",
   "mimetype": "text/x-python",
   "name": "python",
   "nbconvert_exporter": "python",
   "pygments_lexer": "ipython3",
   "version": "3.8.5"
  }
 },
 "nbformat": 4,
 "nbformat_minor": 1
}
