{
 "metadata": {
  "language_info": {
   "codemirror_mode": {
    "name": "ipython",
    "version": 3
   },
   "file_extension": ".py",
   "mimetype": "text/x-python",
   "name": "python",
   "nbconvert_exporter": "python",
   "pygments_lexer": "ipython3",
   "version": 3
  },
  "orig_nbformat": 2
 },
 "nbformat": 4,
 "nbformat_minor": 2,
 "cells": [
  {
   "source": [
    "# 1.모듈이 없다고 나오는 경우 (vision)\n",
    "\n",
    "python 인터프리터가 작동하는 repo에\n",
    "\n",
    "cp references/detection/utils.py ../\n",
    "cp references/detection/transforms.py ../\n",
    "cp references/detection/coco_eval.py ../\n",
    "cp references/detection/engine.py ../\n",
    "cp references/detection/coco_utils.py ../\n",
    "\n",
    "vision 폴더를 git으로부터 클론하여\n",
    "\n",
    "위의 모든 .py를 복사해주어야\n",
    "\n",
    "import 되지 않던 모듈들이 비로소 import 된다.\n"
   ],
   "cell_type": "markdown",
   "metadata": {}
  },
  {
   "source": [
    "# 1.1 모듈이 없다고 나오는 경우 (cocoapi)\n",
    "\n",
    "cocoapi의 경우\n",
    "\n",
    "PythonAPI 안의 pycocotools 폴더를 모두 옮겨주어야 하는데,\n",
    "\n",
    "옮겨주기 전에 파일 안의 setup.py을 이용하여\n",
    "\n",
    "pycocotools._mask 파일을 생성해주어야 한다."
   ],
   "cell_type": "markdown",
   "metadata": {}
  },
  {
   "source": [
    "# 2. ._mask 모듈이 없다는 경우\n",
    "\n",
    "Vision과 cocoapi를 모두 설치했음에도 불구하고 ._mask가 없다고 출력되는 경우\n",
    "\n",
    "cocoapi에서 make 파일을 실행하지 않았기 때문인데,\n",
    "\n",
    "make 파일을 실행하려고 python setup.py 을 터미널에 입력하여도\n",
    "\n",
    "wno-cpp ~ 라는 오류와 함께 ._mask 파일이 생성되지 않는 오류가 발생한다\n",
    "\n",
    "해당 오류는 아래의 가이드를 보고 해결하였다.\n",
    "\n",
    "\n",
    "https://github.com/cocodataset/cocoapi/issues/51#issuecomment-379872704\n"
   ],
   "cell_type": "markdown",
   "metadata": {}
  },
  {
   "source": [
    "# 3. CUDA Memory 이슈\n",
    "\n",
    "이후 CUDA를 활용하여 에포크를 실행하였으나\n",
    "\n",
    "num_worker의 수가 너무 많은 탓인지 오류가 발생한다.\n",
    "\n",
    "num_worker의 수를 0으로 줄이면 CUDA에 할당된 자원이 너무 적어\n",
    "\n",
    "다른 오류가 출력된다\n",
    "\n",
    "해당 오류는 아래 스택 오버 플로우에서 적절하게 알려준다.\n",
    "\n",
    "https://stackoverflow.com/a/60101662\n",
    "\n",
    "\n",
    "\n",
    "내 CUDA의 메모리가 작은건지\n",
    "\n",
    "num_workers 를 0으로 하고 batch를 1로 해야만 작동이 된다\n",
    "\n",
    "근데 이상한 게\n",
    "\n",
    "어느 순간에는 남은 메모리가 GB 단위가 넘어가고\n",
    "\n",
    "계속 실행하다보면 점진적으로 내 메모리가 줄어들어간다.\n",
    "\n",
    "아마 tensor가 계속 쌓이고 del 되지 않아 계속 GPU에 cache 되는 거 같은데,\n",
    "\n",
    "재부팅을 해도 똑같다.\n",
    "\n",
    "해당 해결책으로는\n",
    "\n",
    "import gc\n",
    "gc.collect()\n",
    "torch.cuda.empty_cache()\n",
    "\n",
    "를 하면 된다고 하는데,\n",
    "\n",
    "print(\"할당된 메모리 : \", torch.cuda.memory_allocated())\n",
    "print(\"예약된 메모리 : \", torch.cuda.memory_reserved())\n",
    "\n",
    "로 전 후 변화를 확인해보아도\n",
    "메모리 량은 달라지지 않는다.\n",
    "\n",
    "아시는 분...?\n",
    "\n"
   ],
   "cell_type": "markdown",
   "metadata": {}
  },
  {
   "source": [],
   "cell_type": "markdown",
   "metadata": {}
  }
 ]
}