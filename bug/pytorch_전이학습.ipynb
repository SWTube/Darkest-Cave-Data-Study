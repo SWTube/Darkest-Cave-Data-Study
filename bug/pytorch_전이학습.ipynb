{
 "metadata": {
  "language_info": {
   "codemirror_mode": {
    "name": "ipython",
    "version": 3
   },
   "file_extension": ".py",
   "mimetype": "text/x-python",
   "name": "python",
   "nbconvert_exporter": "python",
   "pygments_lexer": "ipython3",
   "version": "3.9.1-final"
  },
  "orig_nbformat": 2,
  "kernelspec": {
   "name": "python3",
   "display_name": "Python 3.9.1 64-bit",
   "metadata": {
    "interpreter": {
     "hash": "c73e5749eef24712aa57a6f7056eff5de2d1cfcc1b2800305556963bdb3c96d5"
    }
   }
  }
 },
 "nbformat": 4,
 "nbformat_minor": 2,
 "cells": [
  {
   "source": [
    "---------------------------------------------------------------------------\n",
    "Empty                                     Traceback (most recent call last)\n",
    "~\\AppData\\Local\\Programs\\Python\\Python39\\lib\\site-packages\\torch\\utils\\data\\dataloader.py in _try_get_data(self, timeout)\n",
    "    871         try:\n",
    "--> 872             data = self._data_queue.get(timeout=timeout)\n",
    "    873             return (True, data)\n",
    "\n",
    "~\\AppData\\Local\\Programs\\Python\\Python39\\lib\\multiprocessing\\queues.py in get(self, block, timeout)\n",
    "    113                     if not self._poll(timeout):\n",
    "--> 114                         raise Empty\n",
    "    115                 elif not self._poll():\n",
    "\n",
    "Empty: \n",
    "\n",
    "The above exception was the direct cause of the following exception:\n",
    "\n",
    "RuntimeError                              Traceback (most recent call last)\n",
    "<ipython-input-10-cc88ea5f8bd3> in <module>\n",
    "----> 1 model_ft = train_model(model_ft, criterion, optimizer_ft, exp_lr_scheduler,\n",
    "      2                        num_epochs=25)\n",
    "\n",
    "<ipython-input-6-795e733f6d1d> in train_model(model, criterion, optimizer, scheduler, num_epochs)\n",
    "     20 \n",
    "     21             # 데이터를 반복\n",
    "---> 22             for inputs, labels in dataloaders[phase]:\n",
    "     23                 inputs = inputs.to(device)\n",
    "     24                 labels = labels.to(device)\n",
    "\n",
    "~\\AppData\\Local\\Programs\\Python\\Python39\\lib\\site-packages\\torch\\utils\\data\\dataloader.py in __next__(self)\n",
    "    433         if self._sampler_iter is None:\n",
    "    434             self._reset()\n",
    "--> 435         data = self._next_data()\n",
    "    436         self._num_yielded += 1\n",
    "    437         if self._dataset_kind == _DatasetKind.Iterable and \\\n",
    "\n",
    "~\\AppData\\Local\\Programs\\Python\\Python39\\lib\\site-packages\\torch\\utils\\data\\dataloader.py in _next_data(self)\n",
    "   1066 \n",
    "   1067             assert not self._shutdown and self._tasks_outstanding > 0\n",
    "-> 1068             idx, data = self._get_data()\n",
    "   1069             self._tasks_outstanding -= 1\n",
    "   1070             if self._dataset_kind == _DatasetKind.Iterable:\n",
    "\n",
    "~\\AppData\\Local\\Programs\\Python\\Python39\\lib\\site-packages\\torch\\utils\\data\\dataloader.py in _get_data(self)\n",
    "   1032         else:\n",
    "   1033             while True:\n",
    "-> 1034                 success, data = self._try_get_data()\n",
    "   1035                 if success:\n",
    "   1036                     return data\n",
    "\n",
    "~\\AppData\\Local\\Programs\\Python\\Python39\\lib\\site-packages\\torch\\utils\\data\\dataloader.py in _try_get_data(self, timeout)\n",
    "    883             if len(failed_workers) > 0:\n",
    "    884                 pids_str = ', '.join(str(w.pid) for w in failed_workers)\n",
    "--> 885                 raise RuntimeError('DataLoader worker (pid(s) {}) exited unexpectedly'.format(pids_str)) from e\n",
    "    886             if isinstance(e, queue.Empty):\n",
    "    887                 return (False, None)\n",
    "\n",
    "RuntimeError: DataLoader worker (pid(s) 13400, 17780, 12652) exited unexpectedly"
   ],
   "cell_type": "code",
   "metadata": {},
   "execution_count": 2,
   "outputs": [
    {
     "output_type": "error",
     "ename": "SyntaxError",
     "evalue": "invalid syntax (<ipython-input-2-94882d813356>, line 1)",
     "traceback": [
      "\u001b[1;36m  File \u001b[1;32m\"<ipython-input-2-94882d813356>\"\u001b[1;36m, line \u001b[1;32m1\u001b[0m\n\u001b[1;33m    ---------------------------------------------------------------------------\u001b[0m\n\u001b[1;37m                                                                               ^\u001b[0m\n\u001b[1;31mSyntaxError\u001b[0m\u001b[1;31m:\u001b[0m invalid syntax\n"
     ]
    }
   ]
  },
  {
   "source": [
    "RuntimeError: DataLoader worker (pid(s) 13400, 17780, 12652) exited unexpectedly\n",
    "\n",
    "DataLoader 오류가 또 발생했다\n",
    "\n",
    "내 그래픽카드를 부셔버리고 싶다"
   ],
   "cell_type": "markdown",
   "metadata": {}
  }
 ]
}