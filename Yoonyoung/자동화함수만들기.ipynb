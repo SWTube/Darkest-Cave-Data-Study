{
  "nbformat": 4,
  "nbformat_minor": 0,
  "metadata": {
    "colab": {
      "name": "자동화함수만들기.ipynb",
      "provenance": [],
      "collapsed_sections": []
    },
    "kernelspec": {
      "name": "python3",
      "display_name": "Python 3"
    },
    "language_info": {
      "name": "python"
    }
  },
  "cells": [
    {
      "cell_type": "markdown",
      "metadata": {
        "id": "VL2prDraDT0O"
      },
      "source": [
        "출처: https://neurowhai.tistory.com/273 [NeuroWhAI의 잡블로그]"
      ]
    },
    {
      "cell_type": "code",
      "metadata": {
        "colab": {
          "base_uri": "https://localhost:8080/"
        },
        "id": "OVOJTysMMhJD",
        "outputId": "b4dfb34b-d049-4b09-9adf-2e0c19a617b4"
      },
      "source": [
        "from google.colab import drive\n",
        "drive.mount('/content/drive')"
      ],
      "execution_count": null,
      "outputs": [
        {
          "output_type": "stream",
          "text": [
            "Mounted at /content/drive\n"
          ],
          "name": "stdout"
        }
      ]
    },
    {
      "cell_type": "code",
      "metadata": {
        "id": "WNNIztFlKgUH"
      },
      "source": [
        "# 데이터 전처리 부분\n",
        "import os\n",
        "from PIL import Image\n",
        "path = \"/content/drive/MyDrive/Data/\"\n",
        "images = os.listdir(path + \"에셋폴더\") #에셋 담긴 폴더명\n",
        "\n",
        "for i, name in enumerate(images):\n",
        "    png = Image.open(path + \"에셋폴더/\" + name) #에셋 담긴 폴더명\n",
        "    png.load()\n",
        "\n",
        "    # 이 부분은 에셋 뒤에 투명한 배경 부분을 검정색으로 매꾸는 과정\n",
        "    background = Image.new(\"RGB\", png.size, (0,0,0))\n",
        "    background.paste(png, mask=png.split()[3]) #3은 alpha channel\n",
        "\n",
        "    # 32,32로 사이즈를 수정 (Image.ANTIALIAS는 저화질로 바꿀 때 필요한 것. 이 부분은 필요 없으면 지워도 될 듯.)\n",
        "    background.thumbnail((32,32), Image.ANTIALIAS)\n",
        "    background.save(path + \"전처리_폴더/\" + str(i) + \".jpg\", 'JPEG', quality=80) # 새로운 폴더를 생성해서 파일을 저장"
      ],
      "execution_count": null,
      "outputs": []
    },
    {
      "cell_type": "code",
      "metadata": {
        "id": "umY-fypXKfIU"
      },
      "source": [
        "import os.path\n",
        "import numpy as np\n",
        "import keras.backend as K\n",
        "import os\n",
        "from PIL import Image\n",
        "path = \"/content/drive/MyDrive/Data/\"\n",
        "K.set_image_data_format('channels_last')\n",
        "\n",
        "class Data():\n",
        "    def __init__(self):\n",
        "        img_data_list = []\n",
        "        images = os.listdir(\"/content/drive/MyDrive/Data/전처리_폴더\")\n",
        "\n",
        "        for path in images:\n",
        "            img = Image.open(\"/content/drive/MyDrive/Data/전처리_폴더/\" + path)\n",
        "            img_data_list.append([np.array(img).astype('float32')])\n",
        "        \n",
        "        self.x_train = np.vstack(img_data_list) / 255.0\n",
        "        print(self.x_train.shape)\n",
        "    \n",
        "dataset = Data()\n",
        "x_train = dataset.x_train\n"
      ],
      "execution_count": null,
      "outputs": []
    }
  ]
}