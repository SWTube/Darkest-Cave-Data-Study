{
 "metadata": {
  "language_info": {
   "codemirror_mode": {
    "name": "ipython",
    "version": 3
   },
   "file_extension": ".py",
   "mimetype": "text/x-python",
   "name": "python",
   "nbconvert_exporter": "python",
   "pygments_lexer": "ipython3",
   "version": "3.9.1-final"
  },
  "orig_nbformat": 2,
  "kernelspec": {
   "name": "python3",
   "display_name": "Python 3.9.1 64-bit",
   "metadata": {
    "interpreter": {
     "hash": "c73e5749eef24712aa57a6f7056eff5de2d1cfcc1b2800305556963bdb3c96d5"
    }
   }
  }
 },
 "nbformat": 4,
 "nbformat_minor": 2,
 "cells": [
  {
   "source": [
    "# from bs4 import BeautifulSoup\n",
    "# from urllib.request import urlopen\n",
    "\n",
    "# with urlopen('https://mysingingmonsters.fandom.com/wiki/Monster_Names') as response:\n",
    "#     soup = BeautifulSoup(response, 'html.parser')\n",
    "#     for anchor in soup.find_all('a'):\n",
    "#         print(anchor.get('href', '/'))"
   ],
   "cell_type": "code",
   "metadata": {
    "tags": [
     "outputPrepend"
    ]
   },
   "execution_count": null,
   "outputs": []
  },
  {
   "source": [
    "from selenium import webdriver\n",
    "from selenium.webdriver.common.keys import Keys\n",
    "\n",
    "import time\n",
    "import pandas as pd\n",
    "\n",
    "# 뒤로 가기 함수\n",
    "def go_back_page():\n",
    "    print('페이지 돌아가기중...')\n",
    "    driver.execute_script(\"window.history.go(-1)\")\n",
    "    time.sleep(5)\n",
    "    print('페이지 돌아가기 완료!'+'\\n')"
   ],
   "cell_type": "code",
   "metadata": {},
   "execution_count": null,
   "outputs": []
  },
  {
   "cell_type": "code",
   "execution_count": null,
   "metadata": {},
   "outputs": [],
   "source": [
    "sheets = {'name' : [1], 'image' : [1], 'class' : [1], 'attribute' : [1], 'weeknees' : [1]}\n",
    "df = pd.DataFrame(sheets)\n",
    "display(df)"
   ]
  },
  {
   "cell_type": "code",
   "execution_count": null,
   "metadata": {},
   "outputs": [],
   "source": [
    "# 임시 데이터 프레임 생성\n",
    "list_name = []\n",
    "list_img = []\n",
    "list_class = []\n",
    "list_attribute = []\n",
    "list_weekness = []\n",
    "\n",
    "temp_dic = {'name' : list_name, 'image' : list_img, 'class' : list_class, 'attribute' : list_attribute, 'weekness' : list_weekness}\n",
    "temp_df = pd.DataFrame(temp_dic)\n",
    "display(temp_df)"
   ]
  },
  {
   "source": [
    "# 크롬 브라우저 실행\n",
    "driver = webdriver.Chrome()\n",
    "driver.get(\"https://monsterhunter.fandom.com/wiki/Monster_List\")\n",
    "driver.implicitly_wait(3)\n",
    "\n",
    "# 첫 표 첫 행\n",
    "driver.find_element_by_css_selector('#mw-content-text > div > table:nth-child(5) > tbody > tr:nth-child(4) > td:nth-child(2) > a').click()\n",
    "print(driver.find_element_by_css_selector('pi-item pi-item-spacing pi-title'))\n",
    "\n",
    "# 몬스터 정보 리스트에 추가\n",
    "# list_name.append(driver.find_element_by_css_selector('#mw-content-text > div > aside > h2:nth-child(1)'))\n",
    "# list_img.append(driver.find_element_by_css_selector('#mw-content-text > div > aside > figure'))\n",
    "# list_class.append(driver.find_element_by_css_selector('#mw-content-text > div > aside > section:nth-child(6) > div:nth-child(2) > div'))\n",
    "# list_attribute.append(driver.find_element_by_css_selector('#mw-content-text > div > aside > section:nth-child(6) > div:nth-child(4) > div'))\n",
    "# list_weekness.append(driver.find_element_by_css_selector('#mw-content-text > div > aside > section:nth-child(6) > div:nth-child(5) > div > small:nth-child(1) > a:nth-child(2)'))\n",
    "\n",
    "temp_df = pd.DataFrame(temp_dic)\n",
    "display(temp_df)\n",
    "#driver.find_element_by_css_selector('#mw-content-text > div > aside > section:nth-child(6) > div:nth-child(5) > div > small:nth-child(3) > a:nth-child(2)')\n",
    "<h2 class=\"pi-item pi-item-spacing pi-title\" data-source=\"Name\">Apceros</h2>\n",
    "# 다음 행\n",
    "# document.querySelector(\"#mw-content-text > div > table:nth-child(5) > tbody > tr:nth-child(5) > td:nth-child(2) > a\")\n",
    "\n",
    "# 다음 표\n",
    "# document.querySelector(\"#mw-content-text > div > table:nth-child(6) > tbody > tr:nth-child(4) > td:nth-child(2) > a\")"
   ],
   "cell_type": "code",
   "metadata": {},
   "execution_count": null,
   "outputs": []
  },
  {
   "cell_type": "code",
   "execution_count": null,
   "metadata": {},
   "outputs": [],
   "source": [
    "go_back_page()\n",
    "\n",
    "# assert \"Python\" in driver.title\n",
    "# elem = driver.find_element_by_name(\"q\")\n",
    "# elem.clear()\n",
    "# elem.send_keys(\"pycon\")\n",
    "# elem.send_keys(Keys.RETURN)\n",
    "# assert \"No results found.\" not in driver.page_source\n",
    "# driver.close()"
   ]
  }
 ]
}