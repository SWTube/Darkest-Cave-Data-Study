{
 "metadata": {
  "language_info": {
   "codemirror_mode": {
    "name": "ipython",
    "version": 3
   },
   "file_extension": ".py",
   "mimetype": "text/x-python",
   "name": "python",
   "nbconvert_exporter": "python",
   "pygments_lexer": "ipython3",
   "version": "3.9.1-final"
  },
  "orig_nbformat": 2,
  "kernelspec": {
   "name": "python3",
   "display_name": "Python 3.9.1 64-bit",
   "metadata": {
    "interpreter": {
     "hash": "c73e5749eef24712aa57a6f7056eff5de2d1cfcc1b2800305556963bdb3c96d5"
    }
   }
  }
 },
 "nbformat": 4,
 "nbformat_minor": 2,
 "cells": [
  {
   "source": [
    "# from bs4 import BeautifulSoup\n",
    "# from urllib.request import urlopen\n",
    "\n",
    "# with urlopen('https://mysingingmonsters.fandom.com/wiki/Monster_Names') as response:\n",
    "#     soup = BeautifulSoup(response, 'html.parser')\n",
    "#     for anchor in soup.find_all('a'):\n",
    "#         print(anchor.get('href', '/'))"
   ],
   "cell_type": "code",
   "metadata": {
    "tags": [
     "outputPrepend"
    ]
   },
   "execution_count": null,
   "outputs": []
  },
  {
   "source": [
    "from selenium import webdriver\n",
    "from selenium.webdriver.common.keys import Keys\n",
    "\n",
    "import time\n",
    "import csv\n",
    "import pandas as pd\n",
    "\n",
    "# 크롬 브라우저 실행\n",
    "driver = webdriver.Chrome()\n",
    "driver.get(\"https://monsterhunter.fandom.com/wiki/Monster_List\")\n",
    "driver.implicitly_wait(3)\n",
    "\n",
    "# 뒤로 가기 함수\n",
    "def go_back_page():\n",
    "    print('페이지 돌아가기중...')\n",
    "    driver.execute_script(\"window.history.go(-1)\")\n",
    "    time.sleep(5)\n",
    "    print('페이지 돌아가기 완료!'+'\\n')"
   ],
   "cell_type": "code",
   "metadata": {},
   "execution_count": 47,
   "outputs": []
  },
  {
   "cell_type": "code",
   "execution_count": null,
   "metadata": {},
   "outputs": [],
   "source": [
    "sheets = {'name' : [1], 'image' : [1], 'class' : [1], 'attribute' : [1], 'weeknees' : [1]}\n",
    "df = pd.DataFrame(sheets)\n",
    "display(df)"
   ]
  },
  {
   "cell_type": "code",
   "execution_count": null,
   "metadata": {},
   "outputs": [],
   "source": [
    "# 임시 데이터 프레임 생성\n",
    "list_name = []\n",
    "list_img = []\n",
    "list_class = []\n",
    "list_attribute = []\n",
    "list_weekness = []\n",
    "\n",
    "temp_dic = {'name' : list_name, 'image' : list_img, 'class' : list_class, 'attribute' : list_attribute, 'weekness' : list_weekness}\n",
    "temp_df = pd.DataFrame(temp_dic)\n",
    "display(temp_df)"
   ]
  },
  {
   "source": [
    "# 첫 표 첫 행\n",
    "driver.find_element_by_css_selector('#mw-content-text > div > table:nth-child(5) > tbody > tr:nth-child(4) > td:nth-child(2) > a').click()\n",
    "print(driver.find_element_by_css_selector('pi-item pi-item-spacing pi-title'))\n",
    "\n",
    "# 몬스터 정보 리스트에 추가\n",
    "# list_name.append(driver.find_element_by_css_selector('#mw-content-text > div > aside > h2:nth-child(1)'))\n",
    "# list_img.append(driver.find_element_by_css_selector('#mw-content-text > div > aside > figure'))\n",
    "# list_class.append(driver.find_element_by_css_selector('#mw-content-text > div > aside > section:nth-child(6) > div:nth-child(2) > div'))\n",
    "# list_attribute.append(driver.find_element_by_css_selector('#mw-content-text > div > aside > section:nth-child(6) > div:nth-child(4) > div'))\n",
    "# list_weekness.append(driver.find_element_by_css_selector('#mw-content-text > div > aside > section:nth-child(6) > div:nth-child(5) > div > small:nth-child(1) > a:nth-child(2)'))\n",
    "\n",
    "temp_df = pd.DataFrame(temp_dic)\n",
    "display(temp_df)\n",
    "#driver.find_element_by_css_selector('#mw-content-text > div > aside > section:nth-child(6) > div:nth-child(5) > div > small:nth-child(3) > a:nth-child(2)')\n",
    "<h2 class=\"pi-item pi-item-spacing pi-title\" data-source=\"Name\">Apceros</h2>\n",
    "# 다음 행\n",
    "# document.querySelector(\"#mw-content-text > div > table:nth-child(5) > tbody > tr:nth-child(5) > td:nth-child(2) > a\")\n",
    "\n",
    "# 다음 표\n",
    "# document.querySelector(\"#mw-content-text > div > table:nth-child(6) > tbody > tr:nth-child(4) > td:nth-child(2) > a\")"
   ],
   "cell_type": "code",
   "metadata": {},
   "execution_count": 49,
   "outputs": [
    {
     "output_type": "stream",
     "name": "stdout",
     "text": [
      "<selenium.webdriver.remote.webelement.WebElement (session=\"47d57865d78cffdac63183ae3e04ee70\", element=\"b245b142-df5b-473c-a513-5bb2961e512c\")>\n"
     ]
    },
    {
     "output_type": "display_data",
     "data": {
      "text/plain": "                                                name  \\\n0  <selenium.webdriver.remote.webelement.WebEleme...   \n1  <selenium.webdriver.remote.webelement.WebEleme...   \n2  <selenium.webdriver.remote.webelement.WebEleme...   \n\n                                               image  \\\n0  <selenium.webdriver.remote.webelement.WebEleme...   \n1  <selenium.webdriver.remote.webelement.WebEleme...   \n2  <selenium.webdriver.remote.webelement.WebEleme...   \n\n                                               class  \\\n0  <selenium.webdriver.remote.webelement.WebEleme...   \n1  <selenium.webdriver.remote.webelement.WebEleme...   \n2  <selenium.webdriver.remote.webelement.WebEleme...   \n\n                                           attribute  \\\n0  <selenium.webdriver.remote.webelement.WebEleme...   \n1  <selenium.webdriver.remote.webelement.WebEleme...   \n2  <selenium.webdriver.remote.webelement.WebEleme...   \n\n                                            weekness  \n0  <selenium.webdriver.remote.webelement.WebEleme...  \n1  <selenium.webdriver.remote.webelement.WebEleme...  \n2  <selenium.webdriver.remote.webelement.WebEleme...  ",
      "text/html": "<div>\n<style scoped>\n    .dataframe tbody tr th:only-of-type {\n        vertical-align: middle;\n    }\n\n    .dataframe tbody tr th {\n        vertical-align: top;\n    }\n\n    .dataframe thead th {\n        text-align: right;\n    }\n</style>\n<table border=\"1\" class=\"dataframe\">\n  <thead>\n    <tr style=\"text-align: right;\">\n      <th></th>\n      <th>name</th>\n      <th>image</th>\n      <th>class</th>\n      <th>attribute</th>\n      <th>weekness</th>\n    </tr>\n  </thead>\n  <tbody>\n    <tr>\n      <th>0</th>\n      <td>&lt;selenium.webdriver.remote.webelement.WebEleme...</td>\n      <td>&lt;selenium.webdriver.remote.webelement.WebEleme...</td>\n      <td>&lt;selenium.webdriver.remote.webelement.WebEleme...</td>\n      <td>&lt;selenium.webdriver.remote.webelement.WebEleme...</td>\n      <td>&lt;selenium.webdriver.remote.webelement.WebEleme...</td>\n    </tr>\n    <tr>\n      <th>1</th>\n      <td>&lt;selenium.webdriver.remote.webelement.WebEleme...</td>\n      <td>&lt;selenium.webdriver.remote.webelement.WebEleme...</td>\n      <td>&lt;selenium.webdriver.remote.webelement.WebEleme...</td>\n      <td>&lt;selenium.webdriver.remote.webelement.WebEleme...</td>\n      <td>&lt;selenium.webdriver.remote.webelement.WebEleme...</td>\n    </tr>\n    <tr>\n      <th>2</th>\n      <td>&lt;selenium.webdriver.remote.webelement.WebEleme...</td>\n      <td>&lt;selenium.webdriver.remote.webelement.WebEleme...</td>\n      <td>&lt;selenium.webdriver.remote.webelement.WebEleme...</td>\n      <td>&lt;selenium.webdriver.remote.webelement.WebEleme...</td>\n      <td>&lt;selenium.webdriver.remote.webelement.WebEleme...</td>\n    </tr>\n  </tbody>\n</table>\n</div>"
     },
     "metadata": {}
    }
   ]
  },
  {
   "cell_type": "code",
   "execution_count": null,
   "metadata": {},
   "outputs": [],
   "source": [
    "go_back_page()\n",
    "\n",
    "# assert \"Python\" in driver.title\n",
    "# elem = driver.find_element_by_name(\"q\")\n",
    "# elem.clear()\n",
    "# elem.send_keys(\"pycon\")\n",
    "# elem.send_keys(Keys.RETURN)\n",
    "# assert \"No results found.\" not in driver.page_source\n",
    "# driver.close()"
   ]
  }
 ]
}