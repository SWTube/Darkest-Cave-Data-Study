{
  "nbformat": 4,
  "nbformat_minor": 0,
  "metadata": {
    "colab": {
      "name": "핸즈온머신러닝-10-TF.ipynb",
      "provenance": [],
      "collapsed_sections": [],
      "toc_visible": true
    },
    "kernelspec": {
      "name": "python3",
      "display_name": "Python 3"
    }
  },
  "cells": [
    {
      "cell_type": "markdown",
      "metadata": {
        "id": "2pUwy6HCGChp"
      },
      "source": [
        "## 10.2 케라스로 다층 퍼셉트론 구현하기"
      ]
    },
    {
      "cell_type": "markdown",
      "metadata": {
        "id": "36YRWDmhGFS0"
      },
      "source": [
        "### 10.2.2 시퀀셜 API를 사용하여 이미지 분류기 만들기"
      ]
    },
    {
      "cell_type": "markdown",
      "metadata": {
        "id": "6eavAxZ1JU00"
      },
      "source": [
        "* MNIST 28*28 픽셀 크기의 패션 아이템 이미지"
      ]
    },
    {
      "cell_type": "markdown",
      "metadata": {
        "id": "I2o4sqBXPh4w"
      },
      "source": [
        "### 케라스를 사용하여 데이터셋 적재하기"
      ]
    },
    {
      "cell_type": "code",
      "metadata": {
        "colab": {
          "base_uri": "https://localhost:8080/",
          "height": 35
        },
        "id": "yuEnHGyKDU_o",
        "outputId": "42d1a331-f30b-47ce-b1fa-6cf4b20ab3af"
      },
      "source": [
        "import tensorflow as tf\r\n",
        "from tensorflow import keras\r\n",
        "keras.__version__"
      ],
      "execution_count": 1,
      "outputs": [
        {
          "output_type": "execute_result",
          "data": {
            "application/vnd.google.colaboratory.intrinsic+json": {
              "type": "string"
            },
            "text/plain": [
              "'2.4.0'"
            ]
          },
          "metadata": {
            "tags": []
          },
          "execution_count": 1
        }
      ]
    },
    {
      "cell_type": "code",
      "metadata": {
        "colab": {
          "base_uri": "https://localhost:8080/"
        },
        "id": "ze3zHY_lJM24",
        "outputId": "cb44a508-732f-467d-cd1a-268463147c4b"
      },
      "source": [
        "fashion_mnist = keras.datasets.fashion_mnist\r\n",
        "(X_train_full, y_train_full), (X_test, y_test) = fashion_mnist.load_data()"
      ],
      "execution_count": 2,
      "outputs": [
        {
          "output_type": "stream",
          "text": [
            "Downloading data from https://storage.googleapis.com/tensorflow/tf-keras-datasets/train-labels-idx1-ubyte.gz\n",
            "32768/29515 [=================================] - 0s 0us/step\n",
            "Downloading data from https://storage.googleapis.com/tensorflow/tf-keras-datasets/train-images-idx3-ubyte.gz\n",
            "26427392/26421880 [==============================] - 0s 0us/step\n",
            "Downloading data from https://storage.googleapis.com/tensorflow/tf-keras-datasets/t10k-labels-idx1-ubyte.gz\n",
            "8192/5148 [===============================================] - 0s 0us/step\n",
            "Downloading data from https://storage.googleapis.com/tensorflow/tf-keras-datasets/t10k-images-idx3-ubyte.gz\n",
            "4423680/4422102 [==============================] - 0s 0us/step\n"
          ],
          "name": "stdout"
        }
      ]
    },
    {
      "cell_type": "code",
      "metadata": {
        "colab": {
          "base_uri": "https://localhost:8080/"
        },
        "id": "eunpT-4YJMzG",
        "outputId": "c68ad67f-4480-4064-d9e1-1316d16321e4"
      },
      "source": [
        "X_train_full.shape"
      ],
      "execution_count": 3,
      "outputs": [
        {
          "output_type": "execute_result",
          "data": {
            "text/plain": [
              "(60000, 28, 28)"
            ]
          },
          "metadata": {
            "tags": []
          },
          "execution_count": 3
        }
      ]
    },
    {
      "cell_type": "code",
      "metadata": {
        "colab": {
          "base_uri": "https://localhost:8080/"
        },
        "id": "7nbNE2zmJMus",
        "outputId": "45b9f4f1-81ad-4e91-a40a-978765a730a4"
      },
      "source": [
        "X_train_full.dtype"
      ],
      "execution_count": 4,
      "outputs": [
        {
          "output_type": "execute_result",
          "data": {
            "text/plain": [
              "dtype('uint8')"
            ]
          },
          "metadata": {
            "tags": []
          },
          "execution_count": 4
        }
      ]
    },
    {
      "cell_type": "code",
      "metadata": {
        "id": "j4a-MUrlKnOq"
      },
      "source": [
        "X_valid, X_train = X_train_full[:5000] / 255.0 , X_train_full[5000:] / 255.0\r\n",
        "y_valid, y_train = y_train_full[:5000], y_train_full[5000:]\r\n",
        "X_test = X_test / 255.0"
      ],
      "execution_count": 5,
      "outputs": []
    },
    {
      "cell_type": "code",
      "metadata": {
        "colab": {
          "base_uri": "https://localhost:8080/",
          "height": 35
        },
        "id": "0tW0cinjKnMm",
        "outputId": "73029c7f-fb14-412d-c463-b26049aed7d4"
      },
      "source": [
        "class_names = [\"T-shirt/top\", \"Trouser\", \"Pullover\", \"Dress\", \"Coat\",\r\n",
        "               \"Sandal\", \"Shirt\", \"Sneaker\", \"Bag\", \"Ankle boot\"]\r\n",
        "class_names[y_train[0]]"
      ],
      "execution_count": 6,
      "outputs": [
        {
          "output_type": "execute_result",
          "data": {
            "application/vnd.google.colaboratory.intrinsic+json": {
              "type": "string"
            },
            "text/plain": [
              "'Coat'"
            ]
          },
          "metadata": {
            "tags": []
          },
          "execution_count": 6
        }
      ]
    },
    {
      "cell_type": "markdown",
      "metadata": {
        "id": "NrKzf7olPmC7"
      },
      "source": [
        "### 시퀀셜 API를 사용하여 모델 만들기"
      ]
    },
    {
      "cell_type": "code",
      "metadata": {
        "id": "pqU7GMEEKnKu"
      },
      "source": [
        "model = keras.models.Sequential() # 시퀀셜 모델을 만듦. 가장 간단한 케라스의 신경망 모델\r\n",
        "model.add(keras.layers.Flatten(input_shape = [28,28])) \r\n",
        "model.add(keras.layers.Dense(300, activation=\"relu\")) # 뉴런 300개를 가진 Dense 은닉층 추가, Relu 활성화 함수 사용\r\n",
        "model.add(keras.layers.Dense(100, activation=\"relu\")) # 뉴런 100개를 가진 Dense 은닉층 추가, Relu 활성화 함수 사용 \r\n",
        "model.add(keras.layers.Dense(10, activation=\"softmax\")) "
      ],
      "execution_count": 7,
      "outputs": []
    },
    {
      "cell_type": "code",
      "metadata": {
        "id": "LrqNKj7DKnHK"
      },
      "source": [
        "model = keras.models.Sequential([\r\n",
        "                                 keras.layers.Flatten(input_shape = [28, 28]),\r\n",
        "                                 keras.layers.Dense(300, activation = \"relu\"),\r\n",
        "                                 keras.layers.Dense(100, activation = \"relu\"),\r\n",
        "                                 keras.layers.Dense(10, activation = \"softmax\")\r\n",
        "])"
      ],
      "execution_count": 8,
      "outputs": []
    },
    {
      "cell_type": "markdown",
      "metadata": {
        "id": "C9YAyDxCN5xA"
      },
      "source": [
        "* 모델의 `summary()` 메서드는 모델의 모든 층을 출력한다. 각 층의 이름, 출력 크기, 파라미터 개수, 훈련되는 파라미터와 훈련되지 않은 파라미터를 포함해 전체 파라미터 개수를 출력합니다.\r\n",
        "* None은 배치 크기에 어떤 값도 가능하다는 의미이다."
      ]
    },
    {
      "cell_type": "code",
      "metadata": {
        "colab": {
          "base_uri": "https://localhost:8080/"
        },
        "id": "1OJTGUFjKnEt",
        "outputId": "e8a91082-893f-4d5e-b542-d310adfbd106"
      },
      "source": [
        "model.summary()"
      ],
      "execution_count": 9,
      "outputs": [
        {
          "output_type": "stream",
          "text": [
            "Model: \"sequential_1\"\n",
            "_________________________________________________________________\n",
            "Layer (type)                 Output Shape              Param #   \n",
            "=================================================================\n",
            "flatten_1 (Flatten)          (None, 784)               0         \n",
            "_________________________________________________________________\n",
            "dense_3 (Dense)              (None, 300)               235500    \n",
            "_________________________________________________________________\n",
            "dense_4 (Dense)              (None, 100)               30100     \n",
            "_________________________________________________________________\n",
            "dense_5 (Dense)              (None, 10)                1010      \n",
            "=================================================================\n",
            "Total params: 266,610\n",
            "Trainable params: 266,610\n",
            "Non-trainable params: 0\n",
            "_________________________________________________________________\n"
          ],
          "name": "stdout"
        }
      ]
    },
    {
      "cell_type": "code",
      "metadata": {
        "colab": {
          "base_uri": "https://localhost:8080/"
        },
        "id": "SUZeGvEqN8uk",
        "outputId": "ea5ab204-6b8a-477f-ce12-d618f0b8d4b0"
      },
      "source": [
        "model.layers"
      ],
      "execution_count": 10,
      "outputs": [
        {
          "output_type": "execute_result",
          "data": {
            "text/plain": [
              "[<tensorflow.python.keras.layers.core.Flatten at 0x7f8e15a95090>,\n",
              " <tensorflow.python.keras.layers.core.Dense at 0x7f8e15a95650>,\n",
              " <tensorflow.python.keras.layers.core.Dense at 0x7f8dd5229990>,\n",
              " <tensorflow.python.keras.layers.core.Dense at 0x7f8dd5229e50>]"
            ]
          },
          "metadata": {
            "tags": []
          },
          "execution_count": 10
        }
      ]
    },
    {
      "cell_type": "code",
      "metadata": {
        "id": "2cc3RQO6OeKA"
      },
      "source": [
        "hidden1 = model.layers[1]"
      ],
      "execution_count": 11,
      "outputs": []
    },
    {
      "cell_type": "code",
      "metadata": {
        "colab": {
          "base_uri": "https://localhost:8080/",
          "height": 35
        },
        "id": "rP0xyALOOeHd",
        "outputId": "d6263d47-74cb-4c2f-c0eb-2c80c6cee020"
      },
      "source": [
        "hidden1.name"
      ],
      "execution_count": 12,
      "outputs": [
        {
          "output_type": "execute_result",
          "data": {
            "application/vnd.google.colaboratory.intrinsic+json": {
              "type": "string"
            },
            "text/plain": [
              "'dense_3'"
            ]
          },
          "metadata": {
            "tags": []
          },
          "execution_count": 12
        }
      ]
    },
    {
      "cell_type": "code",
      "metadata": {
        "id": "m5xjhvEpOd_R"
      },
      "source": [
        "weights, biases = hidden1.get_weights() # 층의 파라미터에 접근합니다."
      ],
      "execution_count": 13,
      "outputs": []
    },
    {
      "cell_type": "code",
      "metadata": {
        "colab": {
          "base_uri": "https://localhost:8080/"
        },
        "id": "f_F8kEd1OrXz",
        "outputId": "259dca09-8446-4316-a03c-0eadcbc3613f"
      },
      "source": [
        "weights # 가중치"
      ],
      "execution_count": 14,
      "outputs": [
        {
          "output_type": "execute_result",
          "data": {
            "text/plain": [
              "array([[-0.04985455, -0.06573171, -0.0389005 , ..., -0.04225386,\n",
              "        -0.05192358,  0.01888047],\n",
              "       [ 0.01436833, -0.06516486, -0.01012158, ...,  0.07369456,\n",
              "         0.01862531,  0.07089001],\n",
              "       [-0.04503521, -0.01900339,  0.06398165, ...,  0.06934474,\n",
              "         0.04323845,  0.03710651],\n",
              "       ...,\n",
              "       [ 0.02368014, -0.03163559, -0.03532276, ..., -0.02395801,\n",
              "         0.00863378,  0.0393412 ],\n",
              "       [ 0.02008379,  0.04285368, -0.06740475, ...,  0.01584639,\n",
              "         0.02165838, -0.06405371],\n",
              "       [-0.00959133, -0.00473943, -0.01521541, ...,  0.0089551 ,\n",
              "        -0.06114738,  0.0177217 ]], dtype=float32)"
            ]
          },
          "metadata": {
            "tags": []
          },
          "execution_count": 14
        }
      ]
    },
    {
      "cell_type": "code",
      "metadata": {
        "colab": {
          "base_uri": "https://localhost:8080/"
        },
        "id": "41C6s6t6OrVJ",
        "outputId": "65db20ee-6fe1-439f-f2cb-90f24c648de9"
      },
      "source": [
        "weights.shape"
      ],
      "execution_count": 15,
      "outputs": [
        {
          "output_type": "execute_result",
          "data": {
            "text/plain": [
              "(784, 300)"
            ]
          },
          "metadata": {
            "tags": []
          },
          "execution_count": 15
        }
      ]
    },
    {
      "cell_type": "code",
      "metadata": {
        "colab": {
          "base_uri": "https://localhost:8080/"
        },
        "id": "Ma-weZjAPO4V",
        "outputId": "59d8b830-134b-4e17-ecf0-7eda36d78749"
      },
      "source": [
        "biases # 편향"
      ],
      "execution_count": 16,
      "outputs": [
        {
          "output_type": "execute_result",
          "data": {
            "text/plain": [
              "array([0., 0., 0., 0., 0., 0., 0., 0., 0., 0., 0., 0., 0., 0., 0., 0., 0.,\n",
              "       0., 0., 0., 0., 0., 0., 0., 0., 0., 0., 0., 0., 0., 0., 0., 0., 0.,\n",
              "       0., 0., 0., 0., 0., 0., 0., 0., 0., 0., 0., 0., 0., 0., 0., 0., 0.,\n",
              "       0., 0., 0., 0., 0., 0., 0., 0., 0., 0., 0., 0., 0., 0., 0., 0., 0.,\n",
              "       0., 0., 0., 0., 0., 0., 0., 0., 0., 0., 0., 0., 0., 0., 0., 0., 0.,\n",
              "       0., 0., 0., 0., 0., 0., 0., 0., 0., 0., 0., 0., 0., 0., 0., 0., 0.,\n",
              "       0., 0., 0., 0., 0., 0., 0., 0., 0., 0., 0., 0., 0., 0., 0., 0., 0.,\n",
              "       0., 0., 0., 0., 0., 0., 0., 0., 0., 0., 0., 0., 0., 0., 0., 0., 0.,\n",
              "       0., 0., 0., 0., 0., 0., 0., 0., 0., 0., 0., 0., 0., 0., 0., 0., 0.,\n",
              "       0., 0., 0., 0., 0., 0., 0., 0., 0., 0., 0., 0., 0., 0., 0., 0., 0.,\n",
              "       0., 0., 0., 0., 0., 0., 0., 0., 0., 0., 0., 0., 0., 0., 0., 0., 0.,\n",
              "       0., 0., 0., 0., 0., 0., 0., 0., 0., 0., 0., 0., 0., 0., 0., 0., 0.,\n",
              "       0., 0., 0., 0., 0., 0., 0., 0., 0., 0., 0., 0., 0., 0., 0., 0., 0.,\n",
              "       0., 0., 0., 0., 0., 0., 0., 0., 0., 0., 0., 0., 0., 0., 0., 0., 0.,\n",
              "       0., 0., 0., 0., 0., 0., 0., 0., 0., 0., 0., 0., 0., 0., 0., 0., 0.,\n",
              "       0., 0., 0., 0., 0., 0., 0., 0., 0., 0., 0., 0., 0., 0., 0., 0., 0.,\n",
              "       0., 0., 0., 0., 0., 0., 0., 0., 0., 0., 0., 0., 0., 0., 0., 0., 0.,\n",
              "       0., 0., 0., 0., 0., 0., 0., 0., 0., 0., 0.], dtype=float32)"
            ]
          },
          "metadata": {
            "tags": []
          },
          "execution_count": 16
        }
      ]
    },
    {
      "cell_type": "code",
      "metadata": {
        "colab": {
          "base_uri": "https://localhost:8080/"
        },
        "id": "_J06OVxDPOzk",
        "outputId": "d3d00f12-73a8-44ed-e094-74306edc061a"
      },
      "source": [
        "biases.shape"
      ],
      "execution_count": 17,
      "outputs": [
        {
          "output_type": "execute_result",
          "data": {
            "text/plain": [
              "(300,)"
            ]
          },
          "metadata": {
            "tags": []
          },
          "execution_count": 17
        }
      ]
    },
    {
      "cell_type": "markdown",
      "metadata": {
        "id": "KmjcN80JPq0T"
      },
      "source": [
        "### 모델 컴파일"
      ]
    },
    {
      "cell_type": "code",
      "metadata": {
        "id": "Yc9g5CO4POxc"
      },
      "source": [
        "model.compile(loss = \"sparse_categorical_crossentropy\", \r\n",
        "              optimizer = \"sgd\", # 기본 확률적 경사 하강법을 사용해 모델 훈련\r\n",
        "              metrics = ['accuracy'])"
      ],
      "execution_count": 18,
      "outputs": []
    },
    {
      "cell_type": "markdown",
      "metadata": {
        "id": "K8g50plPQN7l"
      },
      "source": [
        "### 모델 훈련과 평가"
      ]
    },
    {
      "cell_type": "code",
      "metadata": {
        "colab": {
          "base_uri": "https://localhost:8080/"
        },
        "id": "yVUun_hhPOu8",
        "outputId": "66dcd16c-8b0a-495e-a7ed-b1d80542f768"
      },
      "source": [
        "history = model.fit(X_train, y_train, epochs = 30, # 훈련할 에포크 횟수\r\n",
        "                    validation_data = (X_valid, y_valid))"
      ],
      "execution_count": 19,
      "outputs": [
        {
          "output_type": "stream",
          "text": [
            "Epoch 1/30\n",
            "1719/1719 [==============================] - 7s 4ms/step - loss: 1.0003 - accuracy: 0.6697 - val_loss: 0.5066 - val_accuracy: 0.8236\n",
            "Epoch 2/30\n",
            "1719/1719 [==============================] - 6s 4ms/step - loss: 0.5043 - accuracy: 0.8239 - val_loss: 0.4505 - val_accuracy: 0.8496\n",
            "Epoch 3/30\n",
            "1719/1719 [==============================] - 6s 4ms/step - loss: 0.4510 - accuracy: 0.8418 - val_loss: 0.4131 - val_accuracy: 0.8586\n",
            "Epoch 4/30\n",
            "1719/1719 [==============================] - 6s 4ms/step - loss: 0.4223 - accuracy: 0.8507 - val_loss: 0.3857 - val_accuracy: 0.8662\n",
            "Epoch 5/30\n",
            "1719/1719 [==============================] - 6s 3ms/step - loss: 0.3992 - accuracy: 0.8607 - val_loss: 0.3901 - val_accuracy: 0.8670\n",
            "Epoch 6/30\n",
            "1719/1719 [==============================] - 6s 4ms/step - loss: 0.3782 - accuracy: 0.8677 - val_loss: 0.3696 - val_accuracy: 0.8750\n",
            "Epoch 7/30\n",
            "1719/1719 [==============================] - 6s 4ms/step - loss: 0.3626 - accuracy: 0.8707 - val_loss: 0.3755 - val_accuracy: 0.8736\n",
            "Epoch 8/30\n",
            "1719/1719 [==============================] - 6s 3ms/step - loss: 0.3581 - accuracy: 0.8726 - val_loss: 0.3529 - val_accuracy: 0.8786\n",
            "Epoch 9/30\n",
            "1719/1719 [==============================] - 6s 4ms/step - loss: 0.3498 - accuracy: 0.8736 - val_loss: 0.3538 - val_accuracy: 0.8748\n",
            "Epoch 10/30\n",
            "1719/1719 [==============================] - 6s 4ms/step - loss: 0.3408 - accuracy: 0.8767 - val_loss: 0.3351 - val_accuracy: 0.8786\n",
            "Epoch 11/30\n",
            "1719/1719 [==============================] - 6s 3ms/step - loss: 0.3261 - accuracy: 0.8820 - val_loss: 0.3336 - val_accuracy: 0.8786\n",
            "Epoch 12/30\n",
            "1719/1719 [==============================] - 6s 3ms/step - loss: 0.3219 - accuracy: 0.8828 - val_loss: 0.3356 - val_accuracy: 0.8804\n",
            "Epoch 13/30\n",
            "1719/1719 [==============================] - 6s 3ms/step - loss: 0.3092 - accuracy: 0.8891 - val_loss: 0.3234 - val_accuracy: 0.8846\n",
            "Epoch 14/30\n",
            "1719/1719 [==============================] - 6s 4ms/step - loss: 0.3053 - accuracy: 0.8894 - val_loss: 0.3264 - val_accuracy: 0.8810\n",
            "Epoch 15/30\n",
            "1719/1719 [==============================] - 6s 3ms/step - loss: 0.2978 - accuracy: 0.8924 - val_loss: 0.3288 - val_accuracy: 0.8796\n",
            "Epoch 16/30\n",
            "1719/1719 [==============================] - 6s 4ms/step - loss: 0.2893 - accuracy: 0.8969 - val_loss: 0.3268 - val_accuracy: 0.8850\n",
            "Epoch 17/30\n",
            "1719/1719 [==============================] - 6s 4ms/step - loss: 0.2875 - accuracy: 0.8957 - val_loss: 0.3090 - val_accuracy: 0.8898\n",
            "Epoch 18/30\n",
            "1719/1719 [==============================] - 6s 3ms/step - loss: 0.2784 - accuracy: 0.8982 - val_loss: 0.3172 - val_accuracy: 0.8852\n",
            "Epoch 19/30\n",
            "1719/1719 [==============================] - 6s 3ms/step - loss: 0.2809 - accuracy: 0.8973 - val_loss: 0.3092 - val_accuracy: 0.8906\n",
            "Epoch 20/30\n",
            "1719/1719 [==============================] - 6s 3ms/step - loss: 0.2637 - accuracy: 0.9065 - val_loss: 0.3131 - val_accuracy: 0.8866\n",
            "Epoch 21/30\n",
            "1719/1719 [==============================] - 6s 3ms/step - loss: 0.2635 - accuracy: 0.9042 - val_loss: 0.3114 - val_accuracy: 0.8852\n",
            "Epoch 22/30\n",
            "1719/1719 [==============================] - 6s 3ms/step - loss: 0.2644 - accuracy: 0.9041 - val_loss: 0.3157 - val_accuracy: 0.8830\n",
            "Epoch 23/30\n",
            "1719/1719 [==============================] - 6s 3ms/step - loss: 0.2591 - accuracy: 0.9074 - val_loss: 0.3182 - val_accuracy: 0.8828\n",
            "Epoch 24/30\n",
            "1719/1719 [==============================] - 6s 3ms/step - loss: 0.2555 - accuracy: 0.9077 - val_loss: 0.3088 - val_accuracy: 0.8900\n",
            "Epoch 25/30\n",
            "1719/1719 [==============================] - 6s 3ms/step - loss: 0.2479 - accuracy: 0.9106 - val_loss: 0.3001 - val_accuracy: 0.8922\n",
            "Epoch 26/30\n",
            "1719/1719 [==============================] - 6s 3ms/step - loss: 0.2471 - accuracy: 0.9123 - val_loss: 0.2969 - val_accuracy: 0.8928\n",
            "Epoch 27/30\n",
            "1719/1719 [==============================] - 6s 3ms/step - loss: 0.2426 - accuracy: 0.9115 - val_loss: 0.3094 - val_accuracy: 0.8856\n",
            "Epoch 28/30\n",
            "1719/1719 [==============================] - 6s 3ms/step - loss: 0.2401 - accuracy: 0.9138 - val_loss: 0.3007 - val_accuracy: 0.8914\n",
            "Epoch 29/30\n",
            "1719/1719 [==============================] - 6s 4ms/step - loss: 0.2326 - accuracy: 0.9169 - val_loss: 0.2997 - val_accuracy: 0.8912\n",
            "Epoch 30/30\n",
            "1719/1719 [==============================] - 6s 4ms/step - loss: 0.2363 - accuracy: 0.9162 - val_loss: 0.2949 - val_accuracy: 0.8968\n"
          ],
          "name": "stdout"
        }
      ]
    },
    {
      "cell_type": "code",
      "metadata": {
        "id": "Q8QDIiwuPOsu",
        "colab": {
          "base_uri": "https://localhost:8080/",
          "height": 324
        },
        "outputId": "dc25f073-6738-4286-8888-2b0bcd38cede"
      },
      "source": [
        "# 학습 곡선 보기\r\n",
        "import pandas as pd\r\n",
        "import matplotlib.pyplot as plt\r\n",
        "\r\n",
        "pd.DataFrame(history.history).plot(figsize=(8,5))\r\n",
        "plt.grid(True)\r\n",
        "plt.gca().set_ylim(0,1)\r\n",
        "plt.show()"
      ],
      "execution_count": 20,
      "outputs": [
        {
          "output_type": "display_data",
          "data": {
            "image/png": "[encoded data removed]",
            "text/plain": [
              "<Figure size 576x360 with 1 Axes>"
            ]
          },
          "metadata": {
            "tags": [],
            "needs_background": "light"
          }
        }
      ]
    },
    {
      "cell_type": "markdown",
      "metadata": {
        "id": "tm-fvPZODfG6"
      },
      "source": [
        "* 훈련하는 동안 훈련 정확도와 검증 정확도 꾸준히 상승함.\r\n",
        "* 검증 곡선이 훈련 곡선과 가까움 => 과대적합 X"
      ]
    },
    {
      "cell_type": "markdown",
      "metadata": {
        "id": "SWrKDZXqDvIn"
      },
      "source": [
        "<모델 성능이 만족스럽지 않을 때>\r\n",
        "* 처음으로 돌아가서 하이퍼파라미터를 튜닝해야 함. (장 후반부에 기술)\r\n"
      ]
    },
    {
      "cell_type": "markdown",
      "metadata": {
        "id": "l4-qdVuzESIi"
      },
      "source": [
        "* 배포하기 전 테스트 세트로 모델 평가하기"
      ]
    },
    {
      "cell_type": "code",
      "metadata": {
        "colab": {
          "base_uri": "https://localhost:8080/"
        },
        "id": "qx33GSutC72Q",
        "outputId": "f98c42fa-9ae6-4b6e-b75d-47da58b2c40e"
      },
      "source": [
        "model.evaluate(X_test, y_test)"
      ],
      "execution_count": 21,
      "outputs": [
        {
          "output_type": "stream",
          "text": [
            "313/313 [==============================] - 1s 2ms/step - loss: 0.3250 - accuracy: 0.8866\n"
          ],
          "name": "stdout"
        },
        {
          "output_type": "execute_result",
          "data": {
            "text/plain": [
              "[0.325027734041214, 0.8866000175476074]"
            ]
          },
          "metadata": {
            "tags": []
          },
          "execution_count": 21
        }
      ]
    },
    {
      "cell_type": "markdown",
      "metadata": {
        "id": "P5ZS1F9bEaEX"
      },
      "source": [
        "### 모델을 사용해 예측을 만들기"
      ]
    },
    {
      "cell_type": "markdown",
      "metadata": {
        "id": "7P2kTIMFEuc1"
      },
      "source": [
        "* 모델의 `predict()` 메서드를 사용해 새로운 샘플에 대한 예측을 만든다\r\n",
        "* MNIST는 새로운 샘플이 없으므로 테스트 세트의 처음 3개 샘플을 사용한다 (다른 것 해봐도 됨)"
      ]
    },
    {
      "cell_type": "code",
      "metadata": {
        "colab": {
          "base_uri": "https://localhost:8080/"
        },
        "id": "Il9c2P7yC7xh",
        "outputId": "19a7b82c-7ee7-4733-ccf6-8c939a075bf6"
      },
      "source": [
        "X_new = X_test[:3]\r\n",
        "y_proba = model.predict(X_new)\r\n",
        "y_proba.round(2)"
      ],
      "execution_count": 22,
      "outputs": [
        {
          "output_type": "execute_result",
          "data": {
            "text/plain": [
              "array([[0.  , 0.  , 0.  , 0.  , 0.  , 0.02, 0.  , 0.01, 0.  , 0.97],\n",
              "       [0.  , 0.  , 1.  , 0.  , 0.  , 0.  , 0.  , 0.  , 0.  , 0.  ],\n",
              "       [0.  , 1.  , 0.  , 0.  , 0.  , 0.  , 0.  , 0.  , 0.  , 0.  ]],\n",
              "      dtype=float32)"
            ]
          },
          "metadata": {
            "tags": []
          },
          "execution_count": 22
        }
      ]
    },
    {
      "cell_type": "markdown",
      "metadata": {
        "id": "aTG779w6FADq"
      },
      "source": [
        "* 첫 번째 이미지는 클래스9(Ankle boot) 확률 96%\r\n",
        "* 두 번째 이미지는 클래스2(Pullover)\r\n",
        "* 세 번째 이미지는 클래스1(Trouser) 로 분류"
      ]
    },
    {
      "cell_type": "markdown",
      "metadata": {
        "id": "BEzMNCGRFaMI"
      },
      "source": [
        "* 가장 높은 확률을 가진 클래스만 보고싶을 땐 `predict_clases()` 메서드를 사용한다."
      ]
    },
    {
      "cell_type": "code",
      "metadata": {
        "colab": {
          "base_uri": "https://localhost:8080/"
        },
        "id": "iksaDz3fC7rd",
        "outputId": "54629716-0d06-42d3-fce9-fd61dd136106"
      },
      "source": [
        "y_pred = model.predict_classes(X_new)\r\n",
        "y_pred"
      ],
      "execution_count": 23,
      "outputs": [
        {
          "output_type": "stream",
          "text": [
            "/usr/local/lib/python3.7/dist-packages/tensorflow/python/keras/engine/sequential.py:450: UserWarning: `model.predict_classes()` is deprecated and will be removed after 2021-01-01. Please use instead:* `np.argmax(model.predict(x), axis=-1)`,   if your model does multi-class classification   (e.g. if it uses a `softmax` last-layer activation).* `(model.predict(x) > 0.5).astype(\"int32\")`,   if your model does binary classification   (e.g. if it uses a `sigmoid` last-layer activation).\n",
            "  warnings.warn('`model.predict_classes()` is deprecated and '\n"
          ],
          "name": "stderr"
        },
        {
          "output_type": "execute_result",
          "data": {
            "text/plain": [
              "array([9, 2, 1])"
            ]
          },
          "metadata": {
            "tags": []
          },
          "execution_count": 23
        }
      ]
    },
    {
      "cell_type": "code",
      "metadata": {
        "colab": {
          "base_uri": "https://localhost:8080/"
        },
        "id": "DmBzmzsHFjXY",
        "outputId": "daee8b65-5466-4d5a-d017-bc192e63026b"
      },
      "source": [
        "import numpy as np\r\n",
        "np.array(class_names)[y_pred]"
      ],
      "execution_count": 25,
      "outputs": [
        {
          "output_type": "execute_result",
          "data": {
            "text/plain": [
              "array(['Ankle boot', 'Pullover', 'Trouser'], dtype='<U11')"
            ]
          },
          "metadata": {
            "tags": []
          },
          "execution_count": 25
        }
      ]
    }
  ]
}