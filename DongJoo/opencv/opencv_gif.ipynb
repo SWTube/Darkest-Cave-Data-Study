{
 "cells": [
  {
   "cell_type": "code",
   "execution_count": null,
   "metadata": {},
   "outputs": [],
   "source": [
    "import cv2\n",
    "import numpy as np\n",
    "import matplotlib.pyplot as plt\n",
    "import matplotlib.image as mpimg\n",
    "import imageio\n",
    "from PIL import Image\n",
    "import os"
   ]
  },
  {
   "cell_type": "markdown",
   "metadata": {},
   "source": [
    "### 2번 cell 실행 X, 3번만 됨"
   ]
  },
  {
   "cell_type": "code",
   "execution_count": null,
   "metadata": {},
   "outputs": [],
   "source": [
    "# 기존 이미지 일괄 resizing\n",
    "result = []\n",
    "path = [f\"C:/Users/Home/Documents/DongjooYun/KHU/clubs/SWTube/DataTeam/pngs/{i}\" for i in os.listdir(\"C:/Users/Home/Documents/DongjooYun/KHU/clubs/SWTube/DataTeam/pngs\")]\n",
    "paths = [ Image.open(i) for i in path]\n",
    "for idx , path in enumerate(paths) :\n",
    "    img = cv2.imread(path) # ✅ path 읽어올 때 \"TypeError: Can't convert object of type 'PngImageFile' to 'str' for 'filename'\" 에러.. 해결 필요\n",
    "    img = cv2.resize(img , (40, 41) , interpolation = cv2.INTER_AREA)\n",
    "    result.append(img)\n",
    "    name = path.split(\".png\")[0]\n",
    "    cv2.imwrite(f'C:/Users/Home/Documents/DongjooYun/KHU/clubs/SWTube/DataTeam/pngs/{name}.png',img)"
   ]
  },
  {
   "cell_type": "code",
   "execution_count": null,
   "metadata": {},
   "outputs": [],
   "source": [
    "# path 내의 모든 이미지 gif로 생성 후 저장 (이미지'만' 있어야 됨)\n",
    "# ✅ 갖고 있던 에셋들은 이상 無, \n",
    "#    but 공유드라이브 character_zombie_walk(1~7).png로 해보니 흑백 gif가 됨 해결 필요\n",
    "path = [f\"C:/Users/Home/Documents/DongjooYun/KHU/clubs/SWTube/DataTeam/pngs/{i}\" for i in os.listdir(\"C:/Users/Home/Documents/DongjooYun/KHU/clubs/SWTube/DataTeam/pngs\")]\n",
    "paths = [ Image.open(i) for i in path]\n",
    "imageio.mimsave('C:/Users/Home/Documents/DongjooYun/KHU/clubs/SWTube/DataTeam/gifs/test3.gif', paths, fps=1.5) # fps ↑수록 faster"
   ]
  }
 ],
 "metadata": {
  "kernelspec": {
   "display_name": "Python 3",
   "language": "python",
   "name": "python3"
  },
  "language_info": {
   "codemirror_mode": {
    "name": "ipython",
    "version": 3
   },
   "file_extension": ".py",
   "mimetype": "text/x-python",
   "name": "python",
   "nbconvert_exporter": "python",
   "pygments_lexer": "ipython3",
   "version": "3.8.5"
  }
 },
 "nbformat": 4,
 "nbformat_minor": 4
}
