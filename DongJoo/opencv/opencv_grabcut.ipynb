{
 "cells": [
  {
   "cell_type": "code",
   "execution_count": 9,
   "metadata": {},
   "outputs": [],
   "source": [
    "import cv2\n",
    "import numpy as np"
   ]
  },
  {
   "cell_type": "markdown",
   "metadata": {},
   "source": [
    "### 방법 1 or 2 中 택 1 (하나 하고 restart)\n",
    "- 방법 1\n",
    "1. 이미지 읽어오면 왼 마우스클릭으로 영역 지정\n",
    "2. 엔터키 누르면 배경 제거된 개체(dst 창) 생성\n",
    "3. 창 닫으면 저장\n",
    "\n",
    "- 방법 2\n",
    "1. 이미지 읽어오면 왼 마우스클릭으로 영역 지정\n",
    "2. 엔터키 누르면 배경 제거된 개체(dst 창) 생성\n",
    "3. 왼클릭: 파란색 펜, 객체 살리기 | 우클릭: 빨간색 펜, 배경 지우기\n",
    "4. 연속 클릭&그리기 가능, 다했으면 엔터키 눌러 갱신\n",
    "4. ESC키 누르면 창 닫히며 저장"
   ]
  },
  {
   "cell_type": "code",
   "execution_count": null,
   "metadata": {},
   "outputs": [],
   "source": [
    "# 1. 배경제거 영역만 지정해서 masking\n",
    "# 입력 영상 불러오기\n",
    "src = cv2.imread('oneeyed.jpg')\n",
    "src = cv2.resize(src, (900, 600))\n",
    "\n",
    "if src is None:\n",
    "    print('Image load failed!')\n",
    "    sys.exit()\n",
    "    \n",
    "# 사장형 지정을 통한 초기 분할\n",
    "rc = cv2.selectROI(src) # 초기 위치 지정하고 모서리 좌표 4개를 튜플값으로 반환\n",
    "mask = np.zeros(src.shape[:2], np.uint8) # 마스크는 검정색으로 채워져있고 입력 영상과 동일한 크기\n",
    "\n",
    "# 결과를 계속 업데이트 하고 싶으면 bgd, fgd 입력\n",
    "cv2.grabCut(src, mask, rc, None, None, 5, cv2.GC_INIT_WITH_RECT)\n",
    "\n",
    "# grabCut 자료에서 0,2는 배경, 1,3은 전경\n",
    "# mask == 0 or mask == 2를 만족하면 0으로 설정 or 1로 설정\n",
    "mask2 = np.where((mask == 0) | (mask == 2), 0, 1).astype('uint8')\n",
    "\n",
    "# np.newaxis로 차원 확장\n",
    "dst = src * mask2[:, :, np.newaxis]\n",
    "\n",
    "cv2.imshow('dst', dst)\n",
    "cv2.waitKey()\n",
    "cv2.destroyAllWindows()\n",
    "cv2.imwrite('removedBG.jpg', dst)"
   ]
  },
  {
   "cell_type": "code",
   "execution_count": 12,
   "metadata": {},
   "outputs": [
    {
     "data": {
      "text/plain": [
       "True"
      ]
     },
     "execution_count": 12,
     "metadata": {},
     "output_type": "execute_result"
    }
   ],
   "source": [
    "# 2. ppt에서 배경제거하듯이 배경제거 영역 지정 후 마우스로 세부 영역 지정\n",
    "# 입력 영상 불러오기\n",
    "src2 = cv2.imread('oneeyed.jpg')\n",
    "src = cv2.resize(src2, (900, 600)) # 필요할 시 resize\n",
    "\n",
    "if src is None:\n",
    "    print('Image load failed!')\n",
    "    sys.exit()\n",
    "    \n",
    "# 사각형 지정을 통한 초기 분할\n",
    "mask = np.zeros(src.shape[:2], np.uint8) # 마스크\n",
    "bgdModel = np.zeros((1, 65), np.float64) # 배경 모델 무조건 1행 65열, float64\n",
    "fgdModel = np.zeros((1, 65), np.float64) # 전경 모델 무조건 1행 65열, float64\n",
    "\n",
    "rc = cv2.selectROI(src)\n",
    "\n",
    "# RECT는 사용자가 사각형 지정. 이 값에서 계속 업데이트\n",
    "cv2.grabCut(src, mask, rc, bgdModel, fgdModel, 1, cv2.GC_INIT_WITH_RECT)\n",
    "\n",
    "# mask 4개 값을 2개로 변환\n",
    "mask2 = np.where((mask == 0) | (mask == 2), 0, 1).astype('uint8')\n",
    "dst = src * mask2[:, :, np.newaxis]\n",
    "\n",
    "# 초기 분할 결과 출력\n",
    "cv2.imshow('dst', dst)\n",
    "\n",
    "# 마우스 이벤트 처리 함수 등록\n",
    "def on_mouse(event, x, y, flags, param):\n",
    "    \n",
    "    if event == cv2.EVENT_LBUTTONDOWN: # 왼쪽 버튼은 전경\n",
    "        cv2.circle(dst, (x, y), 3, (255, 0, 0), -1) # 파랑색 색칠\n",
    "        cv2.circle(mask, (x, y), 3, cv2.GC_FGD, -1) # 마스크에 전경 강제 지정\n",
    "        cv2.imshow('dst', dst)\n",
    "    elif event == cv2.EVENT_RBUTTONDOWN: # 오른쪽 버튼은 배경\n",
    "        cv2.circle(dst, (x, y), 3, (0, 0, 255), -1) # 빨강색 색칠\n",
    "        cv2.circle(mask, (x, y), 3, cv2.GC_BGD, -1) # 마스크에 배경 강제 지정\n",
    "        cv2.imshow('dst', dst)\n",
    "        \n",
    "    elif event == cv2.EVENT_MOUSEMOVE: # 마우스 움직임\n",
    "        if flags & cv2.EVENT_FLAG_LBUTTON: # 왼쪽 누르고 움직이면 전경\n",
    "            cv2.circle(dst, (x, y), 3, (255, 0, 0), -1)\n",
    "            cv2.circle(mask, (x, y), 3, cv2.GC_FGD, -1)\n",
    "            cv2.imshow('dst', dst)\n",
    "        elif flags & cv2.EVENT_FLAG_RBUTTON: # 오른쪽 누르고 움직이면 배경\n",
    "            cv2.circle(dst, (x, y), 3, (0, 0, 255), -1)\n",
    "            cv2.circle(mask, (x, y), 3, cv2.GC_BGD, -1)\n",
    "            cv2.imshow('dst', dst)\n",
    "\n",
    "cv2.setMouseCallback('dst', on_mouse)\n",
    "\n",
    "while True:\n",
    "    key = cv2.waitKey()\n",
    "    if key == 13:    #CR문자 '\\r'\n",
    "        cv2.grabCut(src, mask, rc, bgdModel, fgdModel, 1, cv2.GC_INIT_WITH_MASK) # 마스크 초기화\n",
    "        mask2 = np.where((mask == 2) | (mask == 0), 0, 1).astype('uint8')\n",
    "        dst = src * mask2[:, :, np.newaxis]\n",
    "        cv2.imshow('dst', dst)\n",
    "\n",
    "    elif key == 27: #ESC키\n",
    "        break\n",
    "\n",
    "cv2.destroyAllWindows()\n",
    "cv2.imwrite('finalremovedBG.jpg', dst)"
   ]
  },
  {
   "cell_type": "markdown",
   "metadata": {},
   "source": [
    "출처: https://deep-learning-study.tistory.com/240?category=946336 <br>\n",
    "      https://github.com/sunkyoo/opencv4cvml <br>\n",
    "      https://docs.opencv.org/4.3.0/d8/d83/tutorial_py_grabcut.html"
   ]
  }
 ],
 "metadata": {
  "kernelspec": {
   "display_name": "Python 3",
   "language": "python",
   "name": "python3"
  },
  "language_info": {
   "codemirror_mode": {
    "name": "ipython",
    "version": 3
   },
   "file_extension": ".py",
   "mimetype": "text/x-python",
   "name": "python",
   "nbconvert_exporter": "python",
   "pygments_lexer": "ipython3",
   "version": "3.8.5"
  }
 },
 "nbformat": 4,
 "nbformat_minor": 4
}
