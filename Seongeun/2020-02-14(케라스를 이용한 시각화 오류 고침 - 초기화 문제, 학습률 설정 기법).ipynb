{
 "cells": [
  {
   "cell_type": "markdown",
   "metadata": {},
   "source": [
    "# 케라스를 이용한 학습 시각화\n",
    " - 지난 번에는 케라스를 사용했을 경우 학습이 제대로 이뤄지지 않았던 것을 확인할 수 있었습니다. 그 이유를 생각해봤는데 기존 매개변수를 초기화하는 과정에서 텐서플로우의 경우에는 tf.truncated_normal(shape, stddev=0.01)를 이용해 오차역전법이 잘 작동하도록 조정하였는데 케라스에서느 아무것도 지정해준게 없었습니다. 따라서 케라스에서 모델을 만들 때도 절단정규분포를 이용하면 학습이 잘 될 것이라 생각합니다."
   ]
  },
  {
   "cell_type": "code",
   "execution_count": 1,
   "metadata": {},
   "outputs": [
    {
     "name": "stderr",
     "output_type": "stream",
     "text": [
      "Using TensorFlow backend.\n"
     ]
    }
   ],
   "source": [
    "# keras 모델을 만드는데 필요한 라이브러리들\n",
    "from keras.models import Sequential\n",
    "from keras.layers import Dense, Activation\n",
    "from keras.optimizers import SGD\n",
    "from keras.layers.core import Dropout"
   ]
  },
  {
   "cell_type": "code",
   "execution_count": 2,
   "metadata": {},
   "outputs": [
    {
     "name": "stderr",
     "output_type": "stream",
     "text": [
      "D:\\Anaconda\\lib\\site-packages\\sklearn\\utils\\deprecation.py:85: DeprecationWarning: Function fetch_mldata is deprecated; fetch_mldata was deprecated in version 0.20 and will be removed in version 0.22. Please use fetch_openml.\n",
      "  warnings.warn(msg, category=DeprecationWarning)\n",
      "D:\\Anaconda\\lib\\site-packages\\sklearn\\utils\\deprecation.py:85: DeprecationWarning: Function mldata_filename is deprecated; mldata_filename was deprecated in version 0.20 and will be removed in version 0.22. Please use fetch_openml.\n",
      "  warnings.warn(msg, category=DeprecationWarning)\n"
     ]
    }
   ],
   "source": [
    "# MNIST 데이터 셋, 데이터를 섞고 분류할 함수 불러오기\n",
    "from sklearn import datasets\n",
    "from sklearn.utils import shuffle\n",
    "from sklearn.model_selection import train_test_split\n",
    "import numpy as np\n",
    "import tensorflow as tf\n",
    "\n",
    "mnist = datasets.fetch_mldata('MNIST original', data_home='.')"
   ]
  },
  {
   "cell_type": "code",
   "execution_count": 3,
   "metadata": {},
   "outputs": [],
   "source": [
    "# MNIST 데이터 전처리\n",
    "n = len(mnist.data)\n",
    "N = 10000\n",
    "indices = np.random.permutation(range(n))[:N]\n",
    "X = mnist.data[indices]\n",
    "y = mnist.target[indices]\n",
    "Y = np.eye(10)[y.astype(int)]\n",
    "\n",
    "N_validation = 4000\n",
    "\n",
    "# train, test 분류\n",
    "X_train, X_test, Y_train, Y_test = train_test_split(X, Y, train_size=0.8)\n",
    "# train데이터에서 validation 분류\n",
    "X_train, X_validation, Y_train, Y_validation = train_test_split(X_train, Y_train, test_size = N_validation)"
   ]
  },
  {
   "cell_type": "code",
   "execution_count": 4,
   "metadata": {},
   "outputs": [],
   "source": [
    "n_in = len(X[0])\n",
    "n_hiddens = [200, 200, 200]\n",
    "n_out = len(Y[0])\n",
    "activation = 'relu'\n",
    "p_keep = 0.5\n",
    "\n",
    "from keras import backend as K\n",
    "\n",
    "def weight_variable(shape, dtype=None):\n",
    "    return K.truncated_normal(shape, stddev=0.01)\n",
    "# numpy를 이용해도 됨.\n",
    "# return np.random.normal(scale=0.01, size=shape) 단, 이때는 절단정규분포가 아닌 일반적인 정규분포입니다.\n",
    "\n",
    "model = Sequential()\n",
    "for i, input_dim in enumerate(([n_in] + n_hiddens)[:-1]):\n",
    "    model.add(Dense(n_hiddens[i], input_dim=input_dim, kernel_initializer=weight_variable))\n",
    "    model.add(Activation(activation))\n",
    "    model.add(Dropout(p_keep))\n",
    "    \n",
    "model.add(Dense(n_out, kernel_initializer=weight_variable))\n",
    "# 직접 함수로 절단정규분포를 정의할 수 있지만 처음부터 from keras.initializer import TruncatedNodrmal로 함수를 가져올 수 있습니다.\n",
    "# model.add(Dense(n_out,, kernel_initializer=TruncatedNormal(stddev=0.01)))\n",
    "model.add(Activation('softmax'))"
   ]
  },
  {
   "cell_type": "code",
   "execution_count": 5,
   "metadata": {},
   "outputs": [
    {
     "name": "stdout",
     "output_type": "stream",
     "text": [
      "WARNING:tensorflow:From D:\\Anaconda\\lib\\site-packages\\keras\\backend\\tensorflow_backend.py:422: The name tf.global_variables is deprecated. Please use tf.compat.v1.global_variables instead.\n",
      "\n",
      "Train on 4000 samples, validate on 4000 samples\n",
      "Epoch 1/50\n",
      "4000/4000 [==============================] - 1s 322us/step - loss: 2.3010 - accuracy: 0.0990 - val_loss: 2.2944 - val_accuracy: 0.1303\n",
      "Epoch 2/50\n",
      "4000/4000 [==============================] - 1s 201us/step - loss: 2.2907 - accuracy: 0.1353 - val_loss: 2.2789 - val_accuracy: 0.1203\n",
      "Epoch 3/50\n",
      "4000/4000 [==============================] - 1s 207us/step - loss: 2.2666 - accuracy: 0.1417 - val_loss: 2.2362 - val_accuracy: 0.1040\n",
      "Epoch 4/50\n",
      "4000/4000 [==============================] - 1s 182us/step - loss: 2.2024 - accuracy: 0.1523 - val_loss: 2.1096 - val_accuracy: 0.2800\n",
      "Epoch 5/50\n",
      "4000/4000 [==============================] - 1s 172us/step - loss: 2.0425 - accuracy: 0.2835 - val_loss: 1.8176 - val_accuracy: 0.4810\n",
      "Epoch 6/50\n",
      "4000/4000 [==============================] - 1s 201us/step - loss: 1.6882 - accuracy: 0.4308 - val_loss: 1.2725 - val_accuracy: 0.5782\n",
      "Epoch 7/50\n",
      "4000/4000 [==============================] - 1s 169us/step - loss: 1.3541 - accuracy: 0.5132 - val_loss: 0.9907 - val_accuracy: 0.6777\n",
      "Epoch 8/50\n",
      "4000/4000 [==============================] - 1s 158us/step - loss: 1.1379 - accuracy: 0.5893 - val_loss: 0.8469 - val_accuracy: 0.7452\n",
      "Epoch 9/50\n",
      "4000/4000 [==============================] - 1s 162us/step - loss: 1.0244 - accuracy: 0.6457 - val_loss: 0.7823 - val_accuracy: 0.7377\n",
      "Epoch 10/50\n",
      "4000/4000 [==============================] - 1s 146us/step - loss: 0.9203 - accuracy: 0.6845 - val_loss: 0.6840 - val_accuracy: 0.7920\n",
      "Epoch 11/50\n",
      "4000/4000 [==============================] - 1s 141us/step - loss: 0.8255 - accuracy: 0.7195 - val_loss: 0.6196 - val_accuracy: 0.8115\n",
      "Epoch 12/50\n",
      "4000/4000 [==============================] - 1s 159us/step - loss: 0.7457 - accuracy: 0.7580 - val_loss: 0.5550 - val_accuracy: 0.8395\n",
      "Epoch 13/50\n",
      "4000/4000 [==============================] - 0s 117us/step - loss: 0.6954 - accuracy: 0.7675 - val_loss: 0.5163 - val_accuracy: 0.8530\n",
      "Epoch 14/50\n",
      "4000/4000 [==============================] - 1s 165us/step - loss: 0.6375 - accuracy: 0.7922 - val_loss: 0.4657 - val_accuracy: 0.8665\n",
      "Epoch 15/50\n",
      "4000/4000 [==============================] - 1s 163us/step - loss: 0.5925 - accuracy: 0.8167 - val_loss: 0.4547 - val_accuracy: 0.8655\n",
      "Epoch 16/50\n",
      "4000/4000 [==============================] - 1s 161us/step - loss: 0.5515 - accuracy: 0.8267 - val_loss: 0.4362 - val_accuracy: 0.8708\n",
      "Epoch 17/50\n",
      "4000/4000 [==============================] - 1s 180us/step - loss: 0.5191 - accuracy: 0.8365 - val_loss: 0.4131 - val_accuracy: 0.8765\n",
      "Epoch 18/50\n",
      "4000/4000 [==============================] - 0s 121us/step - loss: 0.4936 - accuracy: 0.8443 - val_loss: 0.4008 - val_accuracy: 0.8815\n",
      "Epoch 19/50\n",
      "4000/4000 [==============================] - 0s 85us/step - loss: 0.4675 - accuracy: 0.8620 - val_loss: 0.3645 - val_accuracy: 0.8928\n",
      "Epoch 20/50\n",
      "4000/4000 [==============================] - 0s 54us/step - loss: 0.4222 - accuracy: 0.8680 - val_loss: 0.3501 - val_accuracy: 0.8960\n",
      "Epoch 21/50\n",
      "4000/4000 [==============================] - 0s 59us/step - loss: 0.4116 - accuracy: 0.8710 - val_loss: 0.3523 - val_accuracy: 0.9007\n",
      "Epoch 22/50\n",
      "4000/4000 [==============================] - 0s 69us/step - loss: 0.4094 - accuracy: 0.8800 - val_loss: 0.3440 - val_accuracy: 0.9047\n",
      "Epoch 23/50\n",
      "4000/4000 [==============================] - 0s 58us/step - loss: 0.3727 - accuracy: 0.8923 - val_loss: 0.3323 - val_accuracy: 0.9050\n",
      "Epoch 24/50\n",
      "4000/4000 [==============================] - 0s 58us/step - loss: 0.3536 - accuracy: 0.8967 - val_loss: 0.3180 - val_accuracy: 0.9103\n",
      "Epoch 25/50\n",
      "4000/4000 [==============================] - 0s 56us/step - loss: 0.3466 - accuracy: 0.8957 - val_loss: 0.3123 - val_accuracy: 0.9135\n",
      "Epoch 26/50\n",
      "4000/4000 [==============================] - 0s 71us/step - loss: 0.3163 - accuracy: 0.9075 - val_loss: 0.3015 - val_accuracy: 0.9130\n",
      "Epoch 27/50\n",
      "4000/4000 [==============================] - 0s 69us/step - loss: 0.3182 - accuracy: 0.9047 - val_loss: 0.2974 - val_accuracy: 0.9160\n",
      "Epoch 28/50\n",
      "4000/4000 [==============================] - 0s 60us/step - loss: 0.2957 - accuracy: 0.9118 - val_loss: 0.2967 - val_accuracy: 0.9140\n",
      "Epoch 29/50\n",
      "4000/4000 [==============================] - 0s 76us/step - loss: 0.2940 - accuracy: 0.9130 - val_loss: 0.3021 - val_accuracy: 0.9145\n",
      "Epoch 30/50\n",
      "4000/4000 [==============================] - 0s 86us/step - loss: 0.2845 - accuracy: 0.9143 - val_loss: 0.2819 - val_accuracy: 0.9210\n",
      "Epoch 31/50\n",
      "4000/4000 [==============================] - 0s 56us/step - loss: 0.2726 - accuracy: 0.9237 - val_loss: 0.2787 - val_accuracy: 0.9222\n",
      "Epoch 32/50\n",
      "4000/4000 [==============================] - 0s 58us/step - loss: 0.2508 - accuracy: 0.9240 - val_loss: 0.2734 - val_accuracy: 0.9252\n",
      "Epoch 33/50\n",
      "4000/4000 [==============================] - 0s 55us/step - loss: 0.2474 - accuracy: 0.9270 - val_loss: 0.2829 - val_accuracy: 0.9210\n",
      "Epoch 34/50\n",
      "4000/4000 [==============================] - 0s 56us/step - loss: 0.2425 - accuracy: 0.9285 - val_loss: 0.2704 - val_accuracy: 0.9243\n",
      "Epoch 35/50\n",
      "4000/4000 [==============================] - 0s 68us/step - loss: 0.2358 - accuracy: 0.9273 - val_loss: 0.2592 - val_accuracy: 0.9277\n",
      "Epoch 36/50\n",
      "4000/4000 [==============================] - 0s 62us/step - loss: 0.2168 - accuracy: 0.9385 - val_loss: 0.2681 - val_accuracy: 0.9255\n",
      "Epoch 37/50\n",
      "4000/4000 [==============================] - 0s 58us/step - loss: 0.2127 - accuracy: 0.9390 - val_loss: 0.2709 - val_accuracy: 0.9250\n",
      "Epoch 38/50\n",
      "4000/4000 [==============================] - 0s 54us/step - loss: 0.2102 - accuracy: 0.9383 - val_loss: 0.2590 - val_accuracy: 0.9290\n",
      "Epoch 39/50\n",
      "4000/4000 [==============================] - 0s 75us/step - loss: 0.1837 - accuracy: 0.9423 - val_loss: 0.2753 - val_accuracy: 0.9258\n",
      "Epoch 40/50\n",
      "4000/4000 [==============================] - 0s 65us/step - loss: 0.1925 - accuracy: 0.9383 - val_loss: 0.2588 - val_accuracy: 0.9300\n",
      "Epoch 41/50\n",
      "4000/4000 [==============================] - 0s 59us/step - loss: 0.1793 - accuracy: 0.9490 - val_loss: 0.2687 - val_accuracy: 0.9287\n",
      "Epoch 42/50\n",
      "4000/4000 [==============================] - 0s 60us/step - loss: 0.1771 - accuracy: 0.9485 - val_loss: 0.2822 - val_accuracy: 0.9268\n",
      "Epoch 43/50\n",
      "4000/4000 [==============================] - 0s 71us/step - loss: 0.1729 - accuracy: 0.9473 - val_loss: 0.2690 - val_accuracy: 0.9258\n",
      "Epoch 44/50\n",
      "4000/4000 [==============================] - 0s 95us/step - loss: 0.1655 - accuracy: 0.9490 - val_loss: 0.2763 - val_accuracy: 0.9298\n",
      "Epoch 45/50\n",
      "4000/4000 [==============================] - 0s 54us/step - loss: 0.1701 - accuracy: 0.9482 - val_loss: 0.2600 - val_accuracy: 0.9295\n",
      "Epoch 46/50\n",
      "4000/4000 [==============================] - 0s 57us/step - loss: 0.1578 - accuracy: 0.9523 - val_loss: 0.2601 - val_accuracy: 0.9293\n",
      "Epoch 47/50\n",
      "4000/4000 [==============================] - 0s 69us/step - loss: 0.1549 - accuracy: 0.9530 - val_loss: 0.2579 - val_accuracy: 0.9330\n",
      "Epoch 48/50\n",
      "4000/4000 [==============================] - 0s 68us/step - loss: 0.1505 - accuracy: 0.9567 - val_loss: 0.2663 - val_accuracy: 0.9310\n",
      "Epoch 49/50\n",
      "4000/4000 [==============================] - 0s 59us/step - loss: 0.1403 - accuracy: 0.9600 - val_loss: 0.2848 - val_accuracy: 0.9320\n",
      "Epoch 50/50\n",
      "4000/4000 [==============================] - 0s 61us/step - loss: 0.1283 - accuracy: 0.9615 - val_loss: 0.2663 - val_accuracy: 0.9317\n"
     ]
    }
   ],
   "source": [
    "model.compile(loss='categorical_crossentropy', optimizer=SGD(lr=0.01), metrics=['accuracy'])\n",
    "\n",
    "epochs = 50\n",
    "batch_size = 200\n",
    "\n",
    "hist = model.fit(X_train, Y_train, epochs=epochs, batch_size=batch_size, validation_data=(X_validation, Y_validation))"
   ]
  },
  {
   "cell_type": "code",
   "execution_count": 6,
   "metadata": {},
   "outputs": [
    {
     "name": "stdout",
     "output_type": "stream",
     "text": [
      "2000/2000 [==============================] - 0s 141us/step\n"
     ]
    }
   ],
   "source": [
    "loss_and_metrics = model.evaluate(X_test, Y_test)"
   ]
  },
  {
   "cell_type": "code",
   "execution_count": 7,
   "metadata": {},
   "outputs": [
    {
     "name": "stdout",
     "output_type": "stream",
     "text": [
      "[0.22123635470867156, 0.9419999718666077]\n"
     ]
    }
   ],
   "source": [
    "print(loss_and_metrics)"
   ]
  },
  {
   "cell_type": "code",
   "execution_count": 9,
   "metadata": {},
   "outputs": [
    {
     "data": {
      "image/png": "[encoded data removed]",
      "text/plain": [
       "<Figure size 432x288 with 1 Axes>"
      ]
     },
     "metadata": {
      "needs_background": "light"
     },
     "output_type": "display_data"
    }
   ],
   "source": [
    "import matplotlib.pyplot as plt\n",
    "\n",
    "val_acc = hist.history['val_accuracy']\n",
    "plt.rc('font', family='serif')\n",
    "fig = plt.figure()\n",
    "plt.plot(range(epochs), val_acc, label='acc', color='black')\n",
    "plt.xlabel('epochs')\n",
    "plt.show()"
   ]
  },
  {
   "cell_type": "markdown",
   "metadata": {},
   "source": [
    "# 결과\n",
    " - 그래프와 수치를 보면 제대로 학습이 이뤄진 것을 확인할 수 있습니다."
   ]
  },
  {
   "cell_type": "markdown",
   "metadata": {},
   "source": [
    "# 데이터 정규화\n",
    " - 이제 MNIST외의 데이터를 사용해보겠습니다. MNIST외의 데이터를 똑같이 처리하기 위해서는 그 데이터를 어느정도 정돈해놔야 합니다. 정돈의 가장 일반적인 방법은 데이터의 값이 일정한 범위 내에 들어가도록 전처리를 해주어야 합니다. 가장 단순한 방법은 범위를 0에서 1로 설정하는 것입니다.\n",
    " - 일단은 MNIST를 위 방법으로 정규화해보겠습니다. MNIST데이터는 0~255의 RGB값을 취하므로 이를 감안하고 정규화를 진행하겠습니다."
   ]
  },
  {
   "cell_type": "code",
   "execution_count": 10,
   "metadata": {},
   "outputs": [],
   "source": [
    "X = X / 255.0\n",
    "X = X.mean(axis=1).reshape(len(X), 1) # 데이터분포의 평균은 0이 되는게 왠만하면 바람직합니다. "
   ]
  },
  {
   "cell_type": "markdown",
   "metadata": {},
   "source": [
    "# 웨이트 초기화\n",
    " - 데이터의 값이 한쪽으로 치우치지 않으면 웨이트 값이 양수와 음수 반반을 가지게 됩니다. 그래서 웨이트 값을 처음에 0으로 초기화시켜둔다면 문제를 해결할 수 있습니다. 하지만 웨이트를 0으로 초기화하면 오차역전법을 활용한 학습이 제대로 이뤄지지 않는다는 사실을 아까 학습에서 확인할 수 있습니다.\n",
    " - 따라서 생각해볼 수 있는 방법은 0에 가까운 난수로 웨이트를 초기화하는 방법입니다. 그래서 지금까지 절단정규분포를 이용한 것이지요. 하지만 그럼에도 초깃갑이 너무 작으면 웨이트가 계수로 곱해지는 경사값도 너무 작아져 학습을 진행할 수 없게 된다는 문제가 발생합니다. 때문에 표준편차를 기존의 0.01에서 1.0으로 늘리는 방법을 생각해보겠습니다."
   ]
  },
  {
   "cell_type": "markdown",
   "metadata": {},
   "source": [
    "# LeCun et al, 1988 문헌\n",
    " - 정규분포 또는 균등분포를 적용해 초기화하기"
   ]
  },
  {
   "cell_type": "code",
   "execution_count": 12,
   "metadata": {},
   "outputs": [],
   "source": [
    "# 균등분포\n",
    "# np.random.uniform(low=-np.sqrt(1.0/n), high=np.sqrt(1.0/n), size=shape)\n",
    "# kernel_initializer='lecun_uniform'"
   ]
  },
  {
   "cell_type": "markdown",
   "metadata": {},
   "source": [
    "# Glorot and Bengio 2010 문헌"
   ]
  },
  {
   "cell_type": "code",
   "execution_count": 13,
   "metadata": {},
   "outputs": [],
   "source": [
    "# 균등분포\n",
    "# np.random.uniform(low=-np.sqrt(6.0/(n_in + n_out)), high=np.sqrt(6.0/(n_in + n_out)), size=shape)\n",
    "# 정규분포\n",
    "# np.sqrt(2.0/(n_in + n_out)) * np.random.normal(size=shape)\n",
    "\n",
    "# 텐서플로\n",
    "# tf.contrib.layers.xavier_initializer(uniform=True)\n",
    "# 케라스\n",
    "# init = 'glorot_uniform', init = 'glorot_normal'"
   ]
  },
  {
   "cell_type": "markdown",
   "metadata": {},
   "source": [
    "# He et al 2015 문헌\n",
    " - ReLU를 사용할 경우 초기화"
   ]
  },
  {
   "cell_type": "code",
   "execution_count": 14,
   "metadata": {},
   "outputs": [],
   "source": [
    "# np.sqrt(2.0/n) * np.random.normal(size=shape)\n",
    "\n",
    "# 케라스\n",
    "# init = 'he_normal'"
   ]
  },
  {
   "cell_type": "markdown",
   "metadata": {},
   "source": [
    "# 학습률 설정 기법\n",
    " - 지금까지 lr=0.001같이 학습률을 일정 상수로 정해 학습을 진행했습니다. 하지만 최적해를 찾기 위해서 학습률을 어떻게 설정해야할지가 중요합니다."
   ]
  },
  {
   "cell_type": "markdown",
   "metadata": {},
   "source": [
    "# 모멘텀\n",
    " - 학습률을 처음에는 크게 그리고 점점 작게하는 방법\n",
    " - 텐서플로에서는 tf.train.MomentumOptimizer() 즉, GradientDescentOptimizer를 MomentumOptimizer로 바꾸면 됩니다.\n",
    " - def training(loss):\n",
    "    - optimizer = tf.train.MomentumOptimizer(0.01, 0.9)\n",
    "    - train_step = optimizer.minimize(loss)\n",
    "    - return train_step\n",
    " - 케라스에서는 SGD에서 인수로 momentum=을 이용하여 지정합니다.\n",
    " - model.complie(loss='categorical_crossentropy', optimizer=SGD(lr=0.01, momentum=0.9), metrics=['accuracy'])"
   ]
  },
  {
   "cell_type": "markdown",
   "metadata": {},
   "source": [
    "# 네스테로프 모멘텀\n",
    " - 기존의 모멘텀에서 매개변수가 어떻게 변해야할지를 고려해 학습률을 정하는 기법입니다.\n",
    " - 텐서플로는 optimizer = tf.train.MomentumOptimizer(0.01, 0.9, use_nesterov=True)\n",
    " - 케라스에선 optimizer = SGD(lr=0.01, mome)"
   ]
  }
 ],
 "metadata": {
  "kernelspec": {
   "display_name": "Python 3",
   "language": "python",
   "name": "python3"
  },
  "language_info": {
   "codemirror_mode": {
    "name": "ipython",
    "version": 3
   },
   "file_extension": ".py",
   "mimetype": "text/x-python",
   "name": "python",
   "nbconvert_exporter": "python",
   "pygments_lexer": "ipython3",
   "version": "3.7.4"
  },
  "toc": {
   "base_numbering": 1,
   "nav_menu": {},
   "number_sections": true,
   "sideBar": true,
   "skip_h1_title": false,
   "title_cell": "Table of Contents",
   "title_sidebar": "Contents",
   "toc_cell": false,
   "toc_position": {},
   "toc_section_display": true,
   "toc_window_display": false
  },
  "varInspector": {
   "cols": {
    "lenName": 16,
    "lenType": 16,
    "lenVar": 40
   },
   "kernels_config": {
    "python": {
     "delete_cmd_postfix": "",
     "delete_cmd_prefix": "del ",
     "library": "var_list.py",
     "varRefreshCmd": "print(var_dic_list())"
    },
    "r": {
     "delete_cmd_postfix": ") ",
     "delete_cmd_prefix": "rm(",
     "library": "var_list.r",
     "varRefreshCmd": "cat(var_dic_list()) "
    }
   },
   "types_to_exclude": [
    "module",
    "function",
    "builtin_function_or_method",
    "instance",
    "_Feature"
   ],
   "window_display": false
  }
 },
 "nbformat": 4,
 "nbformat_minor": 2
}
