{
 "cells": [
  {
   "cell_type": "markdown",
   "metadata": {},
   "source": [
    "##  선형 회귀(Linear Regression) \n",
    "- 선형 회귀란 학습 데이터와 가장 잘 맞는 하나의 직선을 찾는 일.\n",
    "- 이때 선형 회귀의 가설(직선의 방정식)\n",
    "```\n",
    "y=Wx+b\n",
    "```\n",
    "- 가설의 H를 따서 y 대신 다음과 같이 식을 표현하기도 한다. \n",
    "```\n",
    "H(x)=Wx+b\n",
    "```\n",
    "이때 x와 곱해지는 W를 가중치(Weight)라고 하며, b를 편향(bias)이라고 한다. "
   ]
  },
  {
   "cell_type": "markdown",
   "metadata": {},
   "source": [
    "## 비용 함수(Cost function)에 대한 이해 \n",
    "- 비용 함수(cost function) = 손실 함수(loss function) = 오차 함수(error function) = 목적 함수(objective function) "
   ]
  },
  {
   "cell_type": "markdown",
   "metadata": {},
   "source": [
    "## 파이토치로 선형 회귀 구현\n",
    "-  가중치와 편향의 초기화 \n",
    "    * 선형 회귀란 학습 데이터와 가장 잘 맞는 하나의 직선을 찾는 일 \n",
    "    * 가장 잘 맞는 직선을 정의하는 것은 W와 b \n",
    "    * 따라서 선형 회귀의 목표는 가장 잘 맞는 직선을 정의하는 W와 b의 값을 찾는 것 "
   ]
  },
  {
   "cell_type": "code",
   "execution_count": 2,
   "metadata": {},
   "outputs": [
    {
     "ename": "ModuleNotFoundError",
     "evalue": "No module named 'torch'",
     "output_type": "error",
     "traceback": [
      "\u001b[0;31m---------------------------------------------------------------------------\u001b[0m",
      "\u001b[0;31mModuleNotFoundError\u001b[0m                       Traceback (most recent call last)",
      "\u001b[0;32m<ipython-input-2-79529fc4c4b4>\u001b[0m in \u001b[0;36m<module>\u001b[0;34m\u001b[0m\n\u001b[0;32m----> 1\u001b[0;31m \u001b[0;32mimport\u001b[0m \u001b[0mtorch\u001b[0m\u001b[0;34m\u001b[0m\u001b[0;34m\u001b[0m\u001b[0m\n\u001b[0m\u001b[1;32m      2\u001b[0m \u001b[0;32mimport\u001b[0m \u001b[0mtorch\u001b[0m\u001b[0;34m.\u001b[0m\u001b[0mnn\u001b[0m \u001b[0;32mas\u001b[0m \u001b[0mnn\u001b[0m\u001b[0;34m\u001b[0m\u001b[0;34m\u001b[0m\u001b[0m\n\u001b[1;32m      3\u001b[0m \u001b[0;32mimport\u001b[0m \u001b[0mtorch\u001b[0m\u001b[0;34m.\u001b[0m\u001b[0mnn\u001b[0m\u001b[0;34m.\u001b[0m\u001b[0mfunctional\u001b[0m \u001b[0;32mas\u001b[0m \u001b[0mF\u001b[0m\u001b[0;34m\u001b[0m\u001b[0;34m\u001b[0m\u001b[0m\n\u001b[1;32m      4\u001b[0m \u001b[0;32mimport\u001b[0m \u001b[0mtorch\u001b[0m\u001b[0;34m.\u001b[0m\u001b[0moptim\u001b[0m \u001b[0;32mas\u001b[0m \u001b[0moptim\u001b[0m\u001b[0;34m\u001b[0m\u001b[0;34m\u001b[0m\u001b[0m\n\u001b[1;32m      5\u001b[0m \u001b[0mtorch\u001b[0m\u001b[0;34m.\u001b[0m\u001b[0mmanual_seed\u001b[0m\u001b[0;34m(\u001b[0m\u001b[0;36m1\u001b[0m\u001b[0;34m)\u001b[0m\u001b[0;34m\u001b[0m\u001b[0;34m\u001b[0m\u001b[0m\n",
      "\u001b[0;31mModuleNotFoundError\u001b[0m: No module named 'torch'"
     ]
    }
   ],
   "source": [
    "import torch\n",
    "import torch.nn as nn\n",
    "import torch.nn.functional as F\n",
    "import torch.optim as optim\n",
    "torch.manual_seed(1)"
   ]
  },
  {
   "cell_type": "code",
   "execution_count": 3,
   "metadata": {},
   "outputs": [
    {
     "data": {
      "text/plain": [
       "True"
      ]
     },
     "execution_count": 3,
     "metadata": {},
     "output_type": "execute_result"
    }
   ],
   "source": [
    "import torch\n",
    "torch.cuda.is_available()"
   ]
  },
  {
   "cell_type": "code",
   "execution_count": 10,
   "metadata": {},
   "outputs": [
    {
     "data": {
      "text/plain": [
       "tensor([[[0.1168, 0.7939],\n",
       "         [0.7604, 0.6855],\n",
       "         [0.7025, 0.8218],\n",
       "         [0.8627, 0.4452]],\n",
       "\n",
       "        [[0.4398, 0.3101],\n",
       "         [0.7780, 0.1047],\n",
       "         [0.8171, 0.5464],\n",
       "         [0.7171, 0.7852]]])"
      ]
     },
     "execution_count": 10,
     "metadata": {},
     "output_type": "execute_result"
    }
   ],
   "source": [
    "torch.rand(2,4,2)"
   ]
  },
  {
   "cell_type": "code",
   "execution_count": 11,
   "metadata": {},
   "outputs": [
    {
     "name": "stdout",
     "output_type": "stream",
     "text": [
      "tensor([[1.],\n",
      "        [2.],\n",
      "        [3.]])\n",
      "torch.Size([3, 1])\n"
     ]
    }
   ],
   "source": [
    "x_train = torch.FloatTensor([[1], [2], [3]])\n",
    "y_train = torch.FloatTensor([[2], [4], [6]]) \n",
    "\n",
    "print(x_train)\n",
    "print(x_train.shape)"
   ]
  },
  {
   "cell_type": "code",
   "execution_count": 23,
   "metadata": {},
   "outputs": [
    {
     "name": "stdout",
     "output_type": "stream",
     "text": [
      "W : tensor([0.], requires_grad=True)\n",
      "b : tensor([0.], requires_grad=True)\n",
      "가설 : tensor([[0.],\n",
      "        [0.],\n",
      "        [0.]], grad_fn=<AddBackward0>)\n",
      "비용함수 : tensor(18.6667, grad_fn=<MeanBackward0>)\n"
     ]
    }
   ],
   "source": [
    "# 가중치 W를 0으로 초기화하고 학습을 통해 값이 변경되는 변수임을 명시함.\n",
    "#  requires_grad=True : 학습을 통해 계속 값이 변경되는 변수임을 의미 \n",
    "W = torch.zeros(1, requires_grad=True) \n",
    "# 가중치 W를 출력\n",
    "print('W :',W) \n",
    "\n",
    "# 마찬가지로 편향 b도 0으로 초기화하고, 학습을 통해 값이 변경되는 변수임을 명시합니다.\n",
    "b = torch.zeros(1, requires_grad=True)\n",
    "print('b :',b)\n",
    "\n",
    "# 현재 가중치 W와 b 둘 다 0이므로 현 직선의 방정식 y = 0*x + 0 \n",
    "# 지금 상태에선 x에 어떤 값이 들어가도 가설은 0을 예측하게 됩니다. 즉, 아직 적절한 W와 b의 값이 아님. \n",
    "\n",
    "# 가설 세우기 \n",
    "# 파이토치 코드 상으로 직선의 방정식에 해당되는 가설을 선언\n",
    "# H(x)=Wx+b \n",
    "hypothesis = x_train * W + b\n",
    "print('가설 :',hypothesis) \n",
    "\n",
    "# 비용 함수 선언하기 \n",
    "# torch.mean으로 평균을 구한다. \n",
    "cost = torch.mean((hypothesis - y_train) ** 2) \n",
    "print('비용함수 :',cost)\n",
    "\n",
    "# 경사 하강법 구현\n",
    "# 아래의 'SGD'는 경사 하강법의 일종. r은 학습률(learning rate)를 의미합니다.\n",
    "# 학습 대상인 W와 b가 SGD의 입력이 됨. \n",
    "optimizer = optim.SGD([W, b], lr=0.01) \n",
    "\n",
    "\n",
    "# optimizer.zero_grad()를 실행 : 미분을 통해 얻은 기울기를 0으로 초기화 \n",
    "# 기울기를 초기화해야만 새로운 가중치 편향에 대해서 새로운 기울기를 구할 수 있음. \n",
    "#  cost.backward() 함수를 호출하면 가중치 W와 편향 b에 대한 기울기가 계산 \n",
    "# 그 다음 경사 하강법 최적화 함수 opimizer의 .step() 함수를 호출하여 \n",
    "# 인수로 들어갔던 W와 b에서 리턴되는 변수들의 기울기에 학습률(learining rate) 0.01을 곱하여 빼줘서 업데이트\n",
    "\n",
    "# gradient를 0으로 초기화\n",
    "optimizer.zero_grad() \n",
    "# 비용 함수를 미분하여 gradient 계산\n",
    "cost.backward() \n",
    "# W와 b를 업데이트\n",
    "optimizer.step() \n"
   ]
  },
  {
   "cell_type": "markdown",
   "metadata": {},
   "source": [
    "## 결과 분석 \n",
    "- 결과적으로 훈련 과정에서 W와 b는 훈련 데이터와 잘 맞는 직선을 표현하기 위한 적절한 값으로 변화해감.\n",
    "- 에포크(Epoch)는 전체 훈련 데이터가 학습에 한 번 사용된 주기.\n",
    "이번 실습의 경우 2,500번을 수행. 많이 수행할수록 정확도 올라감\n",
    "\n",
    "- 최종 훈련 결과를 보면 최적의 기울기 W는 2에 가깝고, b는 0에 가까운 것을 볼 수 있음. \n",
    "현재 훈련 데이터가 x_train은 [[1], [2], [3]]이고 y_train은 [[2], [4], [6]]인 것을 감안하면\n",
    "실제 정답은 W가 2이고, b가 0인 H(x)=2x이므로 거의 정답을 찾은 셈."
   ]
  },
  {
   "cell_type": "code",
   "execution_count": 26,
   "metadata": {},
   "outputs": [
    {
     "name": "stdout",
     "output_type": "stream",
     "text": [
      "Epoch    0/2500 W: 0.187, b: 0.080 Cost: 18.666666\n",
      "Epoch  100/2500 W: 1.746, b: 0.578 Cost: 0.048171\n",
      "Epoch  200/2500 W: 1.800, b: 0.454 Cost: 0.029767\n",
      "Epoch  300/2500 W: 1.843, b: 0.357 Cost: 0.018394\n",
      "Epoch  400/2500 W: 1.876, b: 0.281 Cost: 0.011366\n",
      "Epoch  500/2500 W: 1.903, b: 0.221 Cost: 0.007024\n",
      "Epoch  600/2500 W: 1.924, b: 0.174 Cost: 0.004340\n",
      "Epoch  700/2500 W: 1.940, b: 0.136 Cost: 0.002682\n",
      "Epoch  800/2500 W: 1.953, b: 0.107 Cost: 0.001657\n",
      "Epoch  900/2500 W: 1.963, b: 0.084 Cost: 0.001024\n",
      "Epoch 1000/2500 W: 1.971, b: 0.066 Cost: 0.000633\n",
      "Epoch 1100/2500 W: 1.977, b: 0.052 Cost: 0.000391\n",
      "Epoch 1200/2500 W: 1.982, b: 0.041 Cost: 0.000242\n",
      "Epoch 1300/2500 W: 1.986, b: 0.032 Cost: 0.000149\n",
      "Epoch 1400/2500 W: 1.989, b: 0.025 Cost: 0.000092\n",
      "Epoch 1500/2500 W: 1.991, b: 0.020 Cost: 0.000057\n",
      "Epoch 1600/2500 W: 1.993, b: 0.016 Cost: 0.000035\n",
      "Epoch 1700/2500 W: 1.995, b: 0.012 Cost: 0.000022\n",
      "Epoch 1800/2500 W: 1.996, b: 0.010 Cost: 0.000013\n",
      "Epoch 1900/2500 W: 1.997, b: 0.008 Cost: 0.000008\n",
      "Epoch 2000/2500 W: 1.997, b: 0.006 Cost: 0.000005\n",
      "Epoch 2100/2500 W: 1.998, b: 0.005 Cost: 0.000003\n",
      "Epoch 2200/2500 W: 1.998, b: 0.004 Cost: 0.000002\n",
      "Epoch 2300/2500 W: 1.999, b: 0.003 Cost: 0.000001\n",
      "Epoch 2400/2500 W: 1.999, b: 0.002 Cost: 0.000001\n",
      "Epoch 2500/2500 W: 1.999, b: 0.002 Cost: 0.000000\n"
     ]
    }
   ],
   "source": [
    "# 데이터\n",
    "x_train = torch.FloatTensor([[1], [2], [3]])\n",
    "y_train = torch.FloatTensor([[2], [4], [6]])\n",
    "# 모델 초기화\n",
    "W = torch.zeros(1, requires_grad=True)\n",
    "b = torch.zeros(1, requires_grad=True)\n",
    "# optimizer 설정\n",
    "optimizer = optim.SGD([W, b], lr=0.01)\n",
    "\n",
    "nb_epochs = 2500 # 원하는만큼 경사 하강법을 반복\n",
    "for epoch in range(nb_epochs + 1):\n",
    "\n",
    "    # H(x) 계산\n",
    "    hypothesis = x_train * W + b\n",
    "\n",
    "    # cost 계산\n",
    "    cost = torch.mean((hypothesis - y_train) ** 2)\n",
    "\n",
    "    # cost로 H(x) 개선\n",
    "    optimizer.zero_grad()\n",
    "    cost.backward()\n",
    "    optimizer.step()\n",
    "\n",
    "    # 100번마다 로그 출력\n",
    "    if epoch % 100 == 0:\n",
    "        print('Epoch {:4d}/{} W: {:.3f}, b: {:.3f} Cost: {:.6f}'.format(\n",
    "            epoch, nb_epochs, W.item(), b.item(), cost.item()\n",
    "        ))"
   ]
  },
  {
   "cell_type": "markdown",
   "metadata": {},
   "source": [
    "## optimizer.zero_grad()가 필요한 이유 \n",
    "\n",
    "파이토치는 미분을 통해 얻은 기울기를 이전에 계산된 기울기 값에 누적시키는 특징이 있음. "
   ]
  },
  {
   "cell_type": "code",
   "execution_count": 27,
   "metadata": {},
   "outputs": [
    {
     "name": "stdout",
     "output_type": "stream",
     "text": [
      "수식을 w로 미분한 값 : 2.0\n",
      "수식을 w로 미분한 값 : 4.0\n",
      "수식을 w로 미분한 값 : 6.0\n",
      "수식을 w로 미분한 값 : 8.0\n",
      "수식을 w로 미분한 값 : 10.0\n",
      "수식을 w로 미분한 값 : 12.0\n",
      "수식을 w로 미분한 값 : 14.0\n",
      "수식을 w로 미분한 값 : 16.0\n",
      "수식을 w로 미분한 값 : 18.0\n",
      "수식을 w로 미분한 값 : 20.0\n",
      "수식을 w로 미분한 값 : 22.0\n",
      "수식을 w로 미분한 값 : 24.0\n",
      "수식을 w로 미분한 값 : 26.0\n",
      "수식을 w로 미분한 값 : 28.0\n",
      "수식을 w로 미분한 값 : 30.0\n",
      "수식을 w로 미분한 값 : 32.0\n",
      "수식을 w로 미분한 값 : 34.0\n",
      "수식을 w로 미분한 값 : 36.0\n",
      "수식을 w로 미분한 값 : 38.0\n",
      "수식을 w로 미분한 값 : 40.0\n",
      "수식을 w로 미분한 값 : 42.0\n"
     ]
    }
   ],
   "source": [
    "import torch\n",
    "w = torch.tensor(2.0, requires_grad=True)\n",
    "\n",
    "nb_epochs = 20\n",
    "for epoch in range(nb_epochs + 1):\n",
    "  z = 2*w\n",
    "  # 기울기 계산 \n",
    "  z.backward()\n",
    "  print('수식을 w로 미분한 값 : {}'.format(w.grad))"
   ]
  },
  {
   "cell_type": "markdown",
   "metadata": {},
   "source": [
    "# 핵심정리 \n",
    "\n",
    "## 한 번만 \n",
    "\n",
    "1. 데이터 정의 \n",
    "2. W,b 초기화  \n",
    "3. Optimizer 정의\n",
    "\n",
    "## 반복 수행\n",
    "\n",
    "1. hypothesis 예측\n",
    "2. cost 계산\n",
    "3. Optimizer 로 학습\n",
    "\n",
    "## 결과 \n",
    "- W,b 가 각각 최적의 숫자로 수렴하게 됨."
   ]
  }
 ],
 "metadata": {
  "kernelspec": {
   "display_name": "Python 3",
   "language": "python",
   "name": "python3"
  },
  "language_info": {
   "codemirror_mode": {
    "name": "ipython",
    "version": 3
   },
   "file_extension": ".py",
   "mimetype": "text/x-python",
   "name": "python",
   "nbconvert_exporter": "python",
   "pygments_lexer": "ipython3",
   "version": "3.8.5"
  }
 },
 "nbformat": 4,
 "nbformat_minor": 4
}
