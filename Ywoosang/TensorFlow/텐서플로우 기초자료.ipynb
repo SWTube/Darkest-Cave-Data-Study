{
 "cells": [
  {
   "cell_type": "code",
   "execution_count": 1,
   "id": "greek-marijuana",
   "metadata": {},
   "outputs": [],
   "source": [
    "import numpy as np\n",
    "import tensorflow as tf"
   ]
  },
  {
   "cell_type": "code",
   "execution_count": 2,
   "id": "baking-episode",
   "metadata": {},
   "outputs": [
    {
     "name": "stdout",
     "output_type": "stream",
     "text": [
      "2.4.1\n"
     ]
    }
   ],
   "source": [
    "print(tf.__version__)"
   ]
  },
  {
   "cell_type": "code",
   "execution_count": 10,
   "id": "northern-burke",
   "metadata": {},
   "outputs": [],
   "source": [
    "# 텐서 객체\n",
    "#  타입 Type: string, float32, float16,int32,int8 등\n",
    "#  형상 Shape: 0,1,2 차원 등의 데이터 차원\n",
    "#  축 Rank: 차원의 개수"
   ]
  },
  {
   "cell_type": "markdown",
   "id": "alternate-bermuda",
   "metadata": {},
   "source": [
    "## 상수 텐서"
   ]
  },
  {
   "cell_type": "code",
   "execution_count": 6,
   "id": "sublime-donna",
   "metadata": {},
   "outputs": [
    {
     "name": "stdout",
     "output_type": "stream",
     "text": [
      "tf.Tensor(1, shape=(), dtype=int32)\n",
      "tf.Tensor([2 3], shape=(2,), dtype=int32)\n"
     ]
    }
   ],
   "source": [
    "# 2 와 3 이라는 값을 가지는 1차원 텐서 생성\n",
    "b = tf.constant([2,3]) \n",
    "print(tf.rank(b))\n",
    "print(b)"
   ]
  },
  {
   "cell_type": "code",
   "execution_count": 7,
   "id": "pleased-croatia",
   "metadata": {},
   "outputs": [
    {
     "name": "stdout",
     "output_type": "stream",
     "text": [
      "tf.Tensor(2, shape=(), dtype=int32)\n",
      "tf.Tensor(\n",
      "[[2 3]\n",
      " [6 7]], shape=(2, 2), dtype=int32)\n"
     ]
    }
   ],
   "source": [
    "# 2 차원 상수 텐서\n",
    "c = tf.constant([[2,3],[6,7]])\n",
    "print(tf.rank(c)) # shape 는 2 X 2 텐서이므로\n",
    "print(c)"
   ]
  },
  {
   "cell_type": "code",
   "execution_count": 9,
   "id": "bearing-sequence",
   "metadata": {},
   "outputs": [
    {
     "name": "stdout",
     "output_type": "stream",
     "text": [
      "tf.Tensor(1, shape=(), dtype=int32)\n",
      "tf.Tensor([b'world'], shape=(1,), dtype=string)\n"
     ]
    }
   ],
   "source": [
    "# 상수로 문자열을 넣어본다\n",
    "d = tf.constant(['world'])\n",
    "print(tf.rank(d)) # 1차원 텐서에 값이 하나 shape = (1,)\n",
    "print(d)  # 데이터 타입 string"
   ]
  },
  {
   "cell_type": "markdown",
   "id": "tropical-pencil",
   "metadata": {},
   "source": [
    "## 난수 생성"
   ]
  },
  {
   "cell_type": "code",
   "execution_count": 11,
   "id": "recovered-premiere",
   "metadata": {},
   "outputs": [
    {
     "name": "stdout",
     "output_type": "stream",
     "text": [
      "(1,)\n",
      "tf.Tensor([0.383664], shape=(1,), dtype=float32)\n"
     ]
    }
   ],
   "source": [
    "rand = tf.random.uniform([1],0,1) # shape 을 1로 가지는, 0 부터 1 까지  랜덤값\n",
    "print(rand.shape)\n",
    "print(rand)"
   ]
  },
  {
   "cell_type": "code",
   "execution_count": 12,
   "id": "plain-custody",
   "metadata": {},
   "outputs": [
    {
     "name": "stdout",
     "output_type": "stream",
     "text": [
      "(1, 2)\n",
      "tf.Tensor([[-0.34767434 -0.133413  ]], shape=(1, 2), dtype=float32)\n"
     ]
    }
   ],
   "source": [
    "rand2 = tf.random.normal([1,2],0,1) # 정규분포 normal 로 평균 mean 값이 0.0 이고 stddev=1.0 으로 지정\n",
    "print(rand2.shape)\n",
    "print(rand2)"
   ]
  },
  {
   "cell_type": "code",
   "execution_count": 13,
   "id": "saving-greenhouse",
   "metadata": {},
   "outputs": [
    {
     "name": "stdout",
     "output_type": "stream",
     "text": [
      "(3, 2)\n",
      "tf.Tensor(\n",
      "[[ 0.2585169   0.4375243 ]\n",
      " [ 0.1149057  -0.20234229]\n",
      " [-0.22788717 -1.0669224 ]], shape=(3, 2), dtype=float32)\n"
     ]
    }
   ],
   "source": [
    "rand3 = tf.random.normal(shape=(3,2),mean=0,stddev=1)\n",
    "print(rand3.shape)\n",
    "print(rand3)"
   ]
  },
  {
   "cell_type": "markdown",
   "id": "gentle-district",
   "metadata": {},
   "source": [
    "## 즉시 실행모드 (Eager Mode)"
   ]
  },
  {
   "cell_type": "code",
   "execution_count": 17,
   "id": "introductory-showcase",
   "metadata": {},
   "outputs": [
    {
     "name": "stdout",
     "output_type": "stream",
     "text": [
      "tf.Tensor(5, shape=(), dtype=int32)\n",
      "tf.Tensor(5, shape=(), dtype=int32)\n",
      "tf.Tensor(1, shape=(), dtype=int32)\n",
      "tf.Tensor(1, shape=(), dtype=int32)\n",
      "tf.Tensor(6, shape=(), dtype=int32)\n",
      "tf.Tensor(6, shape=(), dtype=int32)\n"
     ]
    }
   ],
   "source": [
    "a = tf.constant(3)\n",
    "b = tf.constant(2)\n",
    "#\n",
    "print(tf.add(a,b))\n",
    "print(a+b)\n",
    "# \n",
    "print(tf.subtract(a,b))\n",
    "print(a-b)\n",
    "# \n",
    "print(tf.multiply(a,b))\n",
    "print(a*b)"
   ]
  },
  {
   "cell_type": "markdown",
   "id": "hydraulic-enough",
   "metadata": {},
   "source": [
    "## 텐서플로우 <-> 넘파이\n",
    "```py\n",
    "numpy()\n",
    "tf.convet_to_tensor()\n",
    "```"
   ]
  },
  {
   "cell_type": "code",
   "execution_count": 24,
   "id": "blind-start",
   "metadata": {},
   "outputs": [
    {
     "name": "stdout",
     "output_type": "stream",
     "text": [
      "5\n",
      "<class 'numpy.int32'>\n"
     ]
    }
   ],
   "source": [
    "# a=3, b=2 \n",
    "c = tf.add(a,b).numpy() # 5\n",
    "print(c)\n",
    "print(type(c))"
   ]
  },
  {
   "cell_type": "code",
   "execution_count": 21,
   "id": "polyphonic-phenomenon",
   "metadata": {},
   "outputs": [
    {
     "name": "stdout",
     "output_type": "stream",
     "text": [
      "tf.Tensor(25.0, shape=(), dtype=float32)\n",
      "<class 'tensorflow.python.framework.ops.EagerTensor'>\n"
     ]
    }
   ],
   "source": [
    "# numpy 타입으로 5 값을 np.square 로 (5 의 square 값) 25 \n",
    "# float32 타입으로 변환하므로 25.0 \n",
    "c_square = np.square(c,dtype= np.float32)\n",
    "c_tensor = tf.convert_to_tensor(c_square)\n",
    "\n",
    "print(c_tensor)\n",
    "print(type(c_tensor)) # 즉시실행모드 EagerMode "
   ]
  },
  {
   "cell_type": "markdown",
   "id": "everyday-democracy",
   "metadata": {},
   "source": [
    "## 넘파이처럼 사용"
   ]
  },
  {
   "cell_type": "code",
   "execution_count": 26,
   "id": "alleged-uruguay",
   "metadata": {},
   "outputs": [
    {
     "name": "stdout",
     "output_type": "stream",
     "text": [
      "tf.Tensor(\n",
      "[[1. 2. 3.]\n",
      " [4. 5. 6.]], shape=(2, 3), dtype=float32)\n",
      "<dtype: 'float32'>\n"
     ]
    }
   ],
   "source": [
    "t = tf.constant([[1.,2.,3.],[4.,5.,6.]])\n",
    "print(t)\n",
    "print(t.dtype)"
   ]
  },
  {
   "cell_type": "code",
   "execution_count": 27,
   "id": "located-today",
   "metadata": {},
   "outputs": [
    {
     "name": "stdout",
     "output_type": "stream",
     "text": [
      "tf.Tensor(\n",
      "[[2. 3.]\n",
      " [5. 6.]], shape=(2, 2), dtype=float32)\n"
     ]
    }
   ],
   "source": [
    "# 텐서 슬라이싱 2,3 \n",
    "# 첫번째 차원 전부, 두번째 차원 인덱스 1부터 \n",
    "# 0 번째인 1,4 날라감 \n",
    "print(t[:,1:]) # [[2.,3.],[5.,6.]]"
   ]
  },
  {
   "cell_type": "code",
   "execution_count": 28,
   "id": "mathematical-yesterday",
   "metadata": {},
   "outputs": [
    {
     "data": {
      "text/plain": [
       "<tf.Tensor: shape=(2, 1), dtype=float32, numpy=\n",
       "array([[2.],\n",
       "       [5.]], dtype=float32)>"
      ]
     },
     "execution_count": 28,
     "metadata": {},
     "output_type": "execute_result"
    }
   ],
   "source": [
    "### ... : 알아서, 1 : 첫번째 해당하는 것만 (여기서는 2,5만)\n",
    "t[...,1,tf.newaxis]"
   ]
  },
  {
   "cell_type": "code",
   "execution_count": 29,
   "id": "hybrid-anchor",
   "metadata": {},
   "outputs": [
    {
     "data": {
      "text/plain": [
       "<tf.Tensor: shape=(2, 3), dtype=float32, numpy=\n",
       "array([[11., 12., 13.],\n",
       "       [14., 15., 16.]], dtype=float32)>"
      ]
     },
     "execution_count": 29,
     "metadata": {},
     "output_type": "execute_result"
    }
   ],
   "source": [
    "# 각 요소에 대해 \n",
    "t + 10 "
   ]
  },
  {
   "cell_type": "code",
   "execution_count": 30,
   "id": "mathematical-kansas",
   "metadata": {},
   "outputs": [
    {
     "data": {
      "text/plain": [
       "<tf.Tensor: shape=(2, 3), dtype=float32, numpy=\n",
       "array([[ 1.,  4.,  9.],\n",
       "       [16., 25., 36.]], dtype=float32)>"
      ]
     },
     "execution_count": 30,
     "metadata": {},
     "output_type": "execute_result"
    }
   ],
   "source": [
    "tf.square(t)"
   ]
  },
  {
   "cell_type": "code",
   "execution_count": 31,
   "id": "approximate-bronze",
   "metadata": {},
   "outputs": [
    {
     "data": {
      "text/plain": [
       "<tf.Tensor: shape=(2, 2), dtype=float32, numpy=\n",
       "array([[14., 32.],\n",
       "       [32., 77.]], dtype=float32)>"
      ]
     },
     "execution_count": 31,
     "metadata": {},
     "output_type": "execute_result"
    }
   ],
   "source": [
    "# 텐서 곱연산 2X3 * 3X2 \n",
    "t @ tf.transpose(t) "
   ]
  },
  {
   "cell_type": "code",
   "execution_count": 35,
   "id": "hydraulic-dragon",
   "metadata": {},
   "outputs": [
    {
     "name": "stdout",
     "output_type": "stream",
     "text": [
      "tf.Tensor(2, shape=(), dtype=int32)\n",
      "tf.Tensor(2.0, shape=(), dtype=float32)\n",
      "cannot compute AddV2 as input #1(zero-based) was expected to be a int32 tensor but is a float tensor [Op:AddV2]\n"
     ]
    }
   ],
   "source": [
    "# 연산시 텐서의 타입을 맞춰줘야 한다.\n",
    "# 타입 변환에는 tf.cast() 를 사용한다. \n",
    "a = tf.constant(2)\n",
    "print(a)\n",
    "b = tf.constant(2.0)\n",
    "print(b)\n",
    "\n",
    "try:\n",
    "    a + b\n",
    "except Exception as e: # 텐서 타입이 맞지 않아 발생하는 오류\n",
    "    print(e)"
   ]
  },
  {
   "cell_type": "code",
   "execution_count": 37,
   "id": "frequent-friday",
   "metadata": {},
   "outputs": [
    {
     "name": "stdout",
     "output_type": "stream",
     "text": [
      "cannot compute AddV2 as input #1(zero-based) was expected to be a float tensor but is a double tensor [Op:AddV2]\n"
     ]
    }
   ],
   "source": [
    "try:\n",
    "    tf.constant(2.) + tf.constant(30.,dtype=tf.float64) # 타입이 float32, float64 로 서로 다르다\n",
    "except Exception as e:\n",
    "    print(e)"
   ]
  },
  {
   "cell_type": "code",
   "execution_count": 38,
   "id": "meaning-pharmaceutical",
   "metadata": {},
   "outputs": [
    {
     "name": "stdout",
     "output_type": "stream",
     "text": [
      "tf.Tensor(34.0, shape=(), dtype=float32)\n"
     ]
    }
   ],
   "source": [
    "t = tf.constant(30.,dtype = tf.float64)\n",
    "t2 = tf.constant(4.)\n",
    "print(t2 + tf.cast(t,tf.float32))"
   ]
  },
  {
   "cell_type": "markdown",
   "id": "competent-syndicate",
   "metadata": {},
   "source": [
    "## AutoGraph \n",
    "텐서플로우가 작업을 더 빠르게 동작하기 위한 방법으로 Graph 로 만들어 연산을 진행\n",
    "`tf.Graph`"
   ]
  },
  {
   "cell_type": "code",
   "execution_count": null,
   "id": "printable-rugby",
   "metadata": {},
   "outputs": [],
   "source": [
    "# @tf.function\n",
    "# 자동으로 그래프를 생성 (Auto Graph)\n",
    "# 그래프로 변환하여 사용 -> GPU 연산 가능\n",
    "# 파이썬으로 구성된 함수를 텐서플로우의 그래프 형태로 다루고 싶을 때 사용가능\n",
    "# 원본 함수가 필요하다면 (tf.function).python_function()"
   ]
  },
  {
   "cell_type": "code",
   "execution_count": 40,
   "id": "false-stocks",
   "metadata": {},
   "outputs": [
    {
     "name": "stdout",
     "output_type": "stream",
     "text": [
      "tf.Tensor(-13, shape=(), dtype=int32)\n",
      "tf.Tensor(-13, shape=(), dtype=int32)\n"
     ]
    }
   ],
   "source": [
    "# 텐서 형태로 결과를 리턴해준다. \n",
    "@tf.function\n",
    "def my_function(x):\n",
    "    return x**2 - 10*x +3\n",
    "\n",
    "print(my_function(2))\n",
    "print(my_function(tf.constant(2)))"
   ]
  }
 ],
 "metadata": {
  "kernelspec": {
   "display_name": "Python 3",
   "language": "python",
   "name": "python3"
  },
  "language_info": {
   "codemirror_mode": {
    "name": "ipython",
    "version": 3
   },
   "file_extension": ".py",
   "mimetype": "text/x-python",
   "name": "python",
   "nbconvert_exporter": "python",
   "pygments_lexer": "ipython3",
   "version": "3.8.8"
  }
 },
 "nbformat": 4,
 "nbformat_minor": 5
}
